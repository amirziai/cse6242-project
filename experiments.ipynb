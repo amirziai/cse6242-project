{
 "cells": [
  {
   "cell_type": "code",
   "execution_count": 1,
   "metadata": {},
   "outputs": [],
   "source": [
    "%matplotlib inline"
   ]
  },
  {
   "cell_type": "code",
   "execution_count": 119,
   "metadata": {},
   "outputs": [],
   "source": [
    "import numpy as np\n",
    "import matplotlib.pyplot as plt\n",
    "from scipy.cluster.vq import kmeans2\n",
    "from scipy.spatial.distance import cdist\n",
    "import pandas as pd\n",
    "from sklearn.datasets import fetch_20newsgroups\n",
    "from sklearn.cluster import Birch, SpectralClustering, AffinityPropagation, KMeans\n",
    "from time import time\n",
    "\n",
    "import datasets\n",
    "import preprocessing\n",
    "import interactive\n",
    "import metrics"
   ]
  },
  {
   "cell_type": "code",
   "execution_count": 98,
   "metadata": {},
   "outputs": [],
   "source": [
    "ARTICLES_IN_CORPUS = 2000\n",
    "MAX_FEATURES = 1000\n",
    "STOP_WORDS = 'english'\n",
    "DATASET_PATH = 'resources/datasets/'\n",
    "\n",
    "TWENTY_NEWS = fetch_20newsgroups(shuffle=True, remove=('headers', 'footers', 'quotes'))\n",
    "ALL_THE_NEWS = pd.read_csv(f\"{DATASET_PATH}articles1.csv\", nrows=ARTICLES_IN_CORPUS)\n",
    "BBC = pd.read_csv(f\"{DATASET_PATH}bbc-text.csv\", nrows=ARTICLES_IN_CORPUS)"
   ]
  },
  {
   "cell_type": "code",
   "execution_count": 195,
   "metadata": {},
   "outputs": [
    {
     "data": {
      "text/plain": [
       "(2225, 2)"
      ]
     },
     "execution_count": 195,
     "metadata": {},
     "output_type": "execute_result"
    }
   ],
   "source": [
    "pd.read_csv(f\"{DATASET_PATH}bbc-text.csv\").shape"
   ]
  },
  {
   "cell_type": "code",
   "execution_count": 99,
   "metadata": {},
   "outputs": [],
   "source": [
    "texts = {\n",
    "    'bbc': BBC.text,\n",
    "    '20news': TWENTY_NEWS.data[:ARTICLES_IN_CORPUS],\n",
    "    'allthenews': ALL_THE_NEWS.content\n",
    "}\n",
    "labels = {\n",
    "    'bbc': BBC.category,\n",
    "    '20news': pd.Series([TWENTY_NEWS['target_names'][label_index]\n",
    "               for label_index in TWENTY_NEWS['target'][:ARTICLES_IN_CORPUS]])\n",
    "}\n",
    "\n",
    "vectorizers = {name: preprocessing.NLPProcessor(max_features=MAX_FEATURES, stop_words=STOP_WORDS)\n",
    "               for name in texts}\n",
    "features = {name: vectorizers[name].fit_transform(texts[name]) for name in texts}\n",
    "terms = {name: vectorizers[name].vec.get_feature_names() for name in texts}"
   ]
  },
  {
   "cell_type": "code",
   "execution_count": 100,
   "metadata": {},
   "outputs": [
    {
     "data": {
      "text/plain": [
       "sport            0.2340\n",
       "business         0.2275\n",
       "politics         0.1880\n",
       "entertainment    0.1765\n",
       "tech             0.1740\n",
       "Name: category, dtype: float64"
      ]
     },
     "execution_count": 100,
     "metadata": {},
     "output_type": "execute_result"
    }
   ],
   "source": [
    "labels['bbc'].value_counts(normalize=True)"
   ]
  },
  {
   "cell_type": "code",
   "execution_count": 101,
   "metadata": {},
   "outputs": [
    {
     "data": {
      "text/plain": [
       "soc.religion.christian      0.0590\n",
       "comp.os.ms-windows.misc     0.0565\n",
       "rec.motorcycles             0.0555\n",
       "sci.electronics             0.0550\n",
       "rec.autos                   0.0545\n",
       "misc.forsale                0.0540\n",
       "comp.sys.mac.hardware       0.0540\n",
       "rec.sport.hockey            0.0540\n",
       "rec.sport.baseball          0.0530\n",
       "sci.crypt                   0.0525\n",
       "sci.med                     0.0520\n",
       "talk.politics.mideast       0.0510\n",
       "comp.windows.x              0.0505\n",
       "talk.politics.guns          0.0500\n",
       "comp.sys.ibm.pc.hardware    0.0475\n",
       "comp.graphics               0.0460\n",
       "sci.space                   0.0435\n",
       "alt.atheism                 0.0430\n",
       "talk.politics.misc          0.0380\n",
       "talk.religion.misc          0.0305\n",
       "dtype: float64"
      ]
     },
     "execution_count": 101,
     "metadata": {},
     "output_type": "execute_result"
    }
   ],
   "source": [
    "labels['20news'].value_counts(normalize=True)"
   ]
  },
  {
   "cell_type": "code",
   "execution_count": 102,
   "metadata": {},
   "outputs": [],
   "source": [
    "assert labels['bbc'].nunique() == 5\n",
    "assert labels['20news'].nunique() == 20"
   ]
  },
  {
   "cell_type": "code",
   "execution_count": 103,
   "metadata": {},
   "outputs": [],
   "source": [
    "assert list(map(len, texts.values())) == [ARTICLES_IN_CORPUS] * 3"
   ]
  },
  {
   "cell_type": "code",
   "execution_count": 108,
   "metadata": {},
   "outputs": [],
   "source": [
    "labeled = {'bbc': 5, '20news': 20}\n",
    "\n",
    "algos = {\n",
    "    KMeans,\n",
    "    AffinityPropagation,\n",
    "    SpectralClustering,\n",
    "    Birch\n",
    "}"
   ]
  },
  {
   "cell_type": "code",
   "execution_count": 143,
   "metadata": {},
   "outputs": [
    {
     "name": "stdout",
     "output_type": "stream",
     "text": [
      "trying bbc and <class 'sklearn.cluster.k_means_.KMeans'>\n"
     ]
    },
    {
     "name": "stderr",
     "output_type": "stream",
     "text": [
      "/anaconda3/lib/python3.6/site-packages/sklearn/metrics/cluster/supervised.py:732: FutureWarning: The behavior of AMI will change in version 0.22. To match the behavior of 'v_measure_score', AMI will use average_method='arithmetic' by default.\n",
      "  FutureWarning)\n"
     ]
    },
    {
     "name": "stdout",
     "output_type": "stream",
     "text": [
      "{'name': 'bbc', 'algo': 'KMeans', 'ami': 0.7589299120313606, 'ari': 0.7682124779363028, 'homogeneity': 0.759534199478192, 'completeness': 0.7771736272767589, 'vmeasure': 0.7682526744146604, 'time': 11.679721117019653}\n",
      "trying 20news and <class 'sklearn.cluster.k_means_.KMeans'>\n"
     ]
    },
    {
     "name": "stderr",
     "output_type": "stream",
     "text": [
      "/anaconda3/lib/python3.6/site-packages/sklearn/metrics/cluster/supervised.py:732: FutureWarning: The behavior of AMI will change in version 0.22. To match the behavior of 'v_measure_score', AMI will use average_method='arithmetic' by default.\n",
      "  FutureWarning)\n"
     ]
    },
    {
     "name": "stdout",
     "output_type": "stream",
     "text": [
      "{'name': '20news', 'algo': 'KMeans', 'ami': 0.21275130249384677, 'ari': 0.07107686994002867, 'homogeneity': 0.23834874636853356, 'completeness': 0.2564456251196784, 'vmeasure': 0.24706624319564024, 'time': 3.3954741954803467}\n",
      "trying bbc and <class 'sklearn.cluster.birch.Birch'>\n"
     ]
    },
    {
     "name": "stderr",
     "output_type": "stream",
     "text": [
      "/anaconda3/lib/python3.6/site-packages/sklearn/metrics/cluster/supervised.py:732: FutureWarning: The behavior of AMI will change in version 0.22. To match the behavior of 'v_measure_score', AMI will use average_method='arithmetic' by default.\n",
      "  FutureWarning)\n"
     ]
    },
    {
     "name": "stdout",
     "output_type": "stream",
     "text": [
      "{'name': 'bbc', 'algo': 'Birch', 'ami': 0.51881635984108, 'ari': 0.4595031362196219, 'homogeneity': 0.5200234554116147, 'completeness': 0.5676643141130006, 'vmeasure': 0.542800547013462, 'time': 1.9231159687042236}\n",
      "trying 20news and <class 'sklearn.cluster.birch.Birch'>\n"
     ]
    },
    {
     "name": "stderr",
     "output_type": "stream",
     "text": [
      "/anaconda3/lib/python3.6/site-packages/sklearn/metrics/cluster/supervised.py:732: FutureWarning: The behavior of AMI will change in version 0.22. To match the behavior of 'v_measure_score', AMI will use average_method='arithmetic' by default.\n",
      "  FutureWarning)\n"
     ]
    },
    {
     "name": "stdout",
     "output_type": "stream",
     "text": [
      "{'name': '20news', 'algo': 'Birch', 'ami': 0.17227248717322152, 'ari': 0.04205658851852501, 'homogeneity': 0.19981686984644084, 'completeness': 0.2654638362734414, 'vmeasure': 0.22800925172220654, 'time': 2.324589729309082}\n",
      "trying bbc and <class 'sklearn.cluster.affinity_propagation_.AffinityPropagation'>\n",
      "{'name': 'bbc', 'algo': 'AffinityPropagation', 'ami': 0.21044185205322666, 'ari': 0.028890470717590714, 'homogeneity': 0.8705194802364914, 'completeness': 0.2561439634251427, 'vmeasure': 0.39582061734761703, 'time': 11.44703483581543}\n",
      "trying 20news and <class 'sklearn.cluster.affinity_propagation_.AffinityPropagation'>\n",
      "{'name': '20news', 'algo': 'AffinityPropagation', 'ami': 0.009386270083282204, 'ari': 0.0018507799576087693, 'homogeneity': 0.1595410871811317, 'completeness': 0.11078185247604079, 'vmeasure': 0.13076402029647982, 'time': 7.350111961364746}\n",
      "trying bbc and <class 'sklearn.cluster.spectral.SpectralClustering'>\n"
     ]
    },
    {
     "name": "stderr",
     "output_type": "stream",
     "text": [
      "/anaconda3/lib/python3.6/site-packages/sklearn/metrics/cluster/supervised.py:732: FutureWarning: The behavior of AMI will change in version 0.22. To match the behavior of 'v_measure_score', AMI will use average_method='arithmetic' by default.\n",
      "  FutureWarning)\n"
     ]
    },
    {
     "name": "stdout",
     "output_type": "stream",
     "text": [
      "{'name': 'bbc', 'algo': 'SpectralClustering', 'ami': 0.6488100754841307, 'ari': 0.611968423020058, 'homogeneity': 0.6496908776524083, 'completeness': 0.6929824480322945, 'vmeasure': 0.6706387417508599, 'time': 0.5402779579162598}\n",
      "trying 20news and <class 'sklearn.cluster.spectral.SpectralClustering'>\n",
      "{'name': '20news', 'algo': 'SpectralClustering', 'ami': 0.19745767911207757, 'ari': 0.05034881593512607, 'homogeneity': 0.22385891600236385, 'completeness': 0.2655311098049059, 'vmeasure': 0.2429207922976345, 'time': 0.8547642230987549}\n"
     ]
    },
    {
     "name": "stderr",
     "output_type": "stream",
     "text": [
      "/anaconda3/lib/python3.6/site-packages/sklearn/metrics/cluster/supervised.py:732: FutureWarning: The behavior of AMI will change in version 0.22. To match the behavior of 'v_measure_score', AMI will use average_method='arithmetic' by default.\n",
      "  FutureWarning)\n"
     ]
    }
   ],
   "source": [
    "out = []\n",
    "\n",
    "for algo in algos:\n",
    "    for name in labeled:\n",
    "        print(f'trying {name} and {algo}')\n",
    "        clusterer = algo() if algo == AffinityPropagation else algo(n_clusters=labeled[name])\n",
    "        wall_time = time()\n",
    "        preds = clusterer.fit_predict(features[name])\n",
    "        scorer = metrics.GroundTruthMetrics(labels[name], preds)\n",
    "        ami = scorer.adjusted_mutual_info_score()\n",
    "        ari = scorer.adjusted_rand_index()\n",
    "        h, c, v = scorer.homogeneity_completeness_v_measure()\n",
    "        wall_time = time() - wall_time\n",
    "        record = {'name': name, 'algo': clusterer.__class__.__name__,\n",
    "                  'ami': ami, 'ari': ari, 'homogeneity': h, 'completeness': c, 'vmeasure': v,\n",
    "                  'time': wall_time}\n",
    "        print(record)\n",
    "        out.append(record)"
   ]
  },
  {
   "cell_type": "code",
   "execution_count": 146,
   "metadata": {},
   "outputs": [
    {
     "data": {
      "text/html": [
       "<div>\n",
       "<style scoped>\n",
       "    .dataframe tbody tr th:only-of-type {\n",
       "        vertical-align: middle;\n",
       "    }\n",
       "\n",
       "    .dataframe tbody tr th {\n",
       "        vertical-align: top;\n",
       "    }\n",
       "\n",
       "    .dataframe thead th {\n",
       "        text-align: right;\n",
       "    }\n",
       "</style>\n",
       "<table border=\"1\" class=\"dataframe\">\n",
       "  <thead>\n",
       "    <tr style=\"text-align: right;\">\n",
       "      <th></th>\n",
       "      <th>algo</th>\n",
       "      <th>ami</th>\n",
       "      <th>ari</th>\n",
       "      <th>completeness</th>\n",
       "      <th>homogeneity</th>\n",
       "      <th>name</th>\n",
       "      <th>time</th>\n",
       "      <th>vmeasure</th>\n",
       "    </tr>\n",
       "  </thead>\n",
       "  <tbody>\n",
       "    <tr>\n",
       "      <th>0</th>\n",
       "      <td>KMeans</td>\n",
       "      <td>0.758930</td>\n",
       "      <td>0.768212</td>\n",
       "      <td>0.777174</td>\n",
       "      <td>0.759534</td>\n",
       "      <td>bbc</td>\n",
       "      <td>11.679721</td>\n",
       "      <td>0.768253</td>\n",
       "    </tr>\n",
       "    <tr>\n",
       "      <th>6</th>\n",
       "      <td>SpectralClustering</td>\n",
       "      <td>0.648810</td>\n",
       "      <td>0.611968</td>\n",
       "      <td>0.692982</td>\n",
       "      <td>0.649691</td>\n",
       "      <td>bbc</td>\n",
       "      <td>0.540278</td>\n",
       "      <td>0.670639</td>\n",
       "    </tr>\n",
       "    <tr>\n",
       "      <th>2</th>\n",
       "      <td>Birch</td>\n",
       "      <td>0.518816</td>\n",
       "      <td>0.459503</td>\n",
       "      <td>0.567664</td>\n",
       "      <td>0.520023</td>\n",
       "      <td>bbc</td>\n",
       "      <td>1.923116</td>\n",
       "      <td>0.542801</td>\n",
       "    </tr>\n",
       "    <tr>\n",
       "      <th>1</th>\n",
       "      <td>KMeans</td>\n",
       "      <td>0.212751</td>\n",
       "      <td>0.071077</td>\n",
       "      <td>0.256446</td>\n",
       "      <td>0.238349</td>\n",
       "      <td>20news</td>\n",
       "      <td>3.395474</td>\n",
       "      <td>0.247066</td>\n",
       "    </tr>\n",
       "    <tr>\n",
       "      <th>4</th>\n",
       "      <td>AffinityPropagation</td>\n",
       "      <td>0.210442</td>\n",
       "      <td>0.028890</td>\n",
       "      <td>0.256144</td>\n",
       "      <td>0.870519</td>\n",
       "      <td>bbc</td>\n",
       "      <td>11.447035</td>\n",
       "      <td>0.395821</td>\n",
       "    </tr>\n",
       "    <tr>\n",
       "      <th>7</th>\n",
       "      <td>SpectralClustering</td>\n",
       "      <td>0.197458</td>\n",
       "      <td>0.050349</td>\n",
       "      <td>0.265531</td>\n",
       "      <td>0.223859</td>\n",
       "      <td>20news</td>\n",
       "      <td>0.854764</td>\n",
       "      <td>0.242921</td>\n",
       "    </tr>\n",
       "    <tr>\n",
       "      <th>3</th>\n",
       "      <td>Birch</td>\n",
       "      <td>0.172272</td>\n",
       "      <td>0.042057</td>\n",
       "      <td>0.265464</td>\n",
       "      <td>0.199817</td>\n",
       "      <td>20news</td>\n",
       "      <td>2.324590</td>\n",
       "      <td>0.228009</td>\n",
       "    </tr>\n",
       "    <tr>\n",
       "      <th>5</th>\n",
       "      <td>AffinityPropagation</td>\n",
       "      <td>0.009386</td>\n",
       "      <td>0.001851</td>\n",
       "      <td>0.110782</td>\n",
       "      <td>0.159541</td>\n",
       "      <td>20news</td>\n",
       "      <td>7.350112</td>\n",
       "      <td>0.130764</td>\n",
       "    </tr>\n",
       "  </tbody>\n",
       "</table>\n",
       "</div>"
      ],
      "text/plain": [
       "                  algo       ami       ari  completeness  homogeneity    name  \\\n",
       "0               KMeans  0.758930  0.768212      0.777174     0.759534     bbc   \n",
       "6   SpectralClustering  0.648810  0.611968      0.692982     0.649691     bbc   \n",
       "2                Birch  0.518816  0.459503      0.567664     0.520023     bbc   \n",
       "1               KMeans  0.212751  0.071077      0.256446     0.238349  20news   \n",
       "4  AffinityPropagation  0.210442  0.028890      0.256144     0.870519     bbc   \n",
       "7   SpectralClustering  0.197458  0.050349      0.265531     0.223859  20news   \n",
       "3                Birch  0.172272  0.042057      0.265464     0.199817  20news   \n",
       "5  AffinityPropagation  0.009386  0.001851      0.110782     0.159541  20news   \n",
       "\n",
       "        time  vmeasure  \n",
       "0  11.679721  0.768253  \n",
       "6   0.540278  0.670639  \n",
       "2   1.923116  0.542801  \n",
       "1   3.395474  0.247066  \n",
       "4  11.447035  0.395821  \n",
       "7   0.854764  0.242921  \n",
       "3   2.324590  0.228009  \n",
       "5   7.350112  0.130764  "
      ]
     },
     "execution_count": 146,
     "metadata": {},
     "output_type": "execute_result"
    }
   ],
   "source": [
    "pd.DataFrame(out).sort_values(by='ami', ascending=False)"
   ]
  },
  {
   "cell_type": "markdown",
   "metadata": {},
   "source": [
    "### iKMeans"
   ]
  },
  {
   "cell_type": "markdown",
   "metadata": {},
   "source": [
    "#### bbc"
   ]
  },
  {
   "cell_type": "code",
   "execution_count": 172,
   "metadata": {},
   "outputs": [],
   "source": [
    "focus = 'bbc'\n",
    "user_input = [\n",
    "    ['government', 'tony', 'blair', 'party', 'liberal'],\n",
    "    ['film', 'award', 'actor', 'actress', 'singer', 'oscar'],\n",
    "    ['game', 'match', 'cup', 'victory', 'football', 'soccer', 'season'],\n",
    "    ['economy', 'growth', 'oil', 'shares', 'demand', 'analyst'],\n",
    "    ['digital', 'internet', 'phone', 'technology', 'internet']\n",
    "]\n",
    "\n",
    "wall_time = time()\n",
    "clusters_docs, cluster_key_terms, key_terms, silhouette_avg = interactive.icluster(features[focus].todense(),\n",
    "                                                                                   np.array(terms[focus]).reshape(1, -1),\n",
    "                                                                                 user_input,\n",
    "                                                                                   labeled[focus],\n",
    "                                                                                   1)\n",
    "wall_time = time() - wall_time"
   ]
  },
  {
   "cell_type": "code",
   "execution_count": 180,
   "metadata": {},
   "outputs": [
    {
     "name": "stderr",
     "output_type": "stream",
     "text": [
      "/anaconda3/lib/python3.6/site-packages/sklearn/metrics/cluster/supervised.py:732: FutureWarning: The behavior of AMI will change in version 0.22. To match the behavior of 'v_measure_score', AMI will use average_method='arithmetic' by default.\n",
      "  FutureWarning)\n"
     ]
    }
   ],
   "source": [
    "preds_dict = {\n",
    "    doc - 1: i\n",
    "    for i, docs in enumerate(clusters_docs)\n",
    "    for doc in docs\n",
    "}\n",
    "preds_label = [preds_dict[i] for i in range(ARTICLES_IN_CORPUS)]\n",
    "scorer = metrics.GroundTruthMetrics(labels[focus], preds_label)\n",
    "ami = scorer.adjusted_mutual_info_score()\n",
    "ari = scorer.adjusted_rand_index()\n",
    "h, c, v = scorer.homogeneity_completeness_v_measure()"
   ]
  },
  {
   "cell_type": "code",
   "execution_count": 182,
   "metadata": {},
   "outputs": [
    {
     "data": {
      "text/plain": [
       "0.7657592463562864"
      ]
     },
     "execution_count": 182,
     "metadata": {},
     "output_type": "execute_result"
    }
   ],
   "source": [
    "ami"
   ]
  },
  {
   "cell_type": "code",
   "execution_count": 183,
   "metadata": {},
   "outputs": [
    {
     "data": {
      "text/plain": [
       "0.8060840810692051"
      ]
     },
     "execution_count": 183,
     "metadata": {},
     "output_type": "execute_result"
    }
   ],
   "source": [
    "ari"
   ]
  },
  {
   "cell_type": "code",
   "execution_count": 185,
   "metadata": {},
   "outputs": [
    {
     "data": {
      "text/plain": [
       "0.7663462316644689"
      ]
     },
     "execution_count": 185,
     "metadata": {},
     "output_type": "execute_result"
    }
   ],
   "source": [
    "h"
   ]
  },
  {
   "cell_type": "code",
   "execution_count": 186,
   "metadata": {},
   "outputs": [
    {
     "data": {
      "text/plain": [
       "0.768047342702954"
      ]
     },
     "execution_count": 186,
     "metadata": {},
     "output_type": "execute_result"
    }
   ],
   "source": [
    "v"
   ]
  },
  {
   "cell_type": "code",
   "execution_count": 187,
   "metadata": {},
   "outputs": [
    {
     "data": {
      "text/plain": [
       "0.7697560226873126"
      ]
     },
     "execution_count": 187,
     "metadata": {},
     "output_type": "execute_result"
    }
   ],
   "source": [
    "c"
   ]
  },
  {
   "cell_type": "markdown",
   "metadata": {},
   "source": [
    "### importance of K"
   ]
  },
  {
   "cell_type": "code",
   "execution_count": 191,
   "metadata": {},
   "outputs": [
    {
     "name": "stdout",
     "output_type": "stream",
     "text": [
      "trying bbc and <class 'sklearn.cluster.k_means_.KMeans'>\n"
     ]
    },
    {
     "name": "stderr",
     "output_type": "stream",
     "text": [
      "/anaconda3/lib/python3.6/site-packages/sklearn/metrics/cluster/supervised.py:732: FutureWarning: The behavior of AMI will change in version 0.22. To match the behavior of 'v_measure_score', AMI will use average_method='arithmetic' by default.\n",
      "  FutureWarning)\n"
     ]
    },
    {
     "name": "stdout",
     "output_type": "stream",
     "text": [
      "{'name': 'bbc', 'algo': 'KMeans', 'k': 2, 'ami': 0.30969046273906115, 'ari': 0.30694241936911354, 'homogeneity': 0.3101222548930779, 'completeness': 0.7418478923618657, 'vmeasure': 0.4373955701447933, 'time': 9.986953973770142}\n",
      "trying bbc and <class 'sklearn.cluster.k_means_.KMeans'>\n"
     ]
    },
    {
     "name": "stderr",
     "output_type": "stream",
     "text": [
      "/anaconda3/lib/python3.6/site-packages/sklearn/metrics/cluster/supervised.py:732: FutureWarning: The behavior of AMI will change in version 0.22. To match the behavior of 'v_measure_score', AMI will use average_method='arithmetic' by default.\n",
      "  FutureWarning)\n"
     ]
    },
    {
     "name": "stdout",
     "output_type": "stream",
     "text": [
      "{'name': 'bbc', 'algo': 'KMeans', 'k': 5, 'ami': 0.7242483542377041, 'ari': 0.7211374523726868, 'homogeneity': 0.724939669061785, 'completeness': 0.7484617801253705, 'vmeasure': 0.736512965273403, 'time': 11.569300413131714}\n",
      "trying bbc and <class 'sklearn.cluster.k_means_.KMeans'>\n"
     ]
    },
    {
     "name": "stderr",
     "output_type": "stream",
     "text": [
      "/anaconda3/lib/python3.6/site-packages/sklearn/metrics/cluster/supervised.py:732: FutureWarning: The behavior of AMI will change in version 0.22. To match the behavior of 'v_measure_score', AMI will use average_method='arithmetic' by default.\n",
      "  FutureWarning)\n"
     ]
    },
    {
     "name": "stdout",
     "output_type": "stream",
     "text": [
      "{'name': 'bbc', 'algo': 'KMeans', 'k': 10, 'ami': 0.5374823131528914, 'ari': 0.44262602477843566, 'homogeneity': 0.749583123149188, 'completeness': 0.5393649636937496, 'vmeasure': 0.627331508739148, 'time': 14.50144100189209}\n",
      "trying bbc and <class 'sklearn.cluster.k_means_.KMeans'>\n"
     ]
    },
    {
     "name": "stderr",
     "output_type": "stream",
     "text": [
      "/anaconda3/lib/python3.6/site-packages/sklearn/metrics/cluster/supervised.py:732: FutureWarning: The behavior of AMI will change in version 0.22. To match the behavior of 'v_measure_score', AMI will use average_method='arithmetic' by default.\n",
      "  FutureWarning)\n"
     ]
    },
    {
     "name": "stdout",
     "output_type": "stream",
     "text": [
      "{'name': 'bbc', 'algo': 'KMeans', 'k': 15, 'ami': 0.5001197852602904, 'ari': 0.3832097727504691, 'homogeneity': 0.8162412607629222, 'completeness': 0.5028422322585107, 'vmeasure': 0.6223117487178803, 'time': 12.86903977394104}\n",
      "trying bbc and <class 'sklearn.cluster.k_means_.KMeans'>\n"
     ]
    },
    {
     "name": "stderr",
     "output_type": "stream",
     "text": [
      "/anaconda3/lib/python3.6/site-packages/sklearn/metrics/cluster/supervised.py:732: FutureWarning: The behavior of AMI will change in version 0.22. To match the behavior of 'v_measure_score', AMI will use average_method='arithmetic' by default.\n",
      "  FutureWarning)\n"
     ]
    },
    {
     "name": "stdout",
     "output_type": "stream",
     "text": [
      "{'name': 'bbc', 'algo': 'KMeans', 'k': 20, 'ami': 0.4598838372011992, 'ari': 0.32745997387994813, 'homogeneity': 0.8170073215919175, 'completeness': 0.46357978250559767, 'vmeasure': 0.5915225527996896, 'time': 19.62586784362793}\n",
      "trying 20news and <class 'sklearn.cluster.k_means_.KMeans'>\n"
     ]
    },
    {
     "name": "stderr",
     "output_type": "stream",
     "text": [
      "/anaconda3/lib/python3.6/site-packages/sklearn/metrics/cluster/supervised.py:732: FutureWarning: The behavior of AMI will change in version 0.22. To match the behavior of 'v_measure_score', AMI will use average_method='arithmetic' by default.\n",
      "  FutureWarning)\n"
     ]
    },
    {
     "name": "stdout",
     "output_type": "stream",
     "text": [
      "{'name': '20news', 'algo': 'KMeans', 'k': 2, 'ami': 0.06170139079891386, 'ari': 0.033298412512813395, 'homogeneity': 0.06320213985460693, 'completeness': 0.2723045136060166, 'vmeasure': 0.10259246887923813, 'time': 4.214666366577148}\n",
      "trying 20news and <class 'sklearn.cluster.k_means_.KMeans'>\n"
     ]
    },
    {
     "name": "stderr",
     "output_type": "stream",
     "text": [
      "/anaconda3/lib/python3.6/site-packages/sklearn/metrics/cluster/supervised.py:732: FutureWarning: The behavior of AMI will change in version 0.22. To match the behavior of 'v_measure_score', AMI will use average_method='arithmetic' by default.\n",
      "  FutureWarning)\n"
     ]
    },
    {
     "name": "stdout",
     "output_type": "stream",
     "text": [
      "{'name': '20news', 'algo': 'KMeans', 'k': 5, 'ami': 0.13676547453162194, 'ari': 0.04834750606211893, 'homogeneity': 0.14237132667469699, 'completeness': 0.30800935011289987, 'vmeasure': 0.19473171059008643, 'time': 4.727804899215698}\n",
      "trying 20news and <class 'sklearn.cluster.k_means_.KMeans'>\n"
     ]
    },
    {
     "name": "stderr",
     "output_type": "stream",
     "text": [
      "/anaconda3/lib/python3.6/site-packages/sklearn/metrics/cluster/supervised.py:732: FutureWarning: The behavior of AMI will change in version 0.22. To match the behavior of 'v_measure_score', AMI will use average_method='arithmetic' by default.\n",
      "  FutureWarning)\n"
     ]
    },
    {
     "name": "stdout",
     "output_type": "stream",
     "text": [
      "{'name': '20news', 'algo': 'KMeans', 'k': 10, 'ami': 0.1813327835766502, 'ari': 0.05479155294813021, 'homogeneity': 0.1935524122577321, 'completeness': 0.287233879363421, 'vmeasure': 0.2312662037242268, 'time': 4.0502259731292725}\n",
      "trying 20news and <class 'sklearn.cluster.k_means_.KMeans'>\n"
     ]
    },
    {
     "name": "stderr",
     "output_type": "stream",
     "text": [
      "/anaconda3/lib/python3.6/site-packages/sklearn/metrics/cluster/supervised.py:732: FutureWarning: The behavior of AMI will change in version 0.22. To match the behavior of 'v_measure_score', AMI will use average_method='arithmetic' by default.\n",
      "  FutureWarning)\n"
     ]
    },
    {
     "name": "stdout",
     "output_type": "stream",
     "text": [
      "{'name': '20news', 'algo': 'KMeans', 'k': 15, 'ami': 0.2070038779507654, 'ari': 0.0691815521168252, 'homogeneity': 0.22589985227890794, 'completeness': 0.28257525251248355, 'vmeasure': 0.25107898970366993, 'time': 3.72645902633667}\n",
      "trying 20news and <class 'sklearn.cluster.k_means_.KMeans'>\n"
     ]
    },
    {
     "name": "stderr",
     "output_type": "stream",
     "text": [
      "/anaconda3/lib/python3.6/site-packages/sklearn/metrics/cluster/supervised.py:732: FutureWarning: The behavior of AMI will change in version 0.22. To match the behavior of 'v_measure_score', AMI will use average_method='arithmetic' by default.\n",
      "  FutureWarning)\n"
     ]
    },
    {
     "name": "stdout",
     "output_type": "stream",
     "text": [
      "{'name': '20news', 'algo': 'KMeans', 'k': 20, 'ami': 0.19197635085431405, 'ari': 0.05123698071150063, 'homogeneity': 0.21854416584404404, 'completeness': 0.24632584692712509, 'vmeasure': 0.23160485840593636, 'time': 5.685532331466675}\n",
      "trying bbc and <class 'sklearn.cluster.birch.Birch'>\n"
     ]
    },
    {
     "name": "stderr",
     "output_type": "stream",
     "text": [
      "/anaconda3/lib/python3.6/site-packages/sklearn/metrics/cluster/supervised.py:732: FutureWarning: The behavior of AMI will change in version 0.22. To match the behavior of 'v_measure_score', AMI will use average_method='arithmetic' by default.\n",
      "  FutureWarning)\n"
     ]
    },
    {
     "name": "stdout",
     "output_type": "stream",
     "text": [
      "{'name': 'bbc', 'algo': 'Birch', 'k': 2, 'ami': 0.24146358193741452, 'ari': 0.18739946493021312, 'homogeneity': 0.2419384261691893, 'completeness': 0.7266430121619478, 'vmeasure': 0.36301101753964754, 'time': 1.956022024154663}\n",
      "trying bbc and <class 'sklearn.cluster.birch.Birch'>\n"
     ]
    },
    {
     "name": "stderr",
     "output_type": "stream",
     "text": [
      "/anaconda3/lib/python3.6/site-packages/sklearn/metrics/cluster/supervised.py:732: FutureWarning: The behavior of AMI will change in version 0.22. To match the behavior of 'v_measure_score', AMI will use average_method='arithmetic' by default.\n",
      "  FutureWarning)\n"
     ]
    },
    {
     "name": "stdout",
     "output_type": "stream",
     "text": [
      "{'name': 'bbc', 'algo': 'Birch', 'k': 5, 'ami': 0.51881635984108, 'ari': 0.4595031362196219, 'homogeneity': 0.5200234554116147, 'completeness': 0.5676643141130006, 'vmeasure': 0.542800547013462, 'time': 2.0145342350006104}\n",
      "trying bbc and <class 'sklearn.cluster.birch.Birch'>\n"
     ]
    },
    {
     "name": "stderr",
     "output_type": "stream",
     "text": [
      "/anaconda3/lib/python3.6/site-packages/sklearn/metrics/cluster/supervised.py:732: FutureWarning: The behavior of AMI will change in version 0.22. To match the behavior of 'v_measure_score', AMI will use average_method='arithmetic' by default.\n",
      "  FutureWarning)\n"
     ]
    },
    {
     "name": "stdout",
     "output_type": "stream",
     "text": [
      "{'name': 'bbc', 'algo': 'Birch', 'k': 10, 'ami': 0.46977213011519364, 'ari': 0.38246703994150527, 'homogeneity': 0.6421051641435618, 'completeness': 0.4719800703855055, 'vmeasure': 0.5440532396885793, 'time': 2.0546181201934814}\n",
      "trying bbc and <class 'sklearn.cluster.birch.Birch'>\n"
     ]
    },
    {
     "name": "stderr",
     "output_type": "stream",
     "text": [
      "/anaconda3/lib/python3.6/site-packages/sklearn/metrics/cluster/supervised.py:732: FutureWarning: The behavior of AMI will change in version 0.22. To match the behavior of 'v_measure_score', AMI will use average_method='arithmetic' by default.\n",
      "  FutureWarning)\n"
     ]
    },
    {
     "name": "stdout",
     "output_type": "stream",
     "text": [
      "{'name': 'bbc', 'algo': 'Birch', 'k': 15, 'ami': 0.42897689555471397, 'ari': 0.3295618600327984, 'homogeneity': 0.6623423620614173, 'completeness': 0.4322863137807781, 'vmeasure': 0.5231391146154488, 'time': 1.995591163635254}\n",
      "trying bbc and <class 'sklearn.cluster.birch.Birch'>\n"
     ]
    },
    {
     "name": "stderr",
     "output_type": "stream",
     "text": [
      "/anaconda3/lib/python3.6/site-packages/sklearn/metrics/cluster/supervised.py:732: FutureWarning: The behavior of AMI will change in version 0.22. To match the behavior of 'v_measure_score', AMI will use average_method='arithmetic' by default.\n",
      "  FutureWarning)\n"
     ]
    },
    {
     "name": "stdout",
     "output_type": "stream",
     "text": [
      "{'name': 'bbc', 'algo': 'Birch', 'k': 20, 'ami': 0.40059014653878783, 'ari': 0.2740012074593462, 'homogeneity': 0.7013430781030255, 'completeness': 0.4047721900953649, 'vmeasure': 0.513299439748931, 'time': 2.0153920650482178}\n",
      "trying 20news and <class 'sklearn.cluster.birch.Birch'>\n"
     ]
    },
    {
     "name": "stderr",
     "output_type": "stream",
     "text": [
      "/anaconda3/lib/python3.6/site-packages/sklearn/metrics/cluster/supervised.py:732: FutureWarning: The behavior of AMI will change in version 0.22. To match the behavior of 'v_measure_score', AMI will use average_method='arithmetic' by default.\n",
      "  FutureWarning)\n"
     ]
    },
    {
     "name": "stdout",
     "output_type": "stream",
     "text": [
      "{'name': '20news', 'algo': 'Birch', 'k': 2, 'ami': 0.04946191752125397, 'ari': 0.025247647449663305, 'homogeneity': 0.050983192989703906, 'completeness': 0.2326767083939936, 'vmeasure': 0.08363960835066273, 'time': 2.440546989440918}\n",
      "trying 20news and <class 'sklearn.cluster.birch.Birch'>\n"
     ]
    },
    {
     "name": "stderr",
     "output_type": "stream",
     "text": [
      "/anaconda3/lib/python3.6/site-packages/sklearn/metrics/cluster/supervised.py:732: FutureWarning: The behavior of AMI will change in version 0.22. To match the behavior of 'v_measure_score', AMI will use average_method='arithmetic' by default.\n",
      "  FutureWarning)\n"
     ]
    },
    {
     "name": "stdout",
     "output_type": "stream",
     "text": [
      "{'name': '20news', 'algo': 'Birch', 'k': 5, 'ami': 0.09434048775273876, 'ari': 0.030977001027812007, 'homogeneity': 0.10053385143767936, 'completeness': 0.29955125722728426, 'vmeasure': 0.15054317663833167, 'time': 2.3809549808502197}\n",
      "trying 20news and <class 'sklearn.cluster.birch.Birch'>\n"
     ]
    },
    {
     "name": "stderr",
     "output_type": "stream",
     "text": [
      "/anaconda3/lib/python3.6/site-packages/sklearn/metrics/cluster/supervised.py:732: FutureWarning: The behavior of AMI will change in version 0.22. To match the behavior of 'v_measure_score', AMI will use average_method='arithmetic' by default.\n",
      "  FutureWarning)\n"
     ]
    },
    {
     "name": "stdout",
     "output_type": "stream",
     "text": [
      "{'name': '20news', 'algo': 'Birch', 'k': 10, 'ami': 0.15077153749928054, 'ari': 0.0422756699751281, 'homogeneity': 0.16371380276308908, 'completeness': 0.2700915946468168, 'vmeasure': 0.20385971367799988, 'time': 2.9286227226257324}\n",
      "trying 20news and <class 'sklearn.cluster.birch.Birch'>\n"
     ]
    },
    {
     "name": "stderr",
     "output_type": "stream",
     "text": [
      "/anaconda3/lib/python3.6/site-packages/sklearn/metrics/cluster/supervised.py:732: FutureWarning: The behavior of AMI will change in version 0.22. To match the behavior of 'v_measure_score', AMI will use average_method='arithmetic' by default.\n",
      "  FutureWarning)\n"
     ]
    },
    {
     "name": "stdout",
     "output_type": "stream",
     "text": [
      "{'name': '20news', 'algo': 'Birch', 'k': 15, 'ami': 0.15932209062621125, 'ari': 0.040676412361322446, 'homogeneity': 0.1796347998646293, 'completeness': 0.25767312563238803, 'vmeasure': 0.2116909283126322, 'time': 2.8367371559143066}\n",
      "trying 20news and <class 'sklearn.cluster.birch.Birch'>\n"
     ]
    },
    {
     "name": "stderr",
     "output_type": "stream",
     "text": [
      "/anaconda3/lib/python3.6/site-packages/sklearn/metrics/cluster/supervised.py:732: FutureWarning: The behavior of AMI will change in version 0.22. To match the behavior of 'v_measure_score', AMI will use average_method='arithmetic' by default.\n",
      "  FutureWarning)\n"
     ]
    },
    {
     "name": "stdout",
     "output_type": "stream",
     "text": [
      "{'name': '20news', 'algo': 'Birch', 'k': 20, 'ami': 0.17227248717322152, 'ari': 0.04205658851852501, 'homogeneity': 0.19981686984644084, 'completeness': 0.2654638362734414, 'vmeasure': 0.22800925172220654, 'time': 2.5198071002960205}\n",
      "trying bbc and <class 'sklearn.cluster.affinity_propagation_.AffinityPropagation'>\n",
      "{'name': 'bbc', 'algo': 'AffinityPropagation', 'k': 2, 'ami': 0.21044185205322666, 'ari': 0.028890470717590714, 'homogeneity': 0.8705194802364914, 'completeness': 0.2561439634251427, 'vmeasure': 0.39582061734761703, 'time': 11.69841480255127}\n",
      "trying bbc and <class 'sklearn.cluster.affinity_propagation_.AffinityPropagation'>\n",
      "{'name': 'bbc', 'algo': 'AffinityPropagation', 'k': 5, 'ami': 0.21044185205322666, 'ari': 0.028890470717590714, 'homogeneity': 0.8705194802364914, 'completeness': 0.2561439634251427, 'vmeasure': 0.39582061734761703, 'time': 11.996942043304443}\n",
      "trying bbc and <class 'sklearn.cluster.affinity_propagation_.AffinityPropagation'>\n",
      "{'name': 'bbc', 'algo': 'AffinityPropagation', 'k': 10, 'ami': 0.21044185205322666, 'ari': 0.028890470717590714, 'homogeneity': 0.8705194802364914, 'completeness': 0.2561439634251427, 'vmeasure': 0.39582061734761703, 'time': 11.764431715011597}\n",
      "trying bbc and <class 'sklearn.cluster.affinity_propagation_.AffinityPropagation'>\n",
      "{'name': 'bbc', 'algo': 'AffinityPropagation', 'k': 15, 'ami': 0.21044185205322666, 'ari': 0.028890470717590714, 'homogeneity': 0.8705194802364914, 'completeness': 0.2561439634251427, 'vmeasure': 0.39582061734761703, 'time': 11.972380876541138}\n",
      "trying bbc and <class 'sklearn.cluster.affinity_propagation_.AffinityPropagation'>\n",
      "{'name': 'bbc', 'algo': 'AffinityPropagation', 'k': 20, 'ami': 0.21044185205322666, 'ari': 0.028890470717590714, 'homogeneity': 0.8705194802364914, 'completeness': 0.2561439634251427, 'vmeasure': 0.39582061734761703, 'time': 11.798541784286499}\n",
      "trying 20news and <class 'sklearn.cluster.affinity_propagation_.AffinityPropagation'>\n",
      "{'name': '20news', 'algo': 'AffinityPropagation', 'k': 2, 'ami': 0.009386270083282204, 'ari': 0.0018507799576087693, 'homogeneity': 0.1595410871811317, 'completeness': 0.11078185247604079, 'vmeasure': 0.13076402029647982, 'time': 8.027467012405396}\n",
      "trying 20news and <class 'sklearn.cluster.affinity_propagation_.AffinityPropagation'>\n",
      "{'name': '20news', 'algo': 'AffinityPropagation', 'k': 5, 'ami': 0.009386270083282204, 'ari': 0.0018507799576087693, 'homogeneity': 0.1595410871811317, 'completeness': 0.11078185247604079, 'vmeasure': 0.13076402029647982, 'time': 7.494940996170044}\n",
      "trying 20news and <class 'sklearn.cluster.affinity_propagation_.AffinityPropagation'>\n",
      "{'name': '20news', 'algo': 'AffinityPropagation', 'k': 10, 'ami': 0.009386270083282204, 'ari': 0.0018507799576087693, 'homogeneity': 0.1595410871811317, 'completeness': 0.11078185247604079, 'vmeasure': 0.13076402029647982, 'time': 7.565238952636719}\n",
      "trying 20news and <class 'sklearn.cluster.affinity_propagation_.AffinityPropagation'>\n",
      "{'name': '20news', 'algo': 'AffinityPropagation', 'k': 15, 'ami': 0.009386270083282204, 'ari': 0.0018507799576087693, 'homogeneity': 0.1595410871811317, 'completeness': 0.11078185247604079, 'vmeasure': 0.13076402029647982, 'time': 7.525887966156006}\n",
      "trying 20news and <class 'sklearn.cluster.affinity_propagation_.AffinityPropagation'>\n",
      "{'name': '20news', 'algo': 'AffinityPropagation', 'k': 20, 'ami': 0.009386270083282204, 'ari': 0.0018507799576087693, 'homogeneity': 0.1595410871811317, 'completeness': 0.11078185247604079, 'vmeasure': 0.13076402029647982, 'time': 7.494570970535278}\n",
      "trying bbc and <class 'sklearn.cluster.spectral.SpectralClustering'>\n"
     ]
    },
    {
     "name": "stderr",
     "output_type": "stream",
     "text": [
      "/anaconda3/lib/python3.6/site-packages/sklearn/metrics/cluster/supervised.py:732: FutureWarning: The behavior of AMI will change in version 0.22. To match the behavior of 'v_measure_score', AMI will use average_method='arithmetic' by default.\n",
      "  FutureWarning)\n"
     ]
    },
    {
     "name": "stdout",
     "output_type": "stream",
     "text": [
      "{'name': 'bbc', 'algo': 'SpectralClustering', 'k': 2, 'ami': 0.16715283545073034, 'ari': 0.10950351247575946, 'homogeneity': 0.16767457270810077, 'completeness': 0.5910228100299617, 'vmeasure': 0.2612359008670222, 'time': 0.4728667736053467}\n",
      "trying bbc and <class 'sklearn.cluster.spectral.SpectralClustering'>\n"
     ]
    },
    {
     "name": "stderr",
     "output_type": "stream",
     "text": [
      "/anaconda3/lib/python3.6/site-packages/sklearn/metrics/cluster/supervised.py:732: FutureWarning: The behavior of AMI will change in version 0.22. To match the behavior of 'v_measure_score', AMI will use average_method='arithmetic' by default.\n",
      "  FutureWarning)\n"
     ]
    },
    {
     "name": "stdout",
     "output_type": "stream",
     "text": [
      "{'name': 'bbc', 'algo': 'SpectralClustering', 'k': 5, 'ami': 0.6488100754841308, 'ari': 0.611968423020058, 'homogeneity': 0.6496908776524084, 'completeness': 0.6929824480322946, 'vmeasure': 0.67063874175086, 'time': 0.5241401195526123}\n",
      "trying bbc and <class 'sklearn.cluster.spectral.SpectralClustering'>\n"
     ]
    },
    {
     "name": "stderr",
     "output_type": "stream",
     "text": [
      "/anaconda3/lib/python3.6/site-packages/sklearn/metrics/cluster/supervised.py:732: FutureWarning: The behavior of AMI will change in version 0.22. To match the behavior of 'v_measure_score', AMI will use average_method='arithmetic' by default.\n",
      "  FutureWarning)\n"
     ]
    },
    {
     "name": "stdout",
     "output_type": "stream",
     "text": [
      "{'name': 'bbc', 'algo': 'SpectralClustering', 'k': 10, 'ami': 0.5057711235692459, 'ari': 0.37645179371152226, 'homogeneity': 0.6505983266454891, 'completeness': 0.5079681519363808, 'vmeasure': 0.5705036970231265, 'time': 0.647672176361084}\n",
      "trying bbc and <class 'sklearn.cluster.spectral.SpectralClustering'>\n"
     ]
    },
    {
     "name": "stderr",
     "output_type": "stream",
     "text": [
      "/anaconda3/lib/python3.6/site-packages/sklearn/metrics/cluster/supervised.py:732: FutureWarning: The behavior of AMI will change in version 0.22. To match the behavior of 'v_measure_score', AMI will use average_method='arithmetic' by default.\n",
      "  FutureWarning)\n"
     ]
    },
    {
     "name": "stdout",
     "output_type": "stream",
     "text": [
      "{'name': 'bbc', 'algo': 'SpectralClustering', 'k': 15, 'ami': 0.44347487901501775, 'ari': 0.2595397807960822, 'homogeneity': 0.672389154888744, 'completeness': 0.44675672608535794, 'vmeasure': 0.5368279195772643, 'time': 0.6998882293701172}\n",
      "trying bbc and <class 'sklearn.cluster.spectral.SpectralClustering'>\n"
     ]
    },
    {
     "name": "stderr",
     "output_type": "stream",
     "text": [
      "/anaconda3/lib/python3.6/site-packages/sklearn/metrics/cluster/supervised.py:732: FutureWarning: The behavior of AMI will change in version 0.22. To match the behavior of 'v_measure_score', AMI will use average_method='arithmetic' by default.\n",
      "  FutureWarning)\n"
     ]
    },
    {
     "name": "stdout",
     "output_type": "stream",
     "text": [
      "{'name': 'bbc', 'algo': 'SpectralClustering', 'k': 20, 'ami': 0.3995302657057766, 'ari': 0.20067136239015082, 'homogeneity': 0.6693706132525197, 'completeness': 0.40391515483996165, 'vmeasure': 0.503815373193162, 'time': 0.8138911724090576}\n",
      "trying 20news and <class 'sklearn.cluster.spectral.SpectralClustering'>\n"
     ]
    },
    {
     "name": "stderr",
     "output_type": "stream",
     "text": [
      "/anaconda3/lib/python3.6/site-packages/sklearn/metrics/cluster/supervised.py:732: FutureWarning: The behavior of AMI will change in version 0.22. To match the behavior of 'v_measure_score', AMI will use average_method='arithmetic' by default.\n",
      "  FutureWarning)\n"
     ]
    },
    {
     "name": "stdout",
     "output_type": "stream",
     "text": [
      "{'name': '20news', 'algo': 'SpectralClustering', 'k': 2, 'ami': 0.0636950971125398, 'ari': 0.033748139444553675, 'homogeneity': 0.06519269579555775, 'completeness': 0.2815726921763949, 'vmeasure': 0.1058726360940998, 'time': 0.3772013187408447}\n",
      "trying 20news and <class 'sklearn.cluster.spectral.SpectralClustering'>\n"
     ]
    },
    {
     "name": "stderr",
     "output_type": "stream",
     "text": [
      "/anaconda3/lib/python3.6/site-packages/sklearn/metrics/cluster/supervised.py:732: FutureWarning: The behavior of AMI will change in version 0.22. To match the behavior of 'v_measure_score', AMI will use average_method='arithmetic' by default.\n",
      "  FutureWarning)\n"
     ]
    },
    {
     "name": "stdout",
     "output_type": "stream",
     "text": [
      "{'name': '20news', 'algo': 'SpectralClustering', 'k': 5, 'ami': 0.1135251915625939, 'ari': 0.038440398070133164, 'homogeneity': 0.1194724698745725, 'completeness': 0.2857564399026321, 'vmeasure': 0.1684974928195648, 'time': 0.44328784942626953}\n",
      "trying 20news and <class 'sklearn.cluster.spectral.SpectralClustering'>\n"
     ]
    },
    {
     "name": "stderr",
     "output_type": "stream",
     "text": [
      "/anaconda3/lib/python3.6/site-packages/sklearn/metrics/cluster/supervised.py:732: FutureWarning: The behavior of AMI will change in version 0.22. To match the behavior of 'v_measure_score', AMI will use average_method='arithmetic' by default.\n",
      "  FutureWarning)\n"
     ]
    },
    {
     "name": "stdout",
     "output_type": "stream",
     "text": [
      "{'name': '20news', 'algo': 'SpectralClustering', 'k': 10, 'ami': 0.1749758503365892, 'ari': 0.047388542268242434, 'homogeneity': 0.18746481072817245, 'completeness': 0.29881959434340916, 'vmeasure': 0.2303925773116682, 'time': 0.5511918067932129}\n",
      "trying 20news and <class 'sklearn.cluster.spectral.SpectralClustering'>\n"
     ]
    },
    {
     "name": "stderr",
     "output_type": "stream",
     "text": [
      "/anaconda3/lib/python3.6/site-packages/sklearn/metrics/cluster/supervised.py:732: FutureWarning: The behavior of AMI will change in version 0.22. To match the behavior of 'v_measure_score', AMI will use average_method='arithmetic' by default.\n",
      "  FutureWarning)\n"
     ]
    },
    {
     "name": "stdout",
     "output_type": "stream",
     "text": [
      "{'name': '20news', 'algo': 'SpectralClustering', 'k': 15, 'ami': 0.192987615799543, 'ari': 0.047778184861222484, 'homogeneity': 0.21241936064269967, 'completeness': 0.28550871807664047, 'vmeasure': 0.24359975644571388, 'time': 0.6675839424133301}\n",
      "trying 20news and <class 'sklearn.cluster.spectral.SpectralClustering'>\n",
      "{'name': '20news', 'algo': 'SpectralClustering', 'k': 20, 'ami': 0.19488731387396535, 'ari': 0.048987571013379375, 'homogeneity': 0.2214202602188926, 'completeness': 0.26294126067139445, 'vmeasure': 0.24040110474973667, 'time': 0.7346968650817871}\n"
     ]
    },
    {
     "name": "stderr",
     "output_type": "stream",
     "text": [
      "/anaconda3/lib/python3.6/site-packages/sklearn/metrics/cluster/supervised.py:732: FutureWarning: The behavior of AMI will change in version 0.22. To match the behavior of 'v_measure_score', AMI will use average_method='arithmetic' by default.\n",
      "  FutureWarning)\n"
     ]
    }
   ],
   "source": [
    "out = []\n",
    "\n",
    "for algo in algos:\n",
    "    for name in labels:\n",
    "        for k in [2, 5, 10, 15, 20]:\n",
    "            print(f'trying {name} and {algo}')\n",
    "            clusterer = algo() if algo == AffinityPropagation else algo(n_clusters=k)\n",
    "            wall_time = time()\n",
    "            preds = clusterer.fit_predict(features[name])\n",
    "            scorer = metrics.GroundTruthMetrics(labels[name], preds)\n",
    "            ami = scorer.adjusted_mutual_info_score()\n",
    "            ari = scorer.adjusted_rand_index()\n",
    "            h, c, v = scorer.homogeneity_completeness_v_measure()\n",
    "            wall_time = time() - wall_time\n",
    "            record = {'name': name, 'algo': clusterer.__class__.__name__, 'k': k,\n",
    "                      'ami': ami, 'ari': ari, 'homogeneity': h, 'completeness': c, 'vmeasure': v,\n",
    "                      'time': wall_time}\n",
    "            print(record)\n",
    "            out.append(record)"
   ]
  },
  {
   "cell_type": "code",
   "execution_count": 200,
   "metadata": {},
   "outputs": [
    {
     "data": {
      "text/html": [
       "<div>\n",
       "<style scoped>\n",
       "    .dataframe tbody tr th:only-of-type {\n",
       "        vertical-align: middle;\n",
       "    }\n",
       "\n",
       "    .dataframe tbody tr th {\n",
       "        vertical-align: top;\n",
       "    }\n",
       "\n",
       "    .dataframe thead th {\n",
       "        text-align: right;\n",
       "    }\n",
       "</style>\n",
       "<table border=\"1\" class=\"dataframe\">\n",
       "  <thead>\n",
       "    <tr style=\"text-align: right;\">\n",
       "      <th></th>\n",
       "      <th>algo</th>\n",
       "      <th>ami</th>\n",
       "      <th>ari</th>\n",
       "      <th>completeness</th>\n",
       "      <th>homogeneity</th>\n",
       "      <th>k</th>\n",
       "      <th>name</th>\n",
       "      <th>time</th>\n",
       "      <th>vmeasure</th>\n",
       "    </tr>\n",
       "  </thead>\n",
       "  <tbody>\n",
       "    <tr>\n",
       "      <th>1</th>\n",
       "      <td>KMeans</td>\n",
       "      <td>0.724248</td>\n",
       "      <td>0.721137</td>\n",
       "      <td>0.748462</td>\n",
       "      <td>0.724940</td>\n",
       "      <td>5</td>\n",
       "      <td>bbc</td>\n",
       "      <td>11.569300</td>\n",
       "      <td>0.736513</td>\n",
       "    </tr>\n",
       "    <tr>\n",
       "      <th>31</th>\n",
       "      <td>SpectralClustering</td>\n",
       "      <td>0.648810</td>\n",
       "      <td>0.611968</td>\n",
       "      <td>0.692982</td>\n",
       "      <td>0.649691</td>\n",
       "      <td>5</td>\n",
       "      <td>bbc</td>\n",
       "      <td>0.524140</td>\n",
       "      <td>0.670639</td>\n",
       "    </tr>\n",
       "    <tr>\n",
       "      <th>2</th>\n",
       "      <td>KMeans</td>\n",
       "      <td>0.537482</td>\n",
       "      <td>0.442626</td>\n",
       "      <td>0.539365</td>\n",
       "      <td>0.749583</td>\n",
       "      <td>10</td>\n",
       "      <td>bbc</td>\n",
       "      <td>14.501441</td>\n",
       "      <td>0.627332</td>\n",
       "    </tr>\n",
       "    <tr>\n",
       "      <th>11</th>\n",
       "      <td>Birch</td>\n",
       "      <td>0.518816</td>\n",
       "      <td>0.459503</td>\n",
       "      <td>0.567664</td>\n",
       "      <td>0.520023</td>\n",
       "      <td>5</td>\n",
       "      <td>bbc</td>\n",
       "      <td>2.014534</td>\n",
       "      <td>0.542801</td>\n",
       "    </tr>\n",
       "    <tr>\n",
       "      <th>32</th>\n",
       "      <td>SpectralClustering</td>\n",
       "      <td>0.505771</td>\n",
       "      <td>0.376452</td>\n",
       "      <td>0.507968</td>\n",
       "      <td>0.650598</td>\n",
       "      <td>10</td>\n",
       "      <td>bbc</td>\n",
       "      <td>0.647672</td>\n",
       "      <td>0.570504</td>\n",
       "    </tr>\n",
       "    <tr>\n",
       "      <th>3</th>\n",
       "      <td>KMeans</td>\n",
       "      <td>0.500120</td>\n",
       "      <td>0.383210</td>\n",
       "      <td>0.502842</td>\n",
       "      <td>0.816241</td>\n",
       "      <td>15</td>\n",
       "      <td>bbc</td>\n",
       "      <td>12.869040</td>\n",
       "      <td>0.622312</td>\n",
       "    </tr>\n",
       "    <tr>\n",
       "      <th>12</th>\n",
       "      <td>Birch</td>\n",
       "      <td>0.469772</td>\n",
       "      <td>0.382467</td>\n",
       "      <td>0.471980</td>\n",
       "      <td>0.642105</td>\n",
       "      <td>10</td>\n",
       "      <td>bbc</td>\n",
       "      <td>2.054618</td>\n",
       "      <td>0.544053</td>\n",
       "    </tr>\n",
       "    <tr>\n",
       "      <th>4</th>\n",
       "      <td>KMeans</td>\n",
       "      <td>0.459884</td>\n",
       "      <td>0.327460</td>\n",
       "      <td>0.463580</td>\n",
       "      <td>0.817007</td>\n",
       "      <td>20</td>\n",
       "      <td>bbc</td>\n",
       "      <td>19.625868</td>\n",
       "      <td>0.591523</td>\n",
       "    </tr>\n",
       "    <tr>\n",
       "      <th>33</th>\n",
       "      <td>SpectralClustering</td>\n",
       "      <td>0.443475</td>\n",
       "      <td>0.259540</td>\n",
       "      <td>0.446757</td>\n",
       "      <td>0.672389</td>\n",
       "      <td>15</td>\n",
       "      <td>bbc</td>\n",
       "      <td>0.699888</td>\n",
       "      <td>0.536828</td>\n",
       "    </tr>\n",
       "    <tr>\n",
       "      <th>13</th>\n",
       "      <td>Birch</td>\n",
       "      <td>0.428977</td>\n",
       "      <td>0.329562</td>\n",
       "      <td>0.432286</td>\n",
       "      <td>0.662342</td>\n",
       "      <td>15</td>\n",
       "      <td>bbc</td>\n",
       "      <td>1.995591</td>\n",
       "      <td>0.523139</td>\n",
       "    </tr>\n",
       "    <tr>\n",
       "      <th>14</th>\n",
       "      <td>Birch</td>\n",
       "      <td>0.400590</td>\n",
       "      <td>0.274001</td>\n",
       "      <td>0.404772</td>\n",
       "      <td>0.701343</td>\n",
       "      <td>20</td>\n",
       "      <td>bbc</td>\n",
       "      <td>2.015392</td>\n",
       "      <td>0.513299</td>\n",
       "    </tr>\n",
       "    <tr>\n",
       "      <th>34</th>\n",
       "      <td>SpectralClustering</td>\n",
       "      <td>0.399530</td>\n",
       "      <td>0.200671</td>\n",
       "      <td>0.403915</td>\n",
       "      <td>0.669371</td>\n",
       "      <td>20</td>\n",
       "      <td>bbc</td>\n",
       "      <td>0.813891</td>\n",
       "      <td>0.503815</td>\n",
       "    </tr>\n",
       "    <tr>\n",
       "      <th>0</th>\n",
       "      <td>KMeans</td>\n",
       "      <td>0.309690</td>\n",
       "      <td>0.306942</td>\n",
       "      <td>0.741848</td>\n",
       "      <td>0.310122</td>\n",
       "      <td>2</td>\n",
       "      <td>bbc</td>\n",
       "      <td>9.986954</td>\n",
       "      <td>0.437396</td>\n",
       "    </tr>\n",
       "    <tr>\n",
       "      <th>10</th>\n",
       "      <td>Birch</td>\n",
       "      <td>0.241464</td>\n",
       "      <td>0.187399</td>\n",
       "      <td>0.726643</td>\n",
       "      <td>0.241938</td>\n",
       "      <td>2</td>\n",
       "      <td>bbc</td>\n",
       "      <td>1.956022</td>\n",
       "      <td>0.363011</td>\n",
       "    </tr>\n",
       "    <tr>\n",
       "      <th>22</th>\n",
       "      <td>AffinityPropagation</td>\n",
       "      <td>0.210442</td>\n",
       "      <td>0.028890</td>\n",
       "      <td>0.256144</td>\n",
       "      <td>0.870519</td>\n",
       "      <td>10</td>\n",
       "      <td>bbc</td>\n",
       "      <td>11.764432</td>\n",
       "      <td>0.395821</td>\n",
       "    </tr>\n",
       "    <tr>\n",
       "      <th>24</th>\n",
       "      <td>AffinityPropagation</td>\n",
       "      <td>0.210442</td>\n",
       "      <td>0.028890</td>\n",
       "      <td>0.256144</td>\n",
       "      <td>0.870519</td>\n",
       "      <td>20</td>\n",
       "      <td>bbc</td>\n",
       "      <td>11.798542</td>\n",
       "      <td>0.395821</td>\n",
       "    </tr>\n",
       "    <tr>\n",
       "      <th>23</th>\n",
       "      <td>AffinityPropagation</td>\n",
       "      <td>0.210442</td>\n",
       "      <td>0.028890</td>\n",
       "      <td>0.256144</td>\n",
       "      <td>0.870519</td>\n",
       "      <td>15</td>\n",
       "      <td>bbc</td>\n",
       "      <td>11.972381</td>\n",
       "      <td>0.395821</td>\n",
       "    </tr>\n",
       "    <tr>\n",
       "      <th>21</th>\n",
       "      <td>AffinityPropagation</td>\n",
       "      <td>0.210442</td>\n",
       "      <td>0.028890</td>\n",
       "      <td>0.256144</td>\n",
       "      <td>0.870519</td>\n",
       "      <td>5</td>\n",
       "      <td>bbc</td>\n",
       "      <td>11.996942</td>\n",
       "      <td>0.395821</td>\n",
       "    </tr>\n",
       "    <tr>\n",
       "      <th>20</th>\n",
       "      <td>AffinityPropagation</td>\n",
       "      <td>0.210442</td>\n",
       "      <td>0.028890</td>\n",
       "      <td>0.256144</td>\n",
       "      <td>0.870519</td>\n",
       "      <td>2</td>\n",
       "      <td>bbc</td>\n",
       "      <td>11.698415</td>\n",
       "      <td>0.395821</td>\n",
       "    </tr>\n",
       "    <tr>\n",
       "      <th>8</th>\n",
       "      <td>KMeans</td>\n",
       "      <td>0.207004</td>\n",
       "      <td>0.069182</td>\n",
       "      <td>0.282575</td>\n",
       "      <td>0.225900</td>\n",
       "      <td>15</td>\n",
       "      <td>20news</td>\n",
       "      <td>3.726459</td>\n",
       "      <td>0.251079</td>\n",
       "    </tr>\n",
       "    <tr>\n",
       "      <th>39</th>\n",
       "      <td>SpectralClustering</td>\n",
       "      <td>0.194887</td>\n",
       "      <td>0.048988</td>\n",
       "      <td>0.262941</td>\n",
       "      <td>0.221420</td>\n",
       "      <td>20</td>\n",
       "      <td>20news</td>\n",
       "      <td>0.734697</td>\n",
       "      <td>0.240401</td>\n",
       "    </tr>\n",
       "    <tr>\n",
       "      <th>38</th>\n",
       "      <td>SpectralClustering</td>\n",
       "      <td>0.192988</td>\n",
       "      <td>0.047778</td>\n",
       "      <td>0.285509</td>\n",
       "      <td>0.212419</td>\n",
       "      <td>15</td>\n",
       "      <td>20news</td>\n",
       "      <td>0.667584</td>\n",
       "      <td>0.243600</td>\n",
       "    </tr>\n",
       "    <tr>\n",
       "      <th>9</th>\n",
       "      <td>KMeans</td>\n",
       "      <td>0.191976</td>\n",
       "      <td>0.051237</td>\n",
       "      <td>0.246326</td>\n",
       "      <td>0.218544</td>\n",
       "      <td>20</td>\n",
       "      <td>20news</td>\n",
       "      <td>5.685532</td>\n",
       "      <td>0.231605</td>\n",
       "    </tr>\n",
       "    <tr>\n",
       "      <th>7</th>\n",
       "      <td>KMeans</td>\n",
       "      <td>0.181333</td>\n",
       "      <td>0.054792</td>\n",
       "      <td>0.287234</td>\n",
       "      <td>0.193552</td>\n",
       "      <td>10</td>\n",
       "      <td>20news</td>\n",
       "      <td>4.050226</td>\n",
       "      <td>0.231266</td>\n",
       "    </tr>\n",
       "    <tr>\n",
       "      <th>37</th>\n",
       "      <td>SpectralClustering</td>\n",
       "      <td>0.174976</td>\n",
       "      <td>0.047389</td>\n",
       "      <td>0.298820</td>\n",
       "      <td>0.187465</td>\n",
       "      <td>10</td>\n",
       "      <td>20news</td>\n",
       "      <td>0.551192</td>\n",
       "      <td>0.230393</td>\n",
       "    </tr>\n",
       "    <tr>\n",
       "      <th>19</th>\n",
       "      <td>Birch</td>\n",
       "      <td>0.172272</td>\n",
       "      <td>0.042057</td>\n",
       "      <td>0.265464</td>\n",
       "      <td>0.199817</td>\n",
       "      <td>20</td>\n",
       "      <td>20news</td>\n",
       "      <td>2.519807</td>\n",
       "      <td>0.228009</td>\n",
       "    </tr>\n",
       "    <tr>\n",
       "      <th>30</th>\n",
       "      <td>SpectralClustering</td>\n",
       "      <td>0.167153</td>\n",
       "      <td>0.109504</td>\n",
       "      <td>0.591023</td>\n",
       "      <td>0.167675</td>\n",
       "      <td>2</td>\n",
       "      <td>bbc</td>\n",
       "      <td>0.472867</td>\n",
       "      <td>0.261236</td>\n",
       "    </tr>\n",
       "    <tr>\n",
       "      <th>18</th>\n",
       "      <td>Birch</td>\n",
       "      <td>0.159322</td>\n",
       "      <td>0.040676</td>\n",
       "      <td>0.257673</td>\n",
       "      <td>0.179635</td>\n",
       "      <td>15</td>\n",
       "      <td>20news</td>\n",
       "      <td>2.836737</td>\n",
       "      <td>0.211691</td>\n",
       "    </tr>\n",
       "    <tr>\n",
       "      <th>17</th>\n",
       "      <td>Birch</td>\n",
       "      <td>0.150772</td>\n",
       "      <td>0.042276</td>\n",
       "      <td>0.270092</td>\n",
       "      <td>0.163714</td>\n",
       "      <td>10</td>\n",
       "      <td>20news</td>\n",
       "      <td>2.928623</td>\n",
       "      <td>0.203860</td>\n",
       "    </tr>\n",
       "    <tr>\n",
       "      <th>6</th>\n",
       "      <td>KMeans</td>\n",
       "      <td>0.136765</td>\n",
       "      <td>0.048348</td>\n",
       "      <td>0.308009</td>\n",
       "      <td>0.142371</td>\n",
       "      <td>5</td>\n",
       "      <td>20news</td>\n",
       "      <td>4.727805</td>\n",
       "      <td>0.194732</td>\n",
       "    </tr>\n",
       "    <tr>\n",
       "      <th>36</th>\n",
       "      <td>SpectralClustering</td>\n",
       "      <td>0.113525</td>\n",
       "      <td>0.038440</td>\n",
       "      <td>0.285756</td>\n",
       "      <td>0.119472</td>\n",
       "      <td>5</td>\n",
       "      <td>20news</td>\n",
       "      <td>0.443288</td>\n",
       "      <td>0.168497</td>\n",
       "    </tr>\n",
       "    <tr>\n",
       "      <th>16</th>\n",
       "      <td>Birch</td>\n",
       "      <td>0.094340</td>\n",
       "      <td>0.030977</td>\n",
       "      <td>0.299551</td>\n",
       "      <td>0.100534</td>\n",
       "      <td>5</td>\n",
       "      <td>20news</td>\n",
       "      <td>2.380955</td>\n",
       "      <td>0.150543</td>\n",
       "    </tr>\n",
       "    <tr>\n",
       "      <th>35</th>\n",
       "      <td>SpectralClustering</td>\n",
       "      <td>0.063695</td>\n",
       "      <td>0.033748</td>\n",
       "      <td>0.281573</td>\n",
       "      <td>0.065193</td>\n",
       "      <td>2</td>\n",
       "      <td>20news</td>\n",
       "      <td>0.377201</td>\n",
       "      <td>0.105873</td>\n",
       "    </tr>\n",
       "    <tr>\n",
       "      <th>5</th>\n",
       "      <td>KMeans</td>\n",
       "      <td>0.061701</td>\n",
       "      <td>0.033298</td>\n",
       "      <td>0.272305</td>\n",
       "      <td>0.063202</td>\n",
       "      <td>2</td>\n",
       "      <td>20news</td>\n",
       "      <td>4.214666</td>\n",
       "      <td>0.102592</td>\n",
       "    </tr>\n",
       "    <tr>\n",
       "      <th>15</th>\n",
       "      <td>Birch</td>\n",
       "      <td>0.049462</td>\n",
       "      <td>0.025248</td>\n",
       "      <td>0.232677</td>\n",
       "      <td>0.050983</td>\n",
       "      <td>2</td>\n",
       "      <td>20news</td>\n",
       "      <td>2.440547</td>\n",
       "      <td>0.083640</td>\n",
       "    </tr>\n",
       "    <tr>\n",
       "      <th>26</th>\n",
       "      <td>AffinityPropagation</td>\n",
       "      <td>0.009386</td>\n",
       "      <td>0.001851</td>\n",
       "      <td>0.110782</td>\n",
       "      <td>0.159541</td>\n",
       "      <td>5</td>\n",
       "      <td>20news</td>\n",
       "      <td>7.494941</td>\n",
       "      <td>0.130764</td>\n",
       "    </tr>\n",
       "    <tr>\n",
       "      <th>27</th>\n",
       "      <td>AffinityPropagation</td>\n",
       "      <td>0.009386</td>\n",
       "      <td>0.001851</td>\n",
       "      <td>0.110782</td>\n",
       "      <td>0.159541</td>\n",
       "      <td>10</td>\n",
       "      <td>20news</td>\n",
       "      <td>7.565239</td>\n",
       "      <td>0.130764</td>\n",
       "    </tr>\n",
       "    <tr>\n",
       "      <th>28</th>\n",
       "      <td>AffinityPropagation</td>\n",
       "      <td>0.009386</td>\n",
       "      <td>0.001851</td>\n",
       "      <td>0.110782</td>\n",
       "      <td>0.159541</td>\n",
       "      <td>15</td>\n",
       "      <td>20news</td>\n",
       "      <td>7.525888</td>\n",
       "      <td>0.130764</td>\n",
       "    </tr>\n",
       "    <tr>\n",
       "      <th>25</th>\n",
       "      <td>AffinityPropagation</td>\n",
       "      <td>0.009386</td>\n",
       "      <td>0.001851</td>\n",
       "      <td>0.110782</td>\n",
       "      <td>0.159541</td>\n",
       "      <td>2</td>\n",
       "      <td>20news</td>\n",
       "      <td>8.027467</td>\n",
       "      <td>0.130764</td>\n",
       "    </tr>\n",
       "    <tr>\n",
       "      <th>29</th>\n",
       "      <td>AffinityPropagation</td>\n",
       "      <td>0.009386</td>\n",
       "      <td>0.001851</td>\n",
       "      <td>0.110782</td>\n",
       "      <td>0.159541</td>\n",
       "      <td>20</td>\n",
       "      <td>20news</td>\n",
       "      <td>7.494571</td>\n",
       "      <td>0.130764</td>\n",
       "    </tr>\n",
       "  </tbody>\n",
       "</table>\n",
       "</div>"
      ],
      "text/plain": [
       "                   algo       ami       ari  completeness  homogeneity   k  \\\n",
       "1                KMeans  0.724248  0.721137      0.748462     0.724940   5   \n",
       "31   SpectralClustering  0.648810  0.611968      0.692982     0.649691   5   \n",
       "2                KMeans  0.537482  0.442626      0.539365     0.749583  10   \n",
       "11                Birch  0.518816  0.459503      0.567664     0.520023   5   \n",
       "32   SpectralClustering  0.505771  0.376452      0.507968     0.650598  10   \n",
       "3                KMeans  0.500120  0.383210      0.502842     0.816241  15   \n",
       "12                Birch  0.469772  0.382467      0.471980     0.642105  10   \n",
       "4                KMeans  0.459884  0.327460      0.463580     0.817007  20   \n",
       "33   SpectralClustering  0.443475  0.259540      0.446757     0.672389  15   \n",
       "13                Birch  0.428977  0.329562      0.432286     0.662342  15   \n",
       "14                Birch  0.400590  0.274001      0.404772     0.701343  20   \n",
       "34   SpectralClustering  0.399530  0.200671      0.403915     0.669371  20   \n",
       "0                KMeans  0.309690  0.306942      0.741848     0.310122   2   \n",
       "10                Birch  0.241464  0.187399      0.726643     0.241938   2   \n",
       "22  AffinityPropagation  0.210442  0.028890      0.256144     0.870519  10   \n",
       "24  AffinityPropagation  0.210442  0.028890      0.256144     0.870519  20   \n",
       "23  AffinityPropagation  0.210442  0.028890      0.256144     0.870519  15   \n",
       "21  AffinityPropagation  0.210442  0.028890      0.256144     0.870519   5   \n",
       "20  AffinityPropagation  0.210442  0.028890      0.256144     0.870519   2   \n",
       "8                KMeans  0.207004  0.069182      0.282575     0.225900  15   \n",
       "39   SpectralClustering  0.194887  0.048988      0.262941     0.221420  20   \n",
       "38   SpectralClustering  0.192988  0.047778      0.285509     0.212419  15   \n",
       "9                KMeans  0.191976  0.051237      0.246326     0.218544  20   \n",
       "7                KMeans  0.181333  0.054792      0.287234     0.193552  10   \n",
       "37   SpectralClustering  0.174976  0.047389      0.298820     0.187465  10   \n",
       "19                Birch  0.172272  0.042057      0.265464     0.199817  20   \n",
       "30   SpectralClustering  0.167153  0.109504      0.591023     0.167675   2   \n",
       "18                Birch  0.159322  0.040676      0.257673     0.179635  15   \n",
       "17                Birch  0.150772  0.042276      0.270092     0.163714  10   \n",
       "6                KMeans  0.136765  0.048348      0.308009     0.142371   5   \n",
       "36   SpectralClustering  0.113525  0.038440      0.285756     0.119472   5   \n",
       "16                Birch  0.094340  0.030977      0.299551     0.100534   5   \n",
       "35   SpectralClustering  0.063695  0.033748      0.281573     0.065193   2   \n",
       "5                KMeans  0.061701  0.033298      0.272305     0.063202   2   \n",
       "15                Birch  0.049462  0.025248      0.232677     0.050983   2   \n",
       "26  AffinityPropagation  0.009386  0.001851      0.110782     0.159541   5   \n",
       "27  AffinityPropagation  0.009386  0.001851      0.110782     0.159541  10   \n",
       "28  AffinityPropagation  0.009386  0.001851      0.110782     0.159541  15   \n",
       "25  AffinityPropagation  0.009386  0.001851      0.110782     0.159541   2   \n",
       "29  AffinityPropagation  0.009386  0.001851      0.110782     0.159541  20   \n",
       "\n",
       "      name       time  vmeasure  \n",
       "1      bbc  11.569300  0.736513  \n",
       "31     bbc   0.524140  0.670639  \n",
       "2      bbc  14.501441  0.627332  \n",
       "11     bbc   2.014534  0.542801  \n",
       "32     bbc   0.647672  0.570504  \n",
       "3      bbc  12.869040  0.622312  \n",
       "12     bbc   2.054618  0.544053  \n",
       "4      bbc  19.625868  0.591523  \n",
       "33     bbc   0.699888  0.536828  \n",
       "13     bbc   1.995591  0.523139  \n",
       "14     bbc   2.015392  0.513299  \n",
       "34     bbc   0.813891  0.503815  \n",
       "0      bbc   9.986954  0.437396  \n",
       "10     bbc   1.956022  0.363011  \n",
       "22     bbc  11.764432  0.395821  \n",
       "24     bbc  11.798542  0.395821  \n",
       "23     bbc  11.972381  0.395821  \n",
       "21     bbc  11.996942  0.395821  \n",
       "20     bbc  11.698415  0.395821  \n",
       "8   20news   3.726459  0.251079  \n",
       "39  20news   0.734697  0.240401  \n",
       "38  20news   0.667584  0.243600  \n",
       "9   20news   5.685532  0.231605  \n",
       "7   20news   4.050226  0.231266  \n",
       "37  20news   0.551192  0.230393  \n",
       "19  20news   2.519807  0.228009  \n",
       "30     bbc   0.472867  0.261236  \n",
       "18  20news   2.836737  0.211691  \n",
       "17  20news   2.928623  0.203860  \n",
       "6   20news   4.727805  0.194732  \n",
       "36  20news   0.443288  0.168497  \n",
       "16  20news   2.380955  0.150543  \n",
       "35  20news   0.377201  0.105873  \n",
       "5   20news   4.214666  0.102592  \n",
       "15  20news   2.440547  0.083640  \n",
       "26  20news   7.494941  0.130764  \n",
       "27  20news   7.565239  0.130764  \n",
       "28  20news   7.525888  0.130764  \n",
       "25  20news   8.027467  0.130764  \n",
       "29  20news   7.494571  0.130764  "
      ]
     },
     "execution_count": 200,
     "metadata": {},
     "output_type": "execute_result"
    }
   ],
   "source": [
    "df = pd.DataFrame(out).sort_values(by='ami', ascending=False)\n",
    "df"
   ]
  },
  {
   "cell_type": "code",
   "execution_count": 202,
   "metadata": {},
   "outputs": [
    {
     "data": {
      "text/html": [
       "<div>\n",
       "<style scoped>\n",
       "    .dataframe tbody tr th:only-of-type {\n",
       "        vertical-align: middle;\n",
       "    }\n",
       "\n",
       "    .dataframe tbody tr th {\n",
       "        vertical-align: top;\n",
       "    }\n",
       "\n",
       "    .dataframe thead th {\n",
       "        text-align: right;\n",
       "    }\n",
       "</style>\n",
       "<table border=\"1\" class=\"dataframe\">\n",
       "  <thead>\n",
       "    <tr style=\"text-align: right;\">\n",
       "      <th></th>\n",
       "      <th>algo</th>\n",
       "      <th>ami</th>\n",
       "      <th>ari</th>\n",
       "      <th>completeness</th>\n",
       "      <th>homogeneity</th>\n",
       "      <th>k</th>\n",
       "      <th>name</th>\n",
       "      <th>time</th>\n",
       "      <th>vmeasure</th>\n",
       "    </tr>\n",
       "  </thead>\n",
       "  <tbody>\n",
       "    <tr>\n",
       "      <th>5</th>\n",
       "      <td>KMeans</td>\n",
       "      <td>0.061701</td>\n",
       "      <td>0.033298</td>\n",
       "      <td>0.272305</td>\n",
       "      <td>0.063202</td>\n",
       "      <td>2</td>\n",
       "      <td>20news</td>\n",
       "      <td>4.214666</td>\n",
       "      <td>0.102592</td>\n",
       "    </tr>\n",
       "    <tr>\n",
       "      <th>6</th>\n",
       "      <td>KMeans</td>\n",
       "      <td>0.136765</td>\n",
       "      <td>0.048348</td>\n",
       "      <td>0.308009</td>\n",
       "      <td>0.142371</td>\n",
       "      <td>5</td>\n",
       "      <td>20news</td>\n",
       "      <td>4.727805</td>\n",
       "      <td>0.194732</td>\n",
       "    </tr>\n",
       "    <tr>\n",
       "      <th>7</th>\n",
       "      <td>KMeans</td>\n",
       "      <td>0.181333</td>\n",
       "      <td>0.054792</td>\n",
       "      <td>0.287234</td>\n",
       "      <td>0.193552</td>\n",
       "      <td>10</td>\n",
       "      <td>20news</td>\n",
       "      <td>4.050226</td>\n",
       "      <td>0.231266</td>\n",
       "    </tr>\n",
       "    <tr>\n",
       "      <th>8</th>\n",
       "      <td>KMeans</td>\n",
       "      <td>0.207004</td>\n",
       "      <td>0.069182</td>\n",
       "      <td>0.282575</td>\n",
       "      <td>0.225900</td>\n",
       "      <td>15</td>\n",
       "      <td>20news</td>\n",
       "      <td>3.726459</td>\n",
       "      <td>0.251079</td>\n",
       "    </tr>\n",
       "    <tr>\n",
       "      <th>9</th>\n",
       "      <td>KMeans</td>\n",
       "      <td>0.191976</td>\n",
       "      <td>0.051237</td>\n",
       "      <td>0.246326</td>\n",
       "      <td>0.218544</td>\n",
       "      <td>20</td>\n",
       "      <td>20news</td>\n",
       "      <td>5.685532</td>\n",
       "      <td>0.231605</td>\n",
       "    </tr>\n",
       "    <tr>\n",
       "      <th>0</th>\n",
       "      <td>KMeans</td>\n",
       "      <td>0.309690</td>\n",
       "      <td>0.306942</td>\n",
       "      <td>0.741848</td>\n",
       "      <td>0.310122</td>\n",
       "      <td>2</td>\n",
       "      <td>bbc</td>\n",
       "      <td>9.986954</td>\n",
       "      <td>0.437396</td>\n",
       "    </tr>\n",
       "    <tr>\n",
       "      <th>1</th>\n",
       "      <td>KMeans</td>\n",
       "      <td>0.724248</td>\n",
       "      <td>0.721137</td>\n",
       "      <td>0.748462</td>\n",
       "      <td>0.724940</td>\n",
       "      <td>5</td>\n",
       "      <td>bbc</td>\n",
       "      <td>11.569300</td>\n",
       "      <td>0.736513</td>\n",
       "    </tr>\n",
       "    <tr>\n",
       "      <th>2</th>\n",
       "      <td>KMeans</td>\n",
       "      <td>0.537482</td>\n",
       "      <td>0.442626</td>\n",
       "      <td>0.539365</td>\n",
       "      <td>0.749583</td>\n",
       "      <td>10</td>\n",
       "      <td>bbc</td>\n",
       "      <td>14.501441</td>\n",
       "      <td>0.627332</td>\n",
       "    </tr>\n",
       "    <tr>\n",
       "      <th>3</th>\n",
       "      <td>KMeans</td>\n",
       "      <td>0.500120</td>\n",
       "      <td>0.383210</td>\n",
       "      <td>0.502842</td>\n",
       "      <td>0.816241</td>\n",
       "      <td>15</td>\n",
       "      <td>bbc</td>\n",
       "      <td>12.869040</td>\n",
       "      <td>0.622312</td>\n",
       "    </tr>\n",
       "    <tr>\n",
       "      <th>4</th>\n",
       "      <td>KMeans</td>\n",
       "      <td>0.459884</td>\n",
       "      <td>0.327460</td>\n",
       "      <td>0.463580</td>\n",
       "      <td>0.817007</td>\n",
       "      <td>20</td>\n",
       "      <td>bbc</td>\n",
       "      <td>19.625868</td>\n",
       "      <td>0.591523</td>\n",
       "    </tr>\n",
       "  </tbody>\n",
       "</table>\n",
       "</div>"
      ],
      "text/plain": [
       "     algo       ami       ari  completeness  homogeneity   k    name  \\\n",
       "5  KMeans  0.061701  0.033298      0.272305     0.063202   2  20news   \n",
       "6  KMeans  0.136765  0.048348      0.308009     0.142371   5  20news   \n",
       "7  KMeans  0.181333  0.054792      0.287234     0.193552  10  20news   \n",
       "8  KMeans  0.207004  0.069182      0.282575     0.225900  15  20news   \n",
       "9  KMeans  0.191976  0.051237      0.246326     0.218544  20  20news   \n",
       "0  KMeans  0.309690  0.306942      0.741848     0.310122   2     bbc   \n",
       "1  KMeans  0.724248  0.721137      0.748462     0.724940   5     bbc   \n",
       "2  KMeans  0.537482  0.442626      0.539365     0.749583  10     bbc   \n",
       "3  KMeans  0.500120  0.383210      0.502842     0.816241  15     bbc   \n",
       "4  KMeans  0.459884  0.327460      0.463580     0.817007  20     bbc   \n",
       "\n",
       "        time  vmeasure  \n",
       "5   4.214666  0.102592  \n",
       "6   4.727805  0.194732  \n",
       "7   4.050226  0.231266  \n",
       "8   3.726459  0.251079  \n",
       "9   5.685532  0.231605  \n",
       "0   9.986954  0.437396  \n",
       "1  11.569300  0.736513  \n",
       "2  14.501441  0.627332  \n",
       "3  12.869040  0.622312  \n",
       "4  19.625868  0.591523  "
      ]
     },
     "execution_count": 202,
     "metadata": {},
     "output_type": "execute_result"
    }
   ],
   "source": [
    "df[df.algo == 'KMeans'].sort_values(by=['name', 'k'])"
   ]
  },
  {
   "cell_type": "markdown",
   "metadata": {},
   "source": [
    "### user testing values"
   ]
  },
  {
   "cell_type": "code",
   "execution_count": 212,
   "metadata": {},
   "outputs": [],
   "source": [
    "x = [1, 2, 1, 1, 2, 2, 2, 2, 1, 1]\n",
    "y = [2, 3, 1, 2, 3, 2, 4, 2, 1, 2]"
   ]
  },
  {
   "cell_type": "code",
   "execution_count": 213,
   "metadata": {},
   "outputs": [
    {
     "data": {
      "text/plain": [
       "1.5"
      ]
     },
     "execution_count": 213,
     "metadata": {},
     "output_type": "execute_result"
    }
   ],
   "source": [
    "np.mean(x)"
   ]
  },
  {
   "cell_type": "code",
   "execution_count": 214,
   "metadata": {},
   "outputs": [
    {
     "data": {
      "text/plain": [
       "0.5"
      ]
     },
     "execution_count": 214,
     "metadata": {},
     "output_type": "execute_result"
    }
   ],
   "source": [
    "np.std(x)"
   ]
  },
  {
   "cell_type": "code",
   "execution_count": 215,
   "metadata": {},
   "outputs": [
    {
     "data": {
      "text/plain": [
       "2.2"
      ]
     },
     "execution_count": 215,
     "metadata": {},
     "output_type": "execute_result"
    }
   ],
   "source": [
    "np.mean(y)"
   ]
  },
  {
   "cell_type": "code",
   "execution_count": 216,
   "metadata": {},
   "outputs": [
    {
     "data": {
      "text/plain": [
       "0.8717797887081347"
      ]
     },
     "execution_count": 216,
     "metadata": {},
     "output_type": "execute_result"
    }
   ],
   "source": [
    "np.std(y)"
   ]
  },
  {
   "cell_type": "code",
   "execution_count": 217,
   "metadata": {},
   "outputs": [
    {
     "data": {
      "text/plain": [
       "4.6"
      ]
     },
     "execution_count": 217,
     "metadata": {},
     "output_type": "execute_result"
    }
   ],
   "source": [
    "x = [5, 7, 4, 5, 8, 2, 3, 5, 6, 1]\n",
    "np.mean(x)"
   ]
  },
  {
   "cell_type": "code",
   "execution_count": 218,
   "metadata": {},
   "outputs": [
    {
     "data": {
      "text/plain": [
       "2.0591260281974"
      ]
     },
     "execution_count": 218,
     "metadata": {},
     "output_type": "execute_result"
    }
   ],
   "source": [
    "np.std(x)"
   ]
  },
  {
   "cell_type": "code",
   "execution_count": 219,
   "metadata": {},
   "outputs": [
    {
     "data": {
      "text/plain": [
       "7.3"
      ]
     },
     "execution_count": 219,
     "metadata": {},
     "output_type": "execute_result"
    }
   ],
   "source": [
    "y = [6, 7, 9, 9, 3, 4, 9, 11, 7, 8]\n",
    "np.mean(y)"
   ]
  },
  {
   "cell_type": "code",
   "execution_count": 220,
   "metadata": {},
   "outputs": [
    {
     "data": {
      "text/plain": [
       "2.3259406699226015"
      ]
     },
     "execution_count": 220,
     "metadata": {},
     "output_type": "execute_result"
    }
   ],
   "source": [
    "np.std(y)"
   ]
  },
  {
   "cell_type": "code",
   "execution_count": null,
   "metadata": {},
   "outputs": [],
   "source": []
  }
 ],
 "metadata": {
  "kernelspec": {
   "display_name": "Python 3",
   "language": "python",
   "name": "python3"
  },
  "language_info": {
   "codemirror_mode": {
    "name": "ipython",
    "version": 3
   },
   "file_extension": ".py",
   "mimetype": "text/x-python",
   "name": "python",
   "nbconvert_exporter": "python",
   "pygments_lexer": "ipython3",
   "version": "3.6.5"
  }
 },
 "nbformat": 4,
 "nbformat_minor": 2
}
