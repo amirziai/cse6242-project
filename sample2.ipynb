{
 "cells": [
  {
   "cell_type": "code",
   "execution_count": 1,
   "metadata": {},
   "outputs": [],
   "source": [
    "%matplotlib inline"
   ]
  },
  {
   "cell_type": "code",
   "execution_count": 2,
   "metadata": {},
   "outputs": [],
   "source": [
    "%load_ext autoreload"
   ]
  },
  {
   "cell_type": "code",
   "execution_count": 3,
   "metadata": {},
   "outputs": [],
   "source": [
    "%autoreload 2"
   ]
  },
  {
   "cell_type": "code",
   "execution_count": 72,
   "metadata": {},
   "outputs": [],
   "source": [
    "import numpy as np\n",
    "import matplotlib.pyplot as plt\n",
    "from scipy.cluster.vq import kmeans2\n",
    "from scipy.spatial.distance import cdist\n",
    "import pandas as pd\n",
    "\n",
    "import datasets\n",
    "import preprocessing"
   ]
  },
  {
   "cell_type": "markdown",
   "metadata": {},
   "source": [
    "### Get data"
   ]
  },
  {
   "cell_type": "code",
   "execution_count": 5,
   "metadata": {},
   "outputs": [],
   "source": [
    "# BBC corpus\n",
    "bbc = datasets.get_bbc()"
   ]
  },
  {
   "cell_type": "code",
   "execution_count": 6,
   "metadata": {},
   "outputs": [
    {
     "data": {
      "text/plain": [
       "list"
      ]
     },
     "execution_count": 6,
     "metadata": {},
     "output_type": "execute_result"
    }
   ],
   "source": [
    "# bbc is a list of strings\n",
    "type(bbc)"
   ]
  },
  {
   "cell_type": "code",
   "execution_count": 7,
   "metadata": {},
   "outputs": [
    {
     "data": {
      "text/plain": [
       "str"
      ]
     },
     "execution_count": 7,
     "metadata": {},
     "output_type": "execute_result"
    }
   ],
   "source": [
    "type(bbc[0])"
   ]
  },
  {
   "cell_type": "code",
   "execution_count": 8,
   "metadata": {},
   "outputs": [
    {
     "data": {
      "text/plain": [
       "2225"
      ]
     },
     "execution_count": 8,
     "metadata": {},
     "output_type": "execute_result"
    }
   ],
   "source": [
    "len(bbc)"
   ]
  },
  {
   "cell_type": "code",
   "execution_count": 9,
   "metadata": {},
   "outputs": [
    {
     "data": {
      "text/plain": [
       "'tv future in the hands of viewers with home theatre systems  plasma high-definition tvs  and digital'"
      ]
     },
     "execution_count": 9,
     "metadata": {},
     "output_type": "execute_result"
    }
   ],
   "source": [
    "# first 100 chars of the 1st doc\n",
    "bbc[0][:100]"
   ]
  },
  {
   "cell_type": "code",
   "execution_count": 10,
   "metadata": {},
   "outputs": [],
   "source": [
    "# pre-process and vectorize\n",
    "processor = preprocessing.NLPProcessor('tf-idf')\n",
    "bbc_vectorized = processor.fit_transform(bbc)"
   ]
  },
  {
   "cell_type": "code",
   "execution_count": 11,
   "metadata": {},
   "outputs": [
    {
     "data": {
      "text/plain": [
       "scipy.sparse.csr.csr_matrix"
      ]
     },
     "execution_count": 11,
     "metadata": {},
     "output_type": "execute_result"
    }
   ],
   "source": [
    "# sparse matrix\n",
    "type(bbc_vectorized)"
   ]
  },
  {
   "cell_type": "code",
   "execution_count": 12,
   "metadata": {},
   "outputs": [
    {
     "data": {
      "text/plain": [
       "(2225, 29421)"
      ]
     },
     "execution_count": 12,
     "metadata": {},
     "output_type": "execute_result"
    }
   ],
   "source": [
    "# 2,225 docs with 29,421 sparse features\n",
    "bbc_vectorized.shape"
   ]
  },
  {
   "cell_type": "markdown",
   "metadata": {},
   "source": [
    "### Similarity metric"
   ]
  },
  {
   "cell_type": "code",
   "execution_count": 13,
   "metadata": {},
   "outputs": [],
   "source": [
    "from sklearn.metrics.pairwise import cosine_similarity"
   ]
  },
  {
   "cell_type": "code",
   "execution_count": 14,
   "metadata": {},
   "outputs": [
    {
     "data": {
      "text/plain": [
       "array([[0.09372963]])"
      ]
     },
     "execution_count": 14,
     "metadata": {},
     "output_type": "execute_result"
    }
   ],
   "source": [
    "# cosine similarity between 1st and 2nd doc\n",
    "cosine_similarity(bbc_vectorized[0], bbc_vectorized[1])"
   ]
  },
  {
   "cell_type": "code",
   "execution_count": 15,
   "metadata": {},
   "outputs": [
    {
     "data": {
      "text/plain": [
       "array([[1.        , 0.09372963, 0.16603523, ..., 0.14290773, 0.23992781,\n",
       "        0.18738048],\n",
       "       [0.09372963, 1.        , 0.08616861, ..., 0.04780253, 0.09995931,\n",
       "        0.08760382],\n",
       "       [0.16603523, 0.08616861, 1.        , ..., 0.09247675, 0.17008746,\n",
       "        0.1621905 ],\n",
       "       ...,\n",
       "       [0.14290773, 0.04780253, 0.09247675, ..., 1.        , 0.11614638,\n",
       "        0.08908685],\n",
       "       [0.23992781, 0.09995931, 0.17008746, ..., 0.11614638, 1.        ,\n",
       "        0.15640773],\n",
       "       [0.18738048, 0.08760382, 0.1621905 , ..., 0.08908685, 0.15640773,\n",
       "        1.        ]])"
      ]
     },
     "execution_count": 15,
     "metadata": {},
     "output_type": "execute_result"
    }
   ],
   "source": [
    "# cosine similarity of all 2,225 docs\n",
    "# in a matrix of 2,225 x 2,225\n",
    "cosine_similarity(bbc_vectorized)"
   ]
  },
  {
   "cell_type": "code",
   "execution_count": 16,
   "metadata": {},
   "outputs": [],
   "source": [
    "# ..."
   ]
  },
  {
   "cell_type": "markdown",
   "metadata": {},
   "source": [
    "### Clustering"
   ]
  },
  {
   "cell_type": "code",
   "execution_count": 17,
   "metadata": {},
   "outputs": [],
   "source": [
    "from sklearn.cluster import KMeans"
   ]
  },
  {
   "cell_type": "code",
   "execution_count": 18,
   "metadata": {},
   "outputs": [],
   "source": [
    "k = KMeans(n_clusters=5)"
   ]
  },
  {
   "cell_type": "code",
   "execution_count": 19,
   "metadata": {},
   "outputs": [],
   "source": [
    "# this will take a while\n",
    "# k.fit(bbc_vectorized)"
   ]
  },
  {
   "cell_type": "code",
   "execution_count": 20,
   "metadata": {},
   "outputs": [],
   "source": [
    "# take only the top 1,000 most occurring tokens in the corpus \n",
    "p = preprocessing.NLPProcessor(max_features=1000)\n",
    "bbc_vectorized_features_bound = p.fit_transform(bbc)"
   ]
  },
  {
   "cell_type": "code",
   "execution_count": 21,
   "metadata": {},
   "outputs": [
    {
     "data": {
      "text/plain": [
       "(2225, 1000)"
      ]
     },
     "execution_count": 21,
     "metadata": {},
     "output_type": "execute_result"
    }
   ],
   "source": [
    "bbc_vectorized_features_bound.shape"
   ]
  },
  {
   "cell_type": "code",
   "execution_count": 22,
   "metadata": {},
   "outputs": [
    {
     "name": "stdout",
     "output_type": "stream",
     "text": [
      "CPU times: user 1min 12s, sys: 605 ms, total: 1min 12s\n",
      "Wall time: 24.5 s\n"
     ]
    },
    {
     "data": {
      "text/plain": [
       "KMeans(algorithm='auto', copy_x=True, init='k-means++', max_iter=300,\n",
       "    n_clusters=5, n_init=10, n_jobs=None, precompute_distances='auto',\n",
       "    random_state=None, tol=0.0001, verbose=0)"
      ]
     },
     "execution_count": 22,
     "metadata": {},
     "output_type": "execute_result"
    }
   ],
   "source": [
    "%%time\n",
    "k.fit(bbc_vectorized_features_bound)"
   ]
  },
  {
   "cell_type": "code",
   "execution_count": 23,
   "metadata": {},
   "outputs": [
    {
     "data": {
      "text/plain": [
       "array([4, 3, 2, ..., 1, 4, 2], dtype=int32)"
      ]
     },
     "execution_count": 23,
     "metadata": {},
     "output_type": "execute_result"
    }
   ],
   "source": [
    "k.predict(bbc_vectorized_features_bound)"
   ]
  },
  {
   "cell_type": "code",
   "execution_count": 24,
   "metadata": {},
   "outputs": [],
   "source": [
    "# ..."
   ]
  },
  {
   "cell_type": "markdown",
   "metadata": {},
   "source": [
    "### Interactive"
   ]
  },
  {
   "cell_type": "code",
   "execution_count": 25,
   "metadata": {},
   "outputs": [],
   "source": [
    "import interactive"
   ]
  },
  {
   "cell_type": "code",
   "execution_count": 26,
   "metadata": {},
   "outputs": [],
   "source": [
    "k = 5  # start with assuming there are 10 clusters\n",
    "options = (1.1, 25, 0.01, 0)\n",
    "userU = -1\n",
    "docs = 1000"
   ]
  },
  {
   "cell_type": "code",
   "execution_count": 27,
   "metadata": {},
   "outputs": [],
   "source": [
    "p = preprocessing.NLPProcessor(max_features=1000)\n",
    "bbc_vectorized_features_bound = p.fit_transform(bbc)"
   ]
  },
  {
   "cell_type": "code",
   "execution_count": 28,
   "metadata": {},
   "outputs": [],
   "source": [
    "data = bbc_vectorized_features_bound[:docs].todense()\n",
    "terms = np.array(p.vec.get_feature_names()).reshape((1, 1000))"
   ]
  },
  {
   "cell_type": "code",
   "execution_count": 29,
   "metadata": {},
   "outputs": [],
   "source": [
    "# run the algo with no user input\n",
    "x = interactive.icluster(data, terms, [], k, userU=-1)\n",
    "clusterDocs, clusterKeyterms, keyterms, silhouette_avg = x"
   ]
  },
  {
   "cell_type": "code",
   "execution_count": 30,
   "metadata": {},
   "outputs": [
    {
     "data": {
      "text/plain": [
       "[[5, 10, 11, 27, 30],\n",
       " [12, 13, 16, 19, 35],\n",
       " [1, 3, 17, 18, 20],\n",
       " [3, 4, 8, 9, 15],\n",
       " [2, 6, 7, 14, 17]]"
      ]
     },
     "execution_count": 30,
     "metadata": {},
     "output_type": "execute_result"
    }
   ],
   "source": [
    "# sample docs in clusters 0 to k-1\n",
    "[x[:5] for x in clusterDocs]"
   ]
  },
  {
   "cell_type": "code",
   "execution_count": 31,
   "metadata": {},
   "outputs": [
    {
     "data": {
      "text/plain": [
       "[['film', 'actor', 'her', 'actress', 'award'],\n",
       " ['growth', 'economy', 'analysts', 'shares', 'its'],\n",
       " ['digital', 'music', 'technology', 'video', 'work'],\n",
       " ['side', 'game', 'cup', 'coach', 'match'],\n",
       " ['election', 'party', 'labour', 'tory', 'mr']]"
      ]
     },
     "execution_count": 31,
     "metadata": {},
     "output_type": "execute_result"
    }
   ],
   "source": [
    "# there seem to be some legitimate clusters forming\n",
    "# some overlap\n",
    "# and some catchall cluster for all common words (need stop word removal?)\n",
    "[x[:5] for x in clusterKeyterms]"
   ]
  },
  {
   "cell_type": "markdown",
   "metadata": {},
   "source": [
    "#### Get user input\n",
    "Specify number of clusters and top terms"
   ]
  },
  {
   "cell_type": "code",
   "execution_count": 32,
   "metadata": {},
   "outputs": [
    {
     "data": {
      "text/plain": [
       "[['film', 'actor', 'her', 'actress', 'award'],\n",
       " ['growth', 'economy', 'analysts', 'shares', 'its'],\n",
       " ['digital', 'music', 'technology', 'video', 'work'],\n",
       " ['side', 'game', 'cup', 'coach', 'match'],\n",
       " ['election', 'party', 'labour', 'tory', 'mr']]"
      ]
     },
     "execution_count": 32,
     "metadata": {},
     "output_type": "execute_result"
    }
   ],
   "source": [
    "user_input = [x[:5] for x in clusterKeyterms]\n",
    "user_input"
   ]
  },
  {
   "cell_type": "code",
   "execution_count": 33,
   "metadata": {},
   "outputs": [],
   "source": [
    "# looks like there are 5 clusters at a first glance\n",
    "user_input = [\n",
    "    ['film', 'tv', 'music', 'oscar'],\n",
    "    ['growth', 'economy', 'stock', 'investor'],\n",
    "    ['technology', 'web', 'software'],\n",
    "    ['olympic', 'game', 'cup', 'coach', 'game', 'club'],\n",
    "    ['law', 'government', 'election', 'blair'],\n",
    "]"
   ]
  },
  {
   "cell_type": "code",
   "execution_count": 34,
   "metadata": {},
   "outputs": [
    {
     "name": "stderr",
     "output_type": "stream",
     "text": [
      "/anaconda3/lib/python3.6/site-packages/scipy/cluster/vq.py:525: UserWarning: One of the clusters is empty. Re-run kmeans with a different initialization.\n",
      "  warnings.warn(\"One of the clusters is empty. \"\n"
     ]
    }
   ],
   "source": [
    "# run it with user input\n",
    "x = interactive.icluster(data, terms, user_input, len(user_input), userU=+1)\n",
    "clusterDocs, clusterKeyterms, keyterms, silhouette_avg = x"
   ]
  },
  {
   "cell_type": "code",
   "execution_count": 35,
   "metadata": {},
   "outputs": [
    {
     "data": {
      "text/plain": [
       "[['film', 'award', 'her', 'awards', 'actor'],\n",
       " ['growth', 'economy', 'analysts', 'shares', 'oil'],\n",
       " ['users', 'microsoft', 'technology', 'digital', 'video'],\n",
       " ['side', 'game', 'cup', 'coach', 'win'],\n",
       " ['mr', 'party', 'election', 'labour', 'government']]"
      ]
     },
     "execution_count": 35,
     "metadata": {},
     "output_type": "execute_result"
    }
   ],
   "source": [
    "# seem to be getting better clusters\n",
    "[x[:5] for x in clusterKeyterms]"
   ]
  },
  {
   "cell_type": "code",
   "execution_count": 36,
   "metadata": {},
   "outputs": [
    {
     "data": {
      "text/plain": [
       "2225"
      ]
     },
     "execution_count": 36,
     "metadata": {},
     "output_type": "execute_result"
    }
   ],
   "source": [
    "len(bbc)"
   ]
  },
  {
   "cell_type": "code",
   "execution_count": 37,
   "metadata": {},
   "outputs": [
    {
     "data": {
      "text/plain": [
       "1109"
      ]
     },
     "execution_count": 37,
     "metadata": {},
     "output_type": "execute_result"
    }
   ],
   "source": [
    "sum([len(x) for x in clusterDocs])"
   ]
  },
  {
   "cell_type": "code",
   "execution_count": 38,
   "metadata": {},
   "outputs": [
    {
     "data": {
      "text/plain": [
       "[[5, 10, 11, 27, 30],\n",
       " [12, 13, 16, 19, 35],\n",
       " [1, 20, 21, 22, 23],\n",
       " [3, 4, 8, 9, 15],\n",
       " [1, 2, 6, 7, 14]]"
      ]
     },
     "execution_count": 38,
     "metadata": {},
     "output_type": "execute_result"
    }
   ],
   "source": [
    "[x[:5] for x in clusterDocs]"
   ]
  },
  {
   "cell_type": "code",
   "execution_count": 39,
   "metadata": {},
   "outputs": [
    {
     "data": {
      "text/plain": [
       "994"
      ]
     },
     "execution_count": 39,
     "metadata": {},
     "output_type": "execute_result"
    }
   ],
   "source": [
    "clusterDocs[-1][-1]"
   ]
  },
  {
   "cell_type": "code",
   "execution_count": 40,
   "metadata": {},
   "outputs": [
    {
     "name": "stdout",
     "output_type": "stream",
     "text": [
      "Cluster 1\n",
      "Key terms  : film,award,her,awards,actor\n",
      "Sample doc : howard hits back at mongrel jibe michael howard has said a claim by peter hain that the tory leader is acting like an  attack mongrel  shows labour is  rattled  by the opposition.  in an upbeat speech\n",
      "==========\n",
      "Cluster 2\n",
      "Key terms  : growth,economy,analysts,shares,oil\n",
      "Sample doc : crude oil prices back above $50 cold weather across parts of the united states and much of europe has pushed us crude oil prices above $50 a barrel for the first time in almost three months.  freezing\n",
      "==========\n",
      "Cluster 3\n",
      "Key terms  : users,microsoft,technology,digital,video\n",
      "Sample doc : worldcom boss  left books alone  former worldcom boss bernie ebbers  who is accused of overseeing an $11bn (£5.8bn) fraud  never made accounting decisions  a witness has told jurors.  david myers made\n",
      "==========\n",
      "Cluster 4\n",
      "Key terms  : side,game,cup,coach,win\n",
      "Sample doc : yeading face newcastle in fa cup premiership side newcastle united face a trip to ryman premier league leaders yeading in the fa cup third round.  the game - arguably the highlight of the draw - is a \n",
      "==========\n",
      "Cluster 5\n",
      "Key terms  : mr,party,election,labour,government\n",
      "Sample doc : worldcom boss  left books alone  former worldcom boss bernie ebbers  who is accused of overseeing an $11bn (£5.8bn) fraud  never made accounting decisions  a witness has told jurors.  david myers made\n",
      "==========\n"
     ]
    }
   ],
   "source": [
    "for k in range(len(clusterDocs)):\n",
    "    key = ','.join(clusterKeyterms[k][:5])\n",
    "    sample_doc = bbc[clusterDocs[k][0]][:200]\n",
    "    print(f'Cluster {k + 1}')\n",
    "    print(f'Key terms  : {key}')\n",
    "    print(f'Sample doc : {sample_doc}')\n",
    "    print('=' * 10)"
   ]
  },
  {
   "cell_type": "markdown",
   "metadata": {},
   "source": [
    "### t-SNE viz"
   ]
  },
  {
   "cell_type": "code",
   "execution_count": 41,
   "metadata": {},
   "outputs": [],
   "source": [
    "from sklearn.manifold import TSNE\n",
    "from sklearn.decomposition import PCA\n",
    "from collections import defaultdict"
   ]
  },
  {
   "cell_type": "code",
   "execution_count": 42,
   "metadata": {},
   "outputs": [],
   "source": [
    "# tsne = TSNE(n_components=2)\n",
    "# pca = "
   ]
  },
  {
   "cell_type": "code",
   "execution_count": 43,
   "metadata": {},
   "outputs": [],
   "source": [
    "# %%time\n",
    "# t = tsne.fit_transform(data)"
   ]
  },
  {
   "cell_type": "code",
   "execution_count": 44,
   "metadata": {},
   "outputs": [],
   "source": [
    "pca = PCA(n_components=2).fit_transform(data)"
   ]
  },
  {
   "cell_type": "code",
   "execution_count": 45,
   "metadata": {},
   "outputs": [],
   "source": [
    "cluster_data = defaultdict(list)\n",
    "for i, docs in enumerate(clusterDocs):\n",
    "    for doc in docs:\n",
    "        cluster_data[i].append(pca[doc - 1])"
   ]
  },
  {
   "cell_type": "code",
   "execution_count": 46,
   "metadata": {},
   "outputs": [],
   "source": [
    "color_alpha = 0.5\n",
    "colors_base = [\n",
    "    'rgba(47,126,216,{alpha})',\n",
    "    'rgba(13,35,58,{alpha})',\n",
    "    'rgba(139,188,33,{alpha})',\n",
    "    'rgb(145,0,0,{alpha})',\n",
    "    'rgba(26,173,206,{alpha})',\n",
    "    'rgba(73,41,112,{alpha})',\n",
    "    'rgba(242,143,67,{alpha})',\n",
    "    'rgba(119,161,229,{alpha})',\n",
    "    'rgba(196,37,37,{alpha})',\n",
    "    'rgba(166,201,106,{alpha})'\n",
    "]\n",
    "colors = [x.format(alpha=0.5) for x in colors_base]"
   ]
  },
  {
   "cell_type": "code",
   "execution_count": 47,
   "metadata": {},
   "outputs": [
    {
     "data": {
      "text/plain": [
       "[-0.13420995604180042, -0.11349501273343268]"
      ]
     },
     "execution_count": 47,
     "metadata": {},
     "output_type": "execute_result"
    }
   ],
   "source": [
    "list(pca[0])"
   ]
  },
  {
   "cell_type": "code",
   "execution_count": 48,
   "metadata": {},
   "outputs": [
    {
     "data": {
      "text/plain": [
       "'tv future in the hands of viewers with home theatre systems  plasma high-definition tvs  and digital'"
      ]
     },
     "execution_count": 48,
     "metadata": {},
     "output_type": "execute_result"
    }
   ],
   "source": [
    "bbc[0][:100]"
   ]
  },
  {
   "cell_type": "code",
   "execution_count": 49,
   "metadata": {},
   "outputs": [
    {
     "data": {
      "text/plain": [
       "[{'name': 'Cluster 5',\n",
       "  'color': 'rgba(47,126,216,0.5)',\n",
       "  'data': [array([-0.04793498,  0.20335746]),\n",
       "   array([-0.00076205,  0.06126828]),\n",
       "   array([-0.0047744 ,  0.25279978]),\n",
       "   array([0.18021007, 0.24146084]),\n",
       "   array([0.0675272 , 0.23470283]),\n",
       "   array([0.03294537, 0.08701081]),\n",
       "   array([0.23106822, 0.19145731]),\n",
       "   array([-0.06384574,  0.03542689]),\n",
       "   array([0.06732423, 0.35935586]),\n",
       "   array([0.0374498, 0.0010603]),\n",
       "   array([0.11203538, 0.06359329]),\n",
       "   array([0.07125666, 0.07220353]),\n",
       "   array([0.1283694 , 0.06444156]),\n",
       "   array([0.01881467, 0.30856319]),\n",
       "   array([0.01655831, 0.17646431]),\n",
       "   array([-0.10974802,  0.17023852]),\n",
       "   array([0.01236621, 0.11687246]),\n",
       "   array([0.09641634, 0.30689497]),\n",
       "   array([0.07200972, 0.2867238 ]),\n",
       "   array([-0.00612549,  0.09031556]),\n",
       "   array([0.05944463, 0.30273381]),\n",
       "   array([0.17640653, 0.28750069]),\n",
       "   array([ 0.10367877, -0.03771667]),\n",
       "   array([-0.07097861,  0.12623696]),\n",
       "   array([0.16987637, 0.24632861]),\n",
       "   array([ 0.28842324, -0.00667038]),\n",
       "   array([0.07080108, 0.30785651]),\n",
       "   array([0.07762163, 0.28235764]),\n",
       "   array([0.14393456, 0.04968673]),\n",
       "   array([0.12212361, 0.23962027]),\n",
       "   array([-0.03836205,  0.16154636]),\n",
       "   array([0.2284627 , 0.21031089]),\n",
       "   array([0.03360105, 0.13732855]),\n",
       "   array([0.02641162, 0.38215442]),\n",
       "   array([0.03437322, 0.00372997]),\n",
       "   array([0.01632691, 0.14732817]),\n",
       "   array([-0.06579606,  0.00168966]),\n",
       "   array([0.12147464, 0.14319604]),\n",
       "   array([0.04862679, 0.05084436]),\n",
       "   array([0.11403881, 0.39508354]),\n",
       "   array([0.06129298, 0.15713702]),\n",
       "   array([0.04790603, 0.10764188]),\n",
       "   array([0.01596814, 0.11199641]),\n",
       "   array([0.02821438, 0.23891627]),\n",
       "   array([0.12918596, 0.19142799]),\n",
       "   array([0.13724189, 0.01143425]),\n",
       "   array([0.03133267, 0.204708  ]),\n",
       "   array([0.06922555, 0.33546926]),\n",
       "   array([0.07390538, 0.1663231 ]),\n",
       "   array([-0.00916717, -0.00637951]),\n",
       "   array([0.22547409, 0.02105927]),\n",
       "   array([0.10984496, 0.14077622]),\n",
       "   array([0.20582945, 0.17906979]),\n",
       "   array([-0.00118872,  0.08965073]),\n",
       "   array([0.03841983, 0.07046552]),\n",
       "   array([0.10650295, 0.34351033]),\n",
       "   array([0.02909294, 0.12087275]),\n",
       "   array([0.06269572, 0.23511912]),\n",
       "   array([0.06264292, 0.12033852]),\n",
       "   array([-0.0754576,  0.1329084]),\n",
       "   array([0.105153  , 0.02020262]),\n",
       "   array([0.12590081, 0.12873341]),\n",
       "   array([0.02879107, 0.07739354]),\n",
       "   array([0.08629809, 0.32352581]),\n",
       "   array([-0.00888804,  0.10424673]),\n",
       "   array([-0.01593001,  0.22127764]),\n",
       "   array([0.02243828, 0.1289491 ]),\n",
       "   array([0.0267357 , 0.02828529]),\n",
       "   array([0.0051702 , 0.16744408]),\n",
       "   array([0.0617609 , 0.25009455]),\n",
       "   array([-0.06471506,  0.06989   ]),\n",
       "   array([-0.03014532,  0.13312994]),\n",
       "   array([0.17057491, 0.10614469]),\n",
       "   array([-0.07029894,  0.10314599]),\n",
       "   array([-0.03187309,  0.05980376]),\n",
       "   array([0.12704784, 0.35176542]),\n",
       "   array([0.07125666, 0.07220353]),\n",
       "   array([0.06135805, 0.10684468]),\n",
       "   array([-0.06008722,  0.15595602]),\n",
       "   array([-0.04404247,  0.20433238]),\n",
       "   array([0.01771661, 0.07628604]),\n",
       "   array([-0.00085619,  0.11097064]),\n",
       "   array([0.08398401, 0.2203349 ]),\n",
       "   array([-0.03839463,  0.26235917]),\n",
       "   array([0.00210062, 0.28406369]),\n",
       "   array([0.02641162, 0.38215442]),\n",
       "   array([0.09389449, 0.23185549]),\n",
       "   array([-1.08411959e-04,  2.24680092e-01]),\n",
       "   array([0.09361107, 0.21237222]),\n",
       "   array([ 0.00794213, -0.01623804]),\n",
       "   array([0.1139907 , 0.24691965]),\n",
       "   array([-0.01491464,  0.12368198]),\n",
       "   array([0.10366999, 0.06414398]),\n",
       "   array([0.09581208, 0.22991265]),\n",
       "   array([0.15345209, 0.10201384]),\n",
       "   array([-0.01931728,  0.10612622]),\n",
       "   array([-0.02661795,  0.1621262 ]),\n",
       "   array([0.02505792, 0.10298475]),\n",
       "   array([0.00402139, 0.07106796]),\n",
       "   array([-0.09520315,  0.04111145]),\n",
       "   array([0.08183147, 0.35176265]),\n",
       "   array([-0.09071439,  0.03880281]),\n",
       "   array([0.11518867, 0.08104548]),\n",
       "   array([0.2028508 , 0.16017316]),\n",
       "   array([-0.00612549,  0.09031556]),\n",
       "   array([-0.1267118 ,  0.13728972]),\n",
       "   array([0.08791366, 0.29862618]),\n",
       "   array([0.14108085, 0.10411109]),\n",
       "   array([0.12854886, 0.17023286]),\n",
       "   array([0.12381203, 0.26780326]),\n",
       "   array([0.01150902, 0.10867626]),\n",
       "   array([0.06963024, 0.18309712]),\n",
       "   array([0.20003609, 0.06820542]),\n",
       "   array([0.16602935, 0.05003625]),\n",
       "   array([-0.00792092,  0.16558144]),\n",
       "   array([0.00627404, 0.10637664]),\n",
       "   array([0.02038599, 0.16976702]),\n",
       "   array([0.03603858, 0.20456671]),\n",
       "   array([ 0.03244098, -0.04792758]),\n",
       "   array([-0.00119378,  0.13410213]),\n",
       "   array([-0.00190563,  0.12112372]),\n",
       "   array([0.12760599, 0.07907442]),\n",
       "   array([-0.02085248,  0.2312497 ]),\n",
       "   array([-0.05446304,  0.13220225]),\n",
       "   array([0.19383282, 0.16866652]),\n",
       "   array([-0.00866988,  0.17604543]),\n",
       "   array([0.10100952, 0.14807183]),\n",
       "   array([0.0617609 , 0.25009455]),\n",
       "   array([0.08559093, 0.07294709]),\n",
       "   array([0.1153982 , 0.18812933]),\n",
       "   array([ 0.06430454, -0.04744037]),\n",
       "   array([0.0610494 , 0.30033991]),\n",
       "   array([ 0.04225365, -0.00280122]),\n",
       "   array([0.05998159, 0.14407016]),\n",
       "   array([0.18665135, 0.21424755]),\n",
       "   array([0.0575931 , 0.14555869]),\n",
       "   array([-0.06907208,  0.14501348]),\n",
       "   array([-0.03828742,  0.13212034]),\n",
       "   array([0.03349853, 0.18421286]),\n",
       "   array([0.09553972, 0.24986068]),\n",
       "   array([0.05301211, 0.06721924]),\n",
       "   array([0.01821002, 0.1891116 ]),\n",
       "   array([0.09430898, 0.15003586]),\n",
       "   array([0.107101  , 0.09388209]),\n",
       "   array([0.14271301, 0.13696769]),\n",
       "   array([0.15422746, 0.20262194]),\n",
       "   array([ 0.0343825 , -0.01270103]),\n",
       "   array([0.08928366, 0.07157589]),\n",
       "   array([ 0.11108115, -0.00873569]),\n",
       "   array([0.02444342, 0.11337132])]},\n",
       " {'name': 'Cluster 5',\n",
       "  'color': 'rgba(13,35,58,0.5)',\n",
       "  'data': [array([-0.10404727,  0.20966821]),\n",
       "   array([-0.14105775,  0.1208206 ]),\n",
       "   array([-0.11825021,  0.1007585 ]),\n",
       "   array([-0.14561932,  0.09844391]),\n",
       "   array([-0.06810388, -0.00620866]),\n",
       "   array([-0.14989849,  0.11221592]),\n",
       "   array([-0.2106339 ,  0.15194293]),\n",
       "   array([-0.16296973,  0.1169179 ]),\n",
       "   array([-0.1577687,  0.1731903]),\n",
       "   array([-0.0969533 ,  0.12798965]),\n",
       "   array([-0.14781333,  0.08626098]),\n",
       "   array([-0.1770665 , -0.07694207]),\n",
       "   array([-0.18384259,  0.01098096]),\n",
       "   array([-0.16822759,  0.11757838]),\n",
       "   array([-0.12558044,  0.02898184]),\n",
       "   array([-0.10088219, -0.03442992]),\n",
       "   array([-0.18567839,  0.25555147]),\n",
       "   array([-0.1383479 ,  0.11646651]),\n",
       "   array([-0.1235716 , -0.02434758]),\n",
       "   array([-0.17812628,  0.15758076]),\n",
       "   array([-0.20525945,  0.00173624]),\n",
       "   array([-0.08412528,  0.08884379]),\n",
       "   array([-0.13566785,  0.16069986]),\n",
       "   array([-0.1663383 ,  0.13427706]),\n",
       "   array([-0.1072592 ,  0.20296274]),\n",
       "   array([-0.15099357, -0.08667392]),\n",
       "   array([-0.21246376,  0.13393681]),\n",
       "   array([-0.16409338,  0.05834342]),\n",
       "   array([-0.1670601 ,  0.15792106]),\n",
       "   array([-0.1369106,  0.1306915]),\n",
       "   array([-0.16840085,  0.16011711]),\n",
       "   array([-0.15479651,  0.07274706]),\n",
       "   array([-0.18497447, -0.0836463 ]),\n",
       "   array([-0.21000979,  0.18185986]),\n",
       "   array([-0.18076492,  0.08391527]),\n",
       "   array([-0.16682024,  0.20651267]),\n",
       "   array([-0.18656992,  0.09445667]),\n",
       "   array([-0.18026705,  0.14545555]),\n",
       "   array([-0.19450662,  0.12534456]),\n",
       "   array([-0.14194454,  0.00580787]),\n",
       "   array([-0.12534292,  0.01146628]),\n",
       "   array([-0.18543786, -0.0729133 ]),\n",
       "   array([-0.12137297, -0.00550107]),\n",
       "   array([-0.19817058,  0.1249613 ]),\n",
       "   array([-0.14904249,  0.0060178 ]),\n",
       "   array([-0.19766463,  0.13060374]),\n",
       "   array([-0.19492257,  0.18682612]),\n",
       "   array([-0.12464368,  0.05613881]),\n",
       "   array([-0.1295952 ,  0.15187094]),\n",
       "   array([-0.13039193,  0.21919898]),\n",
       "   array([-0.18683349,  0.10802525]),\n",
       "   array([-0.2033749 ,  0.09752623]),\n",
       "   array([-0.18040797, -0.06544248]),\n",
       "   array([-0.10824222,  0.16927352]),\n",
       "   array([-0.1174357 ,  0.04489778]),\n",
       "   array([-0.12464827,  0.00128974]),\n",
       "   array([-0.21299885,  0.12768329]),\n",
       "   array([-0.09970125,  0.00100731]),\n",
       "   array([-0.10423706,  0.05864392]),\n",
       "   array([-0.1445774 ,  0.08545605]),\n",
       "   array([-0.09087594, -0.04230065]),\n",
       "   array([-0.14020926,  0.06042095]),\n",
       "   array([-0.08682873,  0.11121205]),\n",
       "   array([-0.12239473,  0.03937272]),\n",
       "   array([-0.02311259,  0.14661667]),\n",
       "   array([-0.10213985, -0.04141147]),\n",
       "   array([-0.18885516,  0.11319345]),\n",
       "   array([-0.13258369, -0.07008591]),\n",
       "   array([-0.11263922,  0.07991357]),\n",
       "   array([-0.19111035,  0.06489447]),\n",
       "   array([-0.14383676,  0.16938141]),\n",
       "   array([-0.08093465,  0.07095432]),\n",
       "   array([-0.22367061,  0.10467402]),\n",
       "   array([-0.22518837,  0.12363191]),\n",
       "   array([-0.15252844,  0.07691546]),\n",
       "   array([-0.17018617,  0.01128432]),\n",
       "   array([-0.08585906, -0.07092151]),\n",
       "   array([-0.15240371,  0.01920143]),\n",
       "   array([-0.16920499, -0.01156484]),\n",
       "   array([-0.11846161,  0.00585539]),\n",
       "   array([-0.19515402,  0.12727652]),\n",
       "   array([-0.13668887,  0.0706797 ]),\n",
       "   array([-0.12782739,  0.05030989]),\n",
       "   array([-0.08982753,  0.11949819]),\n",
       "   array([-0.10501772,  0.07708338]),\n",
       "   array([-0.19375258,  0.17610491]),\n",
       "   array([-0.15371788,  0.07473249]),\n",
       "   array([-0.19183499, -0.00529303]),\n",
       "   array([-0.12617364,  0.03476296]),\n",
       "   array([-0.15311164,  0.04315377]),\n",
       "   array([-0.10316483, -0.01624194]),\n",
       "   array([-0.12053556, -0.06057491]),\n",
       "   array([-0.15559054,  0.14747409]),\n",
       "   array([-0.11927337,  0.11812953]),\n",
       "   array([-0.15382137,  0.07804324]),\n",
       "   array([-0.16898231,  0.02433338]),\n",
       "   array([-0.23245514, -0.00269941]),\n",
       "   array([-0.11378182,  0.05151343]),\n",
       "   array([-0.13409786,  0.16764007]),\n",
       "   array([-0.14264261,  0.16792924]),\n",
       "   array([-0.14697875,  0.09819034]),\n",
       "   array([-0.17528173,  0.08333673]),\n",
       "   array([-0.17427985,  0.0061878 ]),\n",
       "   array([-0.14330379,  0.14753068]),\n",
       "   array([-0.1017106 ,  0.07471016]),\n",
       "   array([-0.13484306,  0.00584265]),\n",
       "   array([-0.19516834,  0.07807992]),\n",
       "   array([-0.18517891,  0.02365079]),\n",
       "   array([-0.15692112,  0.05255611]),\n",
       "   array([-0.11015323, -0.10433208]),\n",
       "   array([-0.11860787,  0.01479569]),\n",
       "   array([-0.11597707,  0.11562262]),\n",
       "   array([-0.11452068,  0.04137858]),\n",
       "   array([-0.14128606, -0.04786373]),\n",
       "   array([-0.23355144,  0.22408655]),\n",
       "   array([-0.11399767,  0.13517203]),\n",
       "   array([-0.16951185,  0.01175607]),\n",
       "   array([-0.17707406,  0.07685041]),\n",
       "   array([-0.10760639, -0.03521525]),\n",
       "   array([-0.13495155,  0.10094789]),\n",
       "   array([-0.18079222,  0.05820458]),\n",
       "   array([-0.18656992,  0.09445667]),\n",
       "   array([-0.16952346, -0.00057751]),\n",
       "   array([-0.16897582,  0.08163882]),\n",
       "   array([-0.08354746,  0.08810179]),\n",
       "   array([-0.17931202,  0.05662689]),\n",
       "   array([-0.06178264, -0.02186798]),\n",
       "   array([-0.16220711,  0.00841222]),\n",
       "   array([-0.1589925 , -0.05545942]),\n",
       "   array([-0.17536074,  0.05468638]),\n",
       "   array([-0.18436495,  0.02321098]),\n",
       "   array([-0.03842426,  0.04530628]),\n",
       "   array([-0.09347047, -0.10839225]),\n",
       "   array([-0.20725916, -0.02110947]),\n",
       "   array([-0.2033749 ,  0.09752623]),\n",
       "   array([-0.18927529,  0.01242692]),\n",
       "   array([-0.17975447,  0.16083725]),\n",
       "   array([-0.10978445,  0.14282834]),\n",
       "   array([-0.13301713, -0.02510899]),\n",
       "   array([-0.09098175, -0.00118762]),\n",
       "   array([-0.08434457, -0.08779249]),\n",
       "   array([-0.23694484,  0.1335409 ]),\n",
       "   array([-0.1147249 ,  0.02926174]),\n",
       "   array([-0.13412116,  0.00692629]),\n",
       "   array([-0.13078499,  0.11657286]),\n",
       "   array([-0.10097507,  0.02218471]),\n",
       "   array([-0.06247623,  0.05803467]),\n",
       "   array([-0.08319018,  0.17674226]),\n",
       "   array([-0.23156225,  0.15646857]),\n",
       "   array([-0.16703443,  0.22566256]),\n",
       "   array([-0.1343453 , -0.00263831]),\n",
       "   array([-0.15222159, -0.05551579]),\n",
       "   array([-0.2312193 ,  0.12643125]),\n",
       "   array([-0.13127221,  0.14684011]),\n",
       "   array([-0.15368514,  0.16899701]),\n",
       "   array([-0.13754362,  0.00656654]),\n",
       "   array([-0.14556313, -0.02340176]),\n",
       "   array([-0.12669398, -0.01295923]),\n",
       "   array([-0.13137861,  0.19458088]),\n",
       "   array([-0.15189629, -0.05464421]),\n",
       "   array([-0.21773341,  0.04129673]),\n",
       "   array([-0.18007147,  0.23975685]),\n",
       "   array([-0.07473499,  0.03367138]),\n",
       "   array([-0.23245514, -0.00269941]),\n",
       "   array([-0.19696818, -0.06454407]),\n",
       "   array([-0.18961621,  0.01027837]),\n",
       "   array([-0.10743773, -0.01968291]),\n",
       "   array([-0.20830987,  0.11078725]),\n",
       "   array([-0.15781733,  0.12450362]),\n",
       "   array([-0.13621803,  0.13456858]),\n",
       "   array([-0.18680285,  0.0639848 ]),\n",
       "   array([-0.12999542, -0.1062892 ]),\n",
       "   array([-0.1552634 ,  0.10521257]),\n",
       "   array([-0.17427767,  0.09594597]),\n",
       "   array([-0.16516398,  0.00940321]),\n",
       "   array([-0.15221628,  0.13178442]),\n",
       "   array([-0.18504271,  0.16819568]),\n",
       "   array([-0.13327153,  0.03717195]),\n",
       "   array([-0.18927529,  0.01242692]),\n",
       "   array([-0.16041014,  0.11523484]),\n",
       "   array([-0.20820825,  0.09110062]),\n",
       "   array([-0.09529387, -0.05439771]),\n",
       "   array([-0.13062532,  0.08537324]),\n",
       "   array([-0.18567839,  0.25555147]),\n",
       "   array([-0.09270638,  0.03773021]),\n",
       "   array([-0.23114094,  0.00233868]),\n",
       "   array([-0.14787779, -0.04407227]),\n",
       "   array([-0.16014838,  0.02207344]),\n",
       "   array([-0.19061021,  0.20853245]),\n",
       "   array([-0.14950368,  0.04735408]),\n",
       "   array([-0.12033537,  0.00369666]),\n",
       "   array([-0.13355243,  0.09980391]),\n",
       "   array([-0.10050732,  0.05928252]),\n",
       "   array([-0.11484791,  0.16847708]),\n",
       "   array([-0.14258561,  0.17539581]),\n",
       "   array([-0.19235831,  0.01319669]),\n",
       "   array([-0.14276605,  0.09242514]),\n",
       "   array([-0.15768433,  0.16478881]),\n",
       "   array([-0.19948022,  0.13574988]),\n",
       "   array([-0.21035249,  0.10744522]),\n",
       "   array([-0.1359852 ,  0.08308662]),\n",
       "   array([-0.18852095,  0.12684726]),\n",
       "   array([-0.11572982, -0.03888165]),\n",
       "   array([-0.17317143, -0.00976611]),\n",
       "   array([-0.1305821 ,  0.11837604]),\n",
       "   array([-0.19418667,  0.07817033]),\n",
       "   array([-0.12312654, -0.03417306]),\n",
       "   array([-0.10926125,  0.06929436]),\n",
       "   array([-0.15173066,  0.02742137])]},\n",
       " {'name': 'Cluster 5',\n",
       "  'color': 'rgba(139,188,33,0.5)',\n",
       "  'data': [array([-0.13420996, -0.11349501]),\n",
       "   array([-0.11322302, -0.00281323]),\n",
       "   array([-0.11411279, -0.05542012]),\n",
       "   array([-0.09076704, -0.05546134]),\n",
       "   array([ 0.06605647, -0.11136341]),\n",
       "   array([-0.07463253, -0.10550612]),\n",
       "   array([0.03029193, 0.07900667]),\n",
       "   array([-0.15113761, -0.04591439]),\n",
       "   array([-0.0077847 ,  0.03991762]),\n",
       "   array([-0.13514803,  0.0131034 ]),\n",
       "   array([-0.1770665 , -0.07694207]),\n",
       "   array([-0.1590715 , -0.06565662]),\n",
       "   array([-0.17363475,  0.06377174]),\n",
       "   array([-0.06384574,  0.03542689]),\n",
       "   array([-0.12711444, -0.00478801]),\n",
       "   array([-0.10270906, -0.00777227]),\n",
       "   array([-0.10287491, -0.08821146]),\n",
       "   array([ 0.06495291, -0.08636082]),\n",
       "   array([ 0.0974019 , -0.04485345]),\n",
       "   array([-0.07295485, -0.07248669]),\n",
       "   array([-0.10226423, -0.03712402]),\n",
       "   array([-0.0697036 , -0.00511851]),\n",
       "   array([-0.01464322, -0.0081336 ]),\n",
       "   array([0.02509963, 0.00312773]),\n",
       "   array([-0.06329134, -0.10737851]),\n",
       "   array([-0.15904677, -0.06647903]),\n",
       "   array([-0.13031448, -0.06829692]),\n",
       "   array([-0.16306177, -0.07149586]),\n",
       "   array([ 0.00864716, -0.054416  ]),\n",
       "   array([-0.17124673, -0.09669181]),\n",
       "   array([ 0.01093577, -0.06179563]),\n",
       "   array([-0.11426245,  0.12597033]),\n",
       "   array([-0.09303407, -0.0493439 ]),\n",
       "   array([ 0.09737129, -0.03912312]),\n",
       "   array([-0.17277975, -0.03778589]),\n",
       "   array([-0.08783272, -0.06918366]),\n",
       "   array([ 0.00580379, -0.06533752]),\n",
       "   array([-0.11070062,  0.01000708]),\n",
       "   array([-0.09138456,  0.00524473]),\n",
       "   array([-0.05953516,  0.08761042]),\n",
       "   array([-0.06390879,  0.09622427]),\n",
       "   array([-0.06384816,  0.0212762 ]),\n",
       "   array([-0.07984784, -0.06757873]),\n",
       "   array([-0.07765466, -0.0490481 ]),\n",
       "   array([-3.91859872e-02, -5.65235228e-05]),\n",
       "   array([-0.02235925,  0.05033476]),\n",
       "   array([-0.02980394,  0.08065672]),\n",
       "   array([-0.13472621, -0.15418331]),\n",
       "   array([-0.08347248, -0.06037698]),\n",
       "   array([-0.09002463,  0.03893365]),\n",
       "   array([-0.18040797, -0.06544248]),\n",
       "   array([-0.12494655, -0.00968954]),\n",
       "   array([-0.06289013, -0.07861438]),\n",
       "   array([-0.16154188,  0.0431185 ]),\n",
       "   array([-0.02182784,  0.06308461]),\n",
       "   array([-0.10712199, -0.02583782]),\n",
       "   array([-0.07613925, -0.00114612]),\n",
       "   array([-0.05440554,  0.0739203 ]),\n",
       "   array([-0.07963779,  0.02748388]),\n",
       "   array([-0.10012849, -0.10686624]),\n",
       "   array([-0.10302652, -0.04418399]),\n",
       "   array([-0.14133236, -0.01065839]),\n",
       "   array([-0.09087594, -0.04230065]),\n",
       "   array([-0.06902427,  0.05954698]),\n",
       "   array([-0.13289904, -0.14241571]),\n",
       "   array([-0.0811952 , -0.00458434]),\n",
       "   array([-0.14556052, -0.05841836]),\n",
       "   array([-0.12241573, -0.04411343]),\n",
       "   array([ 0.00021853, -0.06216203]),\n",
       "   array([ 0.08780225, -0.06374199]),\n",
       "   array([-0.10439428, -0.02068054]),\n",
       "   array([-0.07491106, -0.07889381]),\n",
       "   array([ 0.10054094, -0.09672169]),\n",
       "   array([-0.11846161,  0.00585539]),\n",
       "   array([-0.11807693, -0.05596138]),\n",
       "   array([-0.16365287, -0.03582058]),\n",
       "   array([0.02909294, 0.12087275]),\n",
       "   array([-0.13898293,  0.01212203]),\n",
       "   array([-0.01487261, -0.0137333 ]),\n",
       "   array([-0.03855247, -0.01983999]),\n",
       "   array([ 0.0538503, -0.0787971]),\n",
       "   array([-0.07627961,  0.00415601]),\n",
       "   array([-0.13443342, -0.04466475]),\n",
       "   array([-0.06704987, -0.01548046]),\n",
       "   array([-0.08333108, -0.01809768]),\n",
       "   array([-0.12053556, -0.06057491]),\n",
       "   array([-0.0332489,  0.0799053]),\n",
       "   array([-0.11141849, -0.00914248]),\n",
       "   array([-0.1056985 , -0.00430559]),\n",
       "   array([-0.09274654,  0.03783234]),\n",
       "   array([-0.07740065, -0.09074091]),\n",
       "   array([0.03263939, 0.12771854]),\n",
       "   array([-0.11960232, -0.09301695]),\n",
       "   array([-0.07383536,  0.00340291]),\n",
       "   array([-0.00640281,  0.07968438]),\n",
       "   array([-0.1408384 ,  0.06885305]),\n",
       "   array([-0.16369658, -0.0944652 ]),\n",
       "   array([-0.04234315, -0.13552394]),\n",
       "   array([-0.10575693,  0.02210391]),\n",
       "   array([0.02983335, 0.09945738]),\n",
       "   array([-0.16055303,  0.07375442]),\n",
       "   array([-0.13468848,  0.01685622]),\n",
       "   array([-0.13081902, -0.11137273]),\n",
       "   array([-0.10056649, -0.10105342]),\n",
       "   array([0.12027643, 0.02078983]),\n",
       "   array([-0.09264688, -0.02094727]),\n",
       "   array([ 0.02097482, -0.13341119]),\n",
       "   array([-0.0950583 ,  0.01153702]),\n",
       "   array([-0.12711444, -0.00478801]),\n",
       "   array([-0.11015323, -0.10433208]),\n",
       "   array([-0.15367638, -0.00745454]),\n",
       "   array([-0.11452068,  0.04137858]),\n",
       "   array([ 0.02846107, -0.10636267]),\n",
       "   array([-0.12459038, -0.10148178]),\n",
       "   array([-0.08800712,  0.03999401]),\n",
       "   array([-0.07810633, -0.09083524]),\n",
       "   array([-0.09553249,  0.13591428]),\n",
       "   array([ 0.17267957, -0.03079801]),\n",
       "   array([-0.07435499,  0.10322754]),\n",
       "   array([-0.07191886,  0.00885974]),\n",
       "   array([0.07762632, 0.14299737]),\n",
       "   array([-0.16420001, -0.08130784]),\n",
       "   array([-0.09507743, -0.01733914]),\n",
       "   array([-0.04818496, -0.02439195]),\n",
       "   array([-0.09474566,  0.01418342]),\n",
       "   array([-1.09043107e-01,  2.67327517e-05]),\n",
       "   array([0.05170292, 0.14852807]),\n",
       "   array([-0.124289  , -0.01310666]),\n",
       "   array([-0.11201278, -0.04472837]),\n",
       "   array([ 0.03362283, -0.129608  ]),\n",
       "   array([-0.1695972,  0.0122066]),\n",
       "   array([-0.07312641, -0.0329386 ]),\n",
       "   array([-0.07493076,  0.0635808 ]),\n",
       "   array([-0.10247339, -0.01527427]),\n",
       "   array([-0.04634337, -0.01488083]),\n",
       "   array([-0.14484994, -0.06372154]),\n",
       "   array([-0.1563139 , -0.03524737]),\n",
       "   array([-0.1695414 ,  0.01277883]),\n",
       "   array([-0.10904041, -0.02872192]),\n",
       "   array([-0.13289261, -0.03517442]),\n",
       "   array([-0.08247053,  0.01193197]),\n",
       "   array([-0.02077324, -0.08962146]),\n",
       "   array([-0.16220711,  0.00841222]),\n",
       "   array([-0.1589925 , -0.05545942]),\n",
       "   array([-0.16365287, -0.03582058]),\n",
       "   array([-0.06710175,  0.01980225]),\n",
       "   array([-0.12750212, -0.04563066]),\n",
       "   array([-0.103012  , -0.01747783]),\n",
       "   array([ 0.05365457, -0.0852853 ]),\n",
       "   array([-0.02589658, -0.0934164 ]),\n",
       "   array([-0.1761702 , -0.00626825]),\n",
       "   array([-0.04621756,  0.04605079]),\n",
       "   array([-0.10935128, -0.06547532]),\n",
       "   array([-0.10302652, -0.04418399]),\n",
       "   array([0.02697156, 0.03617675]),\n",
       "   array([-0.03263884, -0.01078062]),\n",
       "   array([-0.09520315,  0.04111145]),\n",
       "   array([-0.09071439,  0.03880281]),\n",
       "   array([0.09456139, 0.05129864]),\n",
       "   array([-0.12804293,  0.0182787 ]),\n",
       "   array([-0.11876131, -0.01190667]),\n",
       "   array([-0.12207108, -0.00061681]),\n",
       "   array([0.05324818, 0.06215663]),\n",
       "   array([-0.00661   , -0.02513747]),\n",
       "   array([-0.08418475, -0.04857623]),\n",
       "   array([-0.12371526, -0.09686844]),\n",
       "   array([-0.10770206,  0.1008757 ]),\n",
       "   array([-0.1353538 , -0.07942846]),\n",
       "   array([-0.15034308, -0.06595028]),\n",
       "   array([-0.01744853, -0.02022191]),\n",
       "   array([ 0.05016767, -0.0943273 ]),\n",
       "   array([-0.0693472 ,  0.01679934]),\n",
       "   array([-0.11270581,  0.03972782]),\n",
       "   array([-0.13846266, -0.03125579]),\n",
       "   array([-0.01902553,  0.00861933]),\n",
       "   array([-0.1172113 ,  0.00166065]),\n",
       "   array([-0.15222159, -0.05551579]),\n",
       "   array([-0.11043176, -0.01472817]),\n",
       "   array([-0.10476798,  0.01172869]),\n",
       "   array([-0.01092776, -0.04267713]),\n",
       "   array([ 0.0083407 , -0.13058662]),\n",
       "   array([ 0.03244098, -0.04792758]),\n",
       "   array([0.04887339, 0.13675199]),\n",
       "   array([-0.16306177, -0.07149586]),\n",
       "   array([-0.06393838,  0.02544593]),\n",
       "   array([-0.1258575 , -0.13356333]),\n",
       "   array([-0.05260455,  0.07017374]),\n",
       "   array([-0.16177629,  0.05837479]),\n",
       "   array([-0.11552797, -0.02497869]),\n",
       "   array([-0.13941913, -0.06146227]),\n",
       "   array([-0.09222526,  0.04451452]),\n",
       "   array([-0.12037368,  0.00197351]),\n",
       "   array([-0.00818838, -0.00180523]),\n",
       "   array([-0.07305617, -0.03363145]),\n",
       "   array([-0.09477064,  0.09432562]),\n",
       "   array([ 0.00698518, -0.08555354]),\n",
       "   array([-0.03465262,  0.1079477 ]),\n",
       "   array([-0.15197234,  0.01007955]),\n",
       "   array([-0.17973313, -0.1208165 ]),\n",
       "   array([-0.11426245,  0.12597033]),\n",
       "   array([-0.09245103, -0.07472783]),\n",
       "   array([-0.00645595, -0.08015281]),\n",
       "   array([-0.07034386, -0.08635181]),\n",
       "   array([-0.10562802, -0.07095872]),\n",
       "   array([ 0.04636917, -0.04356986]),\n",
       "   array([-0.15080559, -0.06607384]),\n",
       "   array([-0.1491656 ,  0.03508309]),\n",
       "   array([-0.10608983,  0.01045838]),\n",
       "   array([-0.03452315, -0.09104857]),\n",
       "   array([-0.05523868, -0.04444376]),\n",
       "   array([-0.06386268, -0.04294955]),\n",
       "   array([-0.09018737, -0.01872686]),\n",
       "   array([0.01974448, 0.04501492]),\n",
       "   array([ 0.1379821 , -0.12462123]),\n",
       "   array([-0.12398094, -0.04133496]),\n",
       "   array([-0.10224757,  0.05906605]),\n",
       "   array([-0.14879485, -0.05241016]),\n",
       "   array([-0.09177788, -0.02835372]),\n",
       "   array([-0.13440434, -0.13250681]),\n",
       "   array([-0.03715034, -0.10357401]),\n",
       "   array([-0.07885711,  0.05866247]),\n",
       "   array([-0.03934316, -0.080793  ]),\n",
       "   array([-0.09044796, -0.00712441]),\n",
       "   array([-0.07989903, -0.08007913]),\n",
       "   array([-0.0693472 ,  0.01679934]),\n",
       "   array([-0.06036392, -0.09198281]),\n",
       "   array([-0.15931453, -0.01179027]),\n",
       "   array([-0.07653259, -0.05383587]),\n",
       "   array([-0.12435793,  0.03674078]),\n",
       "   array([-0.0215045 , -0.10925366]),\n",
       "   array([-0.13044196, -0.10575756]),\n",
       "   array([-0.13031448, -0.06829692]),\n",
       "   array([-0.07677792,  0.04354784]),\n",
       "   array([-0.12133189, -0.09695854]),\n",
       "   array([ 0.0343825 , -0.01270103]),\n",
       "   array([-0.07224828, -0.02700256]),\n",
       "   array([0.17904907, 0.01039589])]},\n",
       " {'name': 'Cluster 5',\n",
       "  'color': 'rgb(145,0,0,0.5)',\n",
       "  'data': [array([ 0.13584924, -0.12113491]),\n",
       "   array([0.19423335, 0.10443638]),\n",
       "   array([0.20073816, 0.07227657]),\n",
       "   array([0.29937633, 0.13336309]),\n",
       "   array([ 0.22877696, -0.0071965 ]),\n",
       "   array([0.16561493, 0.02214531]),\n",
       "   array([ 0.30814191, -0.00923471]),\n",
       "   array([0.20901679, 0.14887045]),\n",
       "   array([ 0.18846273, -0.02484099]),\n",
       "   array([ 0.14769507, -0.06989521]),\n",
       "   array([ 0.35964677, -0.13068736]),\n",
       "   array([0.25316052, 0.00685064]),\n",
       "   array([0.24417238, 0.06946418]),\n",
       "   array([0.12096063, 0.0715056 ]),\n",
       "   array([ 0.0974019 , -0.04485345]),\n",
       "   array([0.23973331, 0.05085639]),\n",
       "   array([0.13854059, 0.06899003]),\n",
       "   array([0.19080616, 0.15590938]),\n",
       "   array([0.21605839, 0.06122656]),\n",
       "   array([0.23821285, 0.15043612]),\n",
       "   array([0.16170563, 0.11457426]),\n",
       "   array([ 0.23318357, -0.03084254]),\n",
       "   array([0.29012039, 0.16426136]),\n",
       "   array([0.14233332, 0.03310747]),\n",
       "   array([0.07027641, 0.09632834]),\n",
       "   array([0.21192814, 0.18179883]),\n",
       "   array([0.23310366, 0.00966061]),\n",
       "   array([0.13228787, 0.06935438]),\n",
       "   array([0.12968007, 0.00263197]),\n",
       "   array([ 0.25253129, -0.06291733]),\n",
       "   array([0.28113292, 0.18855463]),\n",
       "   array([0.29507576, 0.02421077]),\n",
       "   array([ 0.29409555, -0.03003897]),\n",
       "   array([0.19518089, 0.03302358]),\n",
       "   array([0.1106928 , 0.04464448]),\n",
       "   array([ 0.22793061, -0.0072266 ]),\n",
       "   array([ 0.28043687, -0.08975153]),\n",
       "   array([0.21851876, 0.07603354]),\n",
       "   array([0.10183078, 0.17094235]),\n",
       "   array([ 0.26291658, -0.1158544 ]),\n",
       "   array([ 0.24754783, -0.10779205]),\n",
       "   array([0.14873907, 0.06943074]),\n",
       "   array([0.26951515, 0.20936794]),\n",
       "   array([ 0.27613651, -0.16212429]),\n",
       "   array([0.12544382, 0.04344735]),\n",
       "   array([0.12453517, 0.04026558]),\n",
       "   array([0.14885133, 0.09693326]),\n",
       "   array([0.13318244, 0.05661957]),\n",
       "   array([0.27548243, 0.03303046]),\n",
       "   array([ 0.18855186, -0.09455685]),\n",
       "   array([0.13330103, 0.16971418]),\n",
       "   array([0.23126978, 0.02428575]),\n",
       "   array([ 0.30688097, -0.13122212]),\n",
       "   array([ 0.15228578, -0.03658516]),\n",
       "   array([0.12882515, 0.13168905]),\n",
       "   array([0.22267043, 0.0976264 ]),\n",
       "   array([ 0.1239421, -0.0049654]),\n",
       "   array([ 0.26446336, -0.1057826 ]),\n",
       "   array([0.20778959, 0.19628522]),\n",
       "   array([0.20505056, 0.17353555]),\n",
       "   array([0.1619198 , 0.00242485]),\n",
       "   array([0.13446953, 0.09433089]),\n",
       "   array([0.08753078, 0.11307355]),\n",
       "   array([0.18876689, 0.05937533]),\n",
       "   array([ 0.26645372, -0.01549943]),\n",
       "   array([ 0.20434624, -0.04612289]),\n",
       "   array([0.21728179, 0.07188146]),\n",
       "   array([ 0.25329335, -0.07556384]),\n",
       "   array([ 0.19778546, -0.09530882]),\n",
       "   array([0.21165421, 0.19363533]),\n",
       "   array([ 0.21209444, -0.01257745]),\n",
       "   array([ 0.20490814, -0.0948645 ]),\n",
       "   array([0.13208451, 0.16759393]),\n",
       "   array([0.14153581, 0.17508671]),\n",
       "   array([ 0.24551069, -0.06969815]),\n",
       "   array([0.20137898, 0.09323944]),\n",
       "   array([ 0.3127188 , -0.03656726]),\n",
       "   array([0.21022288, 0.11362485]),\n",
       "   array([0.3362353 , 0.03650964]),\n",
       "   array([ 0.36229829, -0.05706234]),\n",
       "   array([0.16039751, 0.16564063]),\n",
       "   array([ 0.19158644, -0.10278014]),\n",
       "   array([ 0.25606485, -0.04396225]),\n",
       "   array([0.1781013 , 0.05824742]),\n",
       "   array([ 0.18388833, -0.01082329]),\n",
       "   array([0.24096927, 0.02864382]),\n",
       "   array([0.22575145, 0.03703385]),\n",
       "   array([0.22073038, 0.09040159]),\n",
       "   array([ 0.25593633, -0.06238665]),\n",
       "   array([0.19436469, 0.10053337]),\n",
       "   array([ 0.21019979, -0.06926226]),\n",
       "   array([ 0.26933802, -0.00050787]),\n",
       "   array([ 0.28659904, -0.05935178]),\n",
       "   array([ 0.22182548, -0.00718046]),\n",
       "   array([ 0.27159218, -0.04320353]),\n",
       "   array([ 0.15789938, -0.24206884]),\n",
       "   array([ 0.2391311, -0.0054988]),\n",
       "   array([0.2558479 , 0.02035005]),\n",
       "   array([ 0.2009674 , -0.00624668]),\n",
       "   array([0.21982803, 0.19720085]),\n",
       "   array([ 0.23836998, -0.02162002]),\n",
       "   array([0.13057801, 0.20598788]),\n",
       "   array([ 0.26571056, -0.11166481]),\n",
       "   array([ 0.20841892, -0.04033505]),\n",
       "   array([ 0.17917442, -0.1159278 ]),\n",
       "   array([0.23180909, 0.05511673]),\n",
       "   array([ 0.1239421, -0.0049654]),\n",
       "   array([0.17332297, 0.06634008]),\n",
       "   array([0.156576  , 0.10454242]),\n",
       "   array([ 0.24908136, -0.00985977]),\n",
       "   array([ 0.1533432 , -0.10801794]),\n",
       "   array([0.18292662, 0.01896315]),\n",
       "   array([0.20844199, 0.01077599]),\n",
       "   array([0.16582408, 0.14049781]),\n",
       "   array([0.07762632, 0.14299737]),\n",
       "   array([0.21839239, 0.0447214 ]),\n",
       "   array([0.15796053, 0.11530049]),\n",
       "   array([0.26346241, 0.05125333]),\n",
       "   array([0.29697969, 0.07086353]),\n",
       "   array([0.13565758, 0.1355148 ]),\n",
       "   array([0.05170292, 0.14852807]),\n",
       "   array([ 0.12595305, -0.04521827]),\n",
       "   array([0.21821438, 0.06590044]),\n",
       "   array([ 0.18551409, -0.01525456]),\n",
       "   array([0.18771763, 0.10183792]),\n",
       "   array([ 0.29106519, -0.05193932]),\n",
       "   array([ 0.15726129, -0.24203613]),\n",
       "   array([0.21121358, 0.08943446]),\n",
       "   array([ 0.23951361, -0.07757598]),\n",
       "   array([0.24277957, 0.02990973]),\n",
       "   array([0.13277572, 0.07067345]),\n",
       "   array([ 0.15061516, -0.04689198]),\n",
       "   array([ 0.22805308, -0.00426844]),\n",
       "   array([ 0.25228244, -0.01767534]),\n",
       "   array([ 0.19679496, -0.06652048]),\n",
       "   array([0.12743414, 0.08794698]),\n",
       "   array([ 0.33530981, -0.0062403 ]),\n",
       "   array([ 0.24238634, -0.04373933]),\n",
       "   array([ 0.16220242, -0.09369968]),\n",
       "   array([ 0.22321401, -0.11582925]),\n",
       "   array([0.15643272, 0.01019188]),\n",
       "   array([0.14108085, 0.10411109]),\n",
       "   array([0.22025826, 0.20992244]),\n",
       "   array([0.12854886, 0.17023286]),\n",
       "   array([ 0.26925099, -0.09089318]),\n",
       "   array([0.1900862 , 0.09127419]),\n",
       "   array([0.20003609, 0.06820542]),\n",
       "   array([0.18233847, 0.02899656]),\n",
       "   array([ 0.22992128, -0.06619815]),\n",
       "   array([0.13025556, 0.17870059]),\n",
       "   array([0.11501788, 0.08679848]),\n",
       "   array([0.2429156 , 0.01158124]),\n",
       "   array([0.16602935, 0.05003625]),\n",
       "   array([ 0.1842983 , -0.08070019]),\n",
       "   array([0.2003353 , 0.02405332]),\n",
       "   array([ 0.22470074, -0.02961652]),\n",
       "   array([0.15297934, 0.07262701]),\n",
       "   array([ 0.27818589, -0.05975093]),\n",
       "   array([ 0.19658289, -0.07412861]),\n",
       "   array([ 0.19332543, -0.05131784]),\n",
       "   array([0.1829303 , 0.01423521]),\n",
       "   array([0.23520236, 0.04668259]),\n",
       "   array([0.19533689, 0.08529658]),\n",
       "   array([0.27050108, 0.03213618]),\n",
       "   array([ 0.1685813 , -0.01675829]),\n",
       "   array([0.22274663, 0.11128534]),\n",
       "   array([0.36664914, 0.01640008]),\n",
       "   array([ 0.29896198, -0.03228893]),\n",
       "   array([ 0.15182018, -0.04921142]),\n",
       "   array([0.21982803, 0.19720085]),\n",
       "   array([0.12642509, 0.02080056]),\n",
       "   array([ 0.21440051, -0.10138579]),\n",
       "   array([0.18786135, 0.03670577]),\n",
       "   array([ 0.25159688, -0.10702018]),\n",
       "   array([ 0.16595284, -0.06232811]),\n",
       "   array([0.27514807, 0.04499916]),\n",
       "   array([0.26434219, 0.1556196 ]),\n",
       "   array([0.19998956, 0.00261286]),\n",
       "   array([0.15968047, 0.16946578]),\n",
       "   array([ 0.25266347, -0.06295858]),\n",
       "   array([ 0.26765631, -0.02071202]),\n",
       "   array([0.13639671, 0.00834519]),\n",
       "   array([ 0.16968564, -0.13199886]),\n",
       "   array([0.22482873, 0.09837429]),\n",
       "   array([0.17202209, 0.05529196]),\n",
       "   array([ 0.23561323, -0.04077475]),\n",
       "   array([ 0.13902941, -0.10619584]),\n",
       "   array([0.10267853, 0.14155681]),\n",
       "   array([ 0.20536637, -0.12377755]),\n",
       "   array([0.28134636, 0.0346919 ]),\n",
       "   array([ 0.20544771, -0.04370096]),\n",
       "   array([ 0.16654885, -0.05674508]),\n",
       "   array([0.1537368 , 0.01554005]),\n",
       "   array([0.13074104, 0.23170194]),\n",
       "   array([ 0.12798612, -0.0921858 ]),\n",
       "   array([ 0.28660885, -0.16120995]),\n",
       "   array([ 0.20586518, -0.08502265]),\n",
       "   array([0.22894717, 0.06242174]),\n",
       "   array([ 0.17828231, -0.10834685]),\n",
       "   array([0.14985452, 0.018552  ]),\n",
       "   array([ 0.34076218, -0.08363223]),\n",
       "   array([0.21919465, 0.16669554]),\n",
       "   array([0.16722382, 0.08547077]),\n",
       "   array([0.24814825, 0.12863038]),\n",
       "   array([0.11960425, 0.10026308]),\n",
       "   array([ 0.21654778, -0.10679411]),\n",
       "   array([0.20203212, 0.05705758])]}]"
      ]
     },
     "execution_count": 49,
     "metadata": {},
     "output_type": "execute_result"
    }
   ],
   "source": [
    "[\n",
    "        {\n",
    "            'name': f'Cluster {k+1}',\n",
    "            'color': colors[i],\n",
    "            'data': cluster_data[i]\n",
    "        }\n",
    "        for i in range(k)\n",
    "    ]"
   ]
  },
  {
   "cell_type": "code",
   "execution_count": 50,
   "metadata": {},
   "outputs": [],
   "source": [
    "color = ['red', 'blue', 'green', 'purple', 'yellow'] * 2"
   ]
  },
  {
   "cell_type": "code",
   "execution_count": 51,
   "metadata": {},
   "outputs": [
    {
     "data": {
      "text/plain": [
       "'red'"
      ]
     },
     "execution_count": 51,
     "metadata": {},
     "output_type": "execute_result"
    }
   ],
   "source": [
    "color[0]"
   ]
  },
  {
   "cell_type": "code",
   "execution_count": 52,
   "metadata": {},
   "outputs": [
    {
     "ename": "NameError",
     "evalue": "name 't' is not defined",
     "output_type": "error",
     "traceback": [
      "\u001b[0;31m---------------------------------------------------------------------------\u001b[0m",
      "\u001b[0;31mNameError\u001b[0m                                 Traceback (most recent call last)",
      "\u001b[0;32m<ipython-input-52-de6c8b752b13>\u001b[0m in \u001b[0;36m<module>\u001b[0;34m()\u001b[0m\n\u001b[0;32m----> 1\u001b[0;31m \u001b[0mplt\u001b[0m\u001b[0;34m.\u001b[0m\u001b[0mscatter\u001b[0m\u001b[0;34m(\u001b[0m\u001b[0mt\u001b[0m\u001b[0;34m[\u001b[0m\u001b[0;34m:\u001b[0m\u001b[0;34m,\u001b[0m \u001b[0;36m0\u001b[0m\u001b[0;34m]\u001b[0m\u001b[0;34m,\u001b[0m \u001b[0mt\u001b[0m\u001b[0;34m[\u001b[0m\u001b[0;34m:\u001b[0m\u001b[0;34m,\u001b[0m \u001b[0;36m1\u001b[0m\u001b[0;34m]\u001b[0m\u001b[0;34m,\u001b[0m \u001b[0mcolor\u001b[0m\u001b[0;34m=\u001b[0m\u001b[0;34m[\u001b[0m\u001b[0mcolor\u001b[0m\u001b[0;34m[\u001b[0m\u001b[0mint\u001b[0m\u001b[0;34m(\u001b[0m\u001b[0mc\u001b[0m\u001b[0;34m)\u001b[0m\u001b[0;34m]\u001b[0m \u001b[0;32mfor\u001b[0m \u001b[0mc\u001b[0m \u001b[0;32min\u001b[0m \u001b[0massignments\u001b[0m\u001b[0;34m]\u001b[0m\u001b[0;34m)\u001b[0m\u001b[0;34m\u001b[0m\u001b[0m\n\u001b[0m",
      "\u001b[0;31mNameError\u001b[0m: name 't' is not defined"
     ]
    }
   ],
   "source": [
    "plt.scatter(t[:, 0], t[:, 1], color=[color[int(c)] for c in assignments])"
   ]
  },
  {
   "cell_type": "code",
   "execution_count": null,
   "metadata": {},
   "outputs": [],
   "source": [
    "plt.scatter(p[:, 0], p[:, 1], color=[color[int(c)] for c in assignments])"
   ]
  },
  {
   "cell_type": "markdown",
   "metadata": {},
   "source": [
    "### Birch"
   ]
  },
  {
   "cell_type": "code",
   "execution_count": 58,
   "metadata": {},
   "outputs": [],
   "source": [
    "from sklearn.cluster import Birch, SpectralClustering, AffinityPropagation, DBSCAN\n",
    "from sklearn.metrics.pairwise import euclidean_distances"
   ]
  },
  {
   "cell_type": "code",
   "execution_count": 53,
   "metadata": {},
   "outputs": [
    {
     "data": {
      "text/plain": [
       "<2225x1000 sparse matrix of type '<class 'numpy.float64'>'\n",
       "\twith 259748 stored elements in Compressed Sparse Row format>"
      ]
     },
     "execution_count": 53,
     "metadata": {},
     "output_type": "execute_result"
    }
   ],
   "source": [
    "bbc_vectorized_features_bound"
   ]
  },
  {
   "cell_type": "code",
   "execution_count": 56,
   "metadata": {},
   "outputs": [
    {
     "data": {
      "text/plain": [
       "Birch(branching_factor=50, compute_labels=True, copy=True, n_clusters=3,\n",
       "   threshold=0.5)"
      ]
     },
     "execution_count": 56,
     "metadata": {},
     "output_type": "execute_result"
    }
   ],
   "source": [
    "b = Birch(n_clusters=3)\n",
    "b.fit(bbc_vectorized_features_bound)"
   ]
  },
  {
   "cell_type": "code",
   "execution_count": 63,
   "metadata": {},
   "outputs": [
    {
     "data": {
      "text/plain": [
       "(1675,)"
      ]
     },
     "execution_count": 63,
     "metadata": {},
     "output_type": "execute_result"
    }
   ],
   "source": [
    "b.subcluster_labels_.shape"
   ]
  },
  {
   "cell_type": "code",
   "execution_count": 120,
   "metadata": {},
   "outputs": [],
   "source": [
    "from functools import reduce"
   ]
  },
  {
   "cell_type": "code",
   "execution_count": 122,
   "metadata": {},
   "outputs": [],
   "source": [
    "from operator import add"
   ]
  },
  {
   "cell_type": "code",
   "execution_count": 123,
   "metadata": {},
   "outputs": [
    {
     "data": {
      "text/plain": [
       "Counter({1: 1, 2: 2, 3: 2})"
      ]
     },
     "execution_count": 123,
     "metadata": {},
     "output_type": "execute_result"
    }
   ],
   "source": [
    "reduce(add, [Counter([1,2,3]), Counter([2,3])])"
   ]
  },
  {
   "cell_type": "code",
   "execution_count": null,
   "metadata": {},
   "outputs": [],
   "source": []
  },
  {
   "cell_type": "code",
   "execution_count": 133,
   "metadata": {},
   "outputs": [
    {
     "ename": "TypeError",
     "evalue": "unhashable type: 'set'",
     "output_type": "error",
     "traceback": [
      "\u001b[0;31m---------------------------------------------------------------------------\u001b[0m",
      "\u001b[0;31mTypeError\u001b[0m                                 Traceback (most recent call last)",
      "\u001b[0;32m<ipython-input-133-ed893331c2c0>\u001b[0m in \u001b[0;36m<module>\u001b[0;34m()\u001b[0m\n\u001b[0;32m----> 1\u001b[0;31m \u001b[0mset\u001b[0m\u001b[0;34m(\u001b[0m\u001b[0mfrozenset\u001b[0m\u001b[0;34m(\u001b[0m\u001b[0;34m[\u001b[0m\u001b[0;36m1\u001b[0m\u001b[0;34m,\u001b[0m\u001b[0;36m2\u001b[0m\u001b[0;34m,\u001b[0m\u001b[0;36m3\u001b[0m\u001b[0;34m]\u001b[0m\u001b[0;34m)\u001b[0m\u001b[0;34m)\u001b[0m\u001b[0;34m.\u001b[0m\u001b[0madd\u001b[0m\u001b[0;34m(\u001b[0m\u001b[0;34m{\u001b[0m\u001b[0;36m1\u001b[0m\u001b[0;34m,\u001b[0m \u001b[0;36m2\u001b[0m\u001b[0;34m}\u001b[0m\u001b[0;34m)\u001b[0m\u001b[0;34m\u001b[0m\u001b[0m\n\u001b[0m",
      "\u001b[0;31mTypeError\u001b[0m: unhashable type: 'set'"
     ]
    }
   ],
   "source": [
    "set(frozenset([1,2,3])).add({1, 2})"
   ]
  },
  {
   "cell_type": "code",
   "execution_count": 127,
   "metadata": {},
   "outputs": [
    {
     "name": "stdout",
     "output_type": "stream",
     "text": [
      "1\n",
      "2\n",
      "3\n",
      "4\n",
      "5\n",
      "6\n"
     ]
    }
   ],
   "source": [
    "xx = [[1,2,3], [4,5,6]]\n",
    "\n",
    "for x in xx:\n",
    "    for y in x:\n",
    "        print(y)"
   ]
  },
  {
   "cell_type": "code",
   "execution_count": 128,
   "metadata": {},
   "outputs": [],
   "source": [
    "import string"
   ]
  },
  {
   "cell_type": "code",
   "execution_count": 129,
   "metadata": {},
   "outputs": [
    {
     "data": {
      "text/plain": [
       "'said people music said. government film year best like just'"
      ]
     },
     "execution_count": 129,
     "metadata": {},
     "output_type": "execute_result"
    }
   ],
   "source": [
    "\"said people music said. government film year best like just\".strip(string.punctuation)"
   ]
  },
  {
   "cell_type": "code",
   "execution_count": 65,
   "metadata": {},
   "outputs": [
    {
     "data": {
      "text/plain": [
       "(2225, 1675)"
      ]
     },
     "execution_count": 65,
     "metadata": {},
     "output_type": "execute_result"
    }
   ],
   "source": [
    "b.transform(bbc_vectorized_features_bound).shape"
   ]
  },
  {
   "cell_type": "code",
   "execution_count": 116,
   "metadata": {},
   "outputs": [],
   "source": [
    "from collections import Counter"
   ]
  },
  {
   "cell_type": "code",
   "execution_count": 125,
   "metadata": {},
   "outputs": [
    {
     "data": {
      "text/plain": [
       "[('it', 2), ('thi', 1), ('sis', 1), ('this', 1), ('is', 1), ('not', 1)]"
      ]
     },
     "execution_count": 125,
     "metadata": {},
     "output_type": "execute_result"
    }
   ],
   "source": [
    "cc = Counter('thi sis it'.split()) + Counter('this is not it'.split())\n",
    "cc.most_common(10)"
   ]
  },
  {
   "cell_type": "code",
   "execution_count": 108,
   "metadata": {},
   "outputs": [
    {
     "data": {
      "text/plain": [
       "<2225x1000 sparse matrix of type '<class 'numpy.float64'>'\n",
       "\twith 259748 stored elements in Compressed Sparse Row format>"
      ]
     },
     "execution_count": 108,
     "metadata": {},
     "output_type": "execute_result"
    }
   ],
   "source": [
    "bbc_vectorized_features_bound"
   ]
  },
  {
   "cell_type": "code",
   "execution_count": 107,
   "metadata": {},
   "outputs": [
    {
     "data": {
      "text/plain": [
       "[[1], [], [], [], [], [], [], [], [], []]"
      ]
     },
     "execution_count": 107,
     "metadata": {},
     "output_type": "execute_result"
    }
   ],
   "source": [
    "a = [[] for _ in range(10)]\n",
    "a[0].append(1)\n",
    "a"
   ]
  },
  {
   "cell_type": "code",
   "execution_count": 57,
   "metadata": {},
   "outputs": [
    {
     "data": {
      "text/plain": [
       "array([[0.        , 0.        , 0.        , ..., 0.        , 0.        ,\n",
       "        0.        ],\n",
       "       [0.        , 0.        , 0.1918507 , ..., 0.        , 0.        ,\n",
       "        0.        ],\n",
       "       [0.        , 0.        , 0.        , ..., 0.        , 0.        ,\n",
       "        0.        ],\n",
       "       ...,\n",
       "       [0.        , 0.        , 0.        , ..., 0.15039556, 0.0484423 ,\n",
       "        0.        ],\n",
       "       [0.06550933, 0.        , 0.        , ..., 0.        , 0.        ,\n",
       "        0.        ],\n",
       "       [0.        , 0.        , 0.        , ..., 0.        , 0.        ,\n",
       "        0.        ]])"
      ]
     },
     "execution_count": 57,
     "metadata": {},
     "output_type": "execute_result"
    }
   ],
   "source": [
    "b.subcluster_centers_"
   ]
  },
  {
   "cell_type": "code",
   "execution_count": 104,
   "metadata": {},
   "outputs": [
    {
     "data": {
      "text/plain": [
       "0    1536\n",
       "1     507\n",
       "2     182\n",
       "dtype: int64"
      ]
     },
     "execution_count": 104,
     "metadata": {},
     "output_type": "execute_result"
    }
   ],
   "source": [
    "pd.Series(b.labels_).value_counts()"
   ]
  },
  {
   "cell_type": "markdown",
   "metadata": {},
   "source": [
    "### DBSCAN"
   ]
  },
  {
   "cell_type": "code",
   "execution_count": 77,
   "metadata": {},
   "outputs": [],
   "source": [
    "from sklearn.decomposition import PCA, IncrementalPCA\n",
    "from sklearn.preprocessing import StandardScaler\n"
   ]
  },
  {
   "cell_type": "code",
   "execution_count": 78,
   "metadata": {},
   "outputs": [],
   "source": [
    "pca = IncrementalPCA(n_components=2).fit_transform(data)\n",
    "pca = StandardScaler().fit_transform(pca)"
   ]
  },
  {
   "cell_type": "code",
   "execution_count": 79,
   "metadata": {},
   "outputs": [
    {
     "data": {
      "text/plain": [
       "DBSCAN(algorithm='auto', eps=0.2, leaf_size=30, metric='euclidean',\n",
       "    metric_params=None, min_samples=5, n_jobs=None, p=None)"
      ]
     },
     "execution_count": 79,
     "metadata": {},
     "output_type": "execute_result"
    }
   ],
   "source": [
    "db = DBSCAN(eps=.2)\n",
    "db.fit(pca)"
   ]
  },
  {
   "cell_type": "code",
   "execution_count": 80,
   "metadata": {},
   "outputs": [
    {
     "data": {
      "text/plain": [
       " 0    895\n",
       "-1     68\n",
       " 2     16\n",
       " 1     12\n",
       " 3      9\n",
       "dtype: int64"
      ]
     },
     "execution_count": 80,
     "metadata": {},
     "output_type": "execute_result"
    }
   ],
   "source": [
    "pd.Series(db.labels_).value_counts()"
   ]
  },
  {
   "cell_type": "code",
   "execution_count": 82,
   "metadata": {},
   "outputs": [
    {
     "data": {
      "text/plain": [
       "(882,)"
      ]
     },
     "execution_count": 82,
     "metadata": {},
     "output_type": "execute_result"
    }
   ],
   "source": [
    "db.core_sample_indices_.shape"
   ]
  },
  {
   "cell_type": "code",
   "execution_count": 84,
   "metadata": {},
   "outputs": [
    {
     "data": {
      "text/plain": [
       "(882, 2)"
      ]
     },
     "execution_count": 84,
     "metadata": {},
     "output_type": "execute_result"
    }
   ],
   "source": [
    "db.components_.shape"
   ]
  },
  {
   "cell_type": "code",
   "execution_count": null,
   "metadata": {},
   "outputs": [],
   "source": [
    "db."
   ]
  },
  {
   "cell_type": "markdown",
   "metadata": {},
   "source": [
    "### Affinity"
   ]
  },
  {
   "cell_type": "code",
   "execution_count": 86,
   "metadata": {},
   "outputs": [
    {
     "data": {
      "text/plain": [
       "AffinityPropagation(affinity='euclidean', convergence_iter=15, copy=True,\n",
       "          damping=0.5, max_iter=200, preference=None, verbose=False)"
      ]
     },
     "execution_count": 86,
     "metadata": {},
     "output_type": "execute_result"
    }
   ],
   "source": [
    "a = AffinityPropagation()\n",
    "a.fit(pca)"
   ]
  },
  {
   "cell_type": "code",
   "execution_count": 88,
   "metadata": {},
   "outputs": [
    {
     "data": {
      "text/plain": [
       "(29, 2)"
      ]
     },
     "execution_count": 88,
     "metadata": {},
     "output_type": "execute_result"
    }
   ],
   "source": [
    "a.cluster_centers_.shape"
   ]
  },
  {
   "cell_type": "code",
   "execution_count": 89,
   "metadata": {},
   "outputs": [
    {
     "data": {
      "text/plain": [
       "array([ 3, 17, 22,  9, 18,  5, 23,  9, 28,  0, 18,  2, 27,  5, 14, 27, 23,\n",
       "       16, 27, 25,  3,  3, 17,  6,  3,  0, 19, 21, 23, 19, 26,  4,  0,  0,\n",
       "       15, 17, 27, 23, 23, 24, 15,  1, 27, 28, 25, 23, 17,  8, 26,  2, 14,\n",
       "       23, 27, 27, 22,  3, 23, 10, 14,  4,  4,  9, 20, 28, 27, 25, 25, 13,\n",
       "       25, 15, 26,  2, 15,  6,  3, 26, 27, 26,  9,  3, 20,  6, 15,  2, 11,\n",
       "        5,  3, 20, 26, 13, 28,  9, 17, 28, 15,  7,  2, 14, 27,  6,  2, 28,\n",
       "        4, 26,  8, 15,  6, 15,  0, 21, 24, 26, 28,  0, 14,  6, 11, 23,  6,\n",
       "        6, 12, 17, 25, 21,  2, 27,  4, 10, 21, 28,  4,  2,  1,  2, 25,  4,\n",
       "        0, 26,  1,  3,  4,  4, 23,  9, 23,  2,  6, 11, 14,  4, 26, 27, 16,\n",
       "       24,  3, 26, 10,  2,  4,  3, 11,  5, 21,  0, 16, 24, 17, 17,  5, 11,\n",
       "        5,  9,  2, 21, 23, 24, 19,  7, 25, 26, 10, 26, 10, 25, 12,  6, 25,\n",
       "       28, 16, 19, 17,  4,  8, 25, 15,  1, 13, 21, 13, 15, 11, 24, 10,  3,\n",
       "       11, 15,  8,  5, 15, 22,  6,  3, 19, 12,  6, 28,  0,  6,  3,  3, 11,\n",
       "       13,  7,  8, 20, 13, 26,  6,  3,  1,  3, 17, 22, 12, 13, 24,  3,  2,\n",
       "       25,  3, 27,  7,  2, 14, 24, 10, 15, 24,  4,  7, 22,  7, 16, 25, 21,\n",
       "        3, 23, 21,  9,  8, 15,  2, 25,  0, 23,  6, 10, 25, 13,  5, 25, 15,\n",
       "       28, 11, 28, 15, 13,  7, 24, 14,  0, 26, 13, 23,  3, 15, 13, 23,  8,\n",
       "        7, 27,  3,  0, 22, 20, 15, 18,  7,  7,  9,  6,  5, 25,  1, 27, 14,\n",
       "        9, 18, 10, 21, 26, 25, 11,  3, 12, 22, 15,  7, 24,  4, 27,  5, 24,\n",
       "       22, 15, 13,  2, 28, 13,  5, 24,  3, 15, 24, 14, 14,  7, 25,  4, 16,\n",
       "        4, 26,  3,  8, 20, 28, 15,  3, 26, 15,  0,  3,  3, 22, 22, 25, 21,\n",
       "       20, 25,  3,  7,  4, 24, 25,  0, 11,  3,  7, 25,  0, 23, 25, 19,  0,\n",
       "       12, 16, 15, 23, 15, 26,  6, 15, 27,  7, 26,  8, 10,  9, 13,  8,  0,\n",
       "        2,  1, 25, 20,  9, 25, 23, 21,  8,  1,  4, 15, 25, 15,  1, 11, 15,\n",
       "        8,  3,  0,  2, 16, 13,  8, 27, 15, 15,  7, 22, 25, 10,  9, 18, 14,\n",
       "        9,  9, 13, 20,  4, 20,  8,  9, 10, 25,  3,  2,  3,  0, 23,  3, 15,\n",
       "        9,  0,  2,  0, 25, 27, 10, 24, 21, 20,  2,  1,  0,  4, 21,  8, 13,\n",
       "       10, 25, 12, 21, 25, 24, 14, 10,  0, 21,  8,  3, 16,  8, 25, 25, 19,\n",
       "        3,  3,  6, 15, 14, 14, 16, 17, 14, 28,  8, 14, 19, 20, 10, 13, 15,\n",
       "        5, 16, 21, 25, 25,  3, 25, 20, 27, 25, 17, 14, 22,  9,  4,  8, 12,\n",
       "        6,  9, 23,  2,  3,  9,  8,  7, 27, 23, 20, 13,  3, 16, 13, 24, 14,\n",
       "       15, 27, 22,  5, 14, 14, 14, 21, 27, 13, 15, 26,  4, 25, 13,  3, 24,\n",
       "       11,  7,  7,  4, 23,  0,  8,  0, 16, 15, 26, 12,  9, 15,  7, 18,  9,\n",
       "        0, 15, 20,  9,  8,  0,  8, 19, 18, 22,  8, 18, 15,  8, 15, 21,  7,\n",
       "        0, 20,  3, 22, 11, 19,  9, 17, 18, 19, 14, 20, 15, 17, 24, 13,  9,\n",
       "       13, 10, 26, 15, 15, 19, 12,  0,  6, 15, 16,  4,  4, 16,  9, 20, 10,\n",
       "        8, 17, 19, 15, 25, 21,  4, 15, 15, 23, 21,  9, 21, 20,  4,  7, 12,\n",
       "        6, 16, 25,  4, 15, 22,  4, 23, 15,  8, 20, 23, 23, 13, 26,  3, 14,\n",
       "       21,  3, 12, 20, 14, 13,  3, 22, 21,  0,  6,  3,  1, 10,  8,  0, 15,\n",
       "       21,  0, 20, 24, 13, 20, 11, 13,  6, 25, 15, 23, 17, 25, 23,  6, 28,\n",
       "        2, 27, 20,  0, 22, 15,  0, 27, 10, 11, 26,  8, 26,  6,  7, 28, 15,\n",
       "        5,  7,  3, 23,  3, 17, 10, 24, 27,  9, 25,  4,  4, 25, 15, 19, 17,\n",
       "       27,  0, 19, 23, 15, 25,  9,  4, 14, 10, 23, 13,  7, 25, 12,  6,  4,\n",
       "       14,  6, 12, 22, 24, 22,  2, 15, 23, 25, 25, 14, 14,  4, 24, 27, 15,\n",
       "        8,  6,  2,  0, 21, 10, 16, 25, 25, 20, 26, 20, 26, 12, 22, 17, 22,\n",
       "        2, 18,  4, 20,  2, 14,  8, 26, 14, 26,  0, 21, 13, 20,  4,  9,  4,\n",
       "       12,  9, 13,  3, 20, 15, 13,  1, 25,  8, 15,  4, 13, 14, 25,  3, 12,\n",
       "        6,  3,  9, 15,  3,  1,  1, 24, 18, 15, 27, 22, 27, 17, 24, 12, 27,\n",
       "        3, 23, 27, 24, 28, 20, 28, 27,  8,  6, 26,  5, 10,  2,  9, 23, 21,\n",
       "       10, 12,  7, 25, 20, 22,  3, 21,  9, 12, 20,  4, 27, 28,  3, 27, 14,\n",
       "        7,  3, 19, 24, 21,  3,  6, 10,  7,  3,  3, 21, 21,  3,  4, 26, 11,\n",
       "       26,  1,  3, 27, 26,  6,  5, 17,  4, 23, 25, 25,  2, 21, 15, 17,  5,\n",
       "       15, 22,  8, 17,  7, 15,  9, 21,  6,  0,  5, 13, 20, 23, 14, 22, 22,\n",
       "       28,  4, 13,  4, 17,  7,  8,  4,  8,  7, 15,  3, 25,  2, 22, 25, 25,\n",
       "        3, 21, 12, 21, 13, 27, 13, 21, 15,  1,  8,  3, 15,  2,  2, 12, 21,\n",
       "       18, 14, 21, 22, 19,  6, 20, 19, 20, 22, 17, 23,  0, 27, 10,  3, 16,\n",
       "       22, 18,  3,  2, 21,  9, 24, 24, 27,  7, 15, 25, 21, 24,  4,  7, 22,\n",
       "       20, 21,  3,  4, 27, 24,  6,  7,  1, 17, 23, 19,  3, 28,  4, 13,  9,\n",
       "        3, 26, 28,  7, 25, 25,  4, 15,  6,  6, 10, 14,  9,  0])"
      ]
     },
     "execution_count": 89,
     "metadata": {},
     "output_type": "execute_result"
    }
   ],
   "source": [
    "a.labels_"
   ]
  },
  {
   "cell_type": "code",
   "execution_count": 91,
   "metadata": {},
   "outputs": [
    {
     "data": {
      "text/plain": [
       "array([ 33,  41,  49,  74, 126, 161, 214, 249, 259, 306, 308, 312, 314,\n",
       "       325, 334, 402, 552, 585, 586, 614, 649, 663, 684, 700, 806, 836,\n",
       "       867, 973, 982])"
      ]
     },
     "execution_count": 91,
     "metadata": {},
     "output_type": "execute_result"
    }
   ],
   "source": [
    "a.cluster_centers_indices_"
   ]
  },
  {
   "cell_type": "code",
   "execution_count": 96,
   "metadata": {},
   "outputs": [
    {
     "data": {
      "text/plain": [
       "'call to save manufacturing jobs the trades union congress (tuc) is calling on the government to stem job losses in manufacturing firms by reviewing the help it gives companies.  the tuc said in its submission before the budget that action is needed because of 105 000 jobs lost from the sector over the last year. it calls for better pensions  child care provision and decent wages. the 36-page submission also urges the government to examine support other european countries provide to industry. tuc general secretary brendan barber called for  a commitment to policies that will make a real difference to the lives of working people.    greater investment in childcare strategies and the people delivering that childcare will increases the options available to working parents   he said.  a commitment to our public services and manufacturing sector ensures that we can continue to compete on a global level and deliver the frontline services that this country needs.  he also called for  practical measures  to help pensioners  especially women who he said  are most likely to retire in poverty . the submission also calls for decent wages and training for people working in the manufacturing sector.'"
      ]
     },
     "execution_count": 96,
     "metadata": {},
     "output_type": "execute_result"
    }
   ],
   "source": [
    "bbc[74]"
   ]
  },
  {
   "cell_type": "code",
   "execution_count": 97,
   "metadata": {},
   "outputs": [],
   "source": [
    "s = SpectralClustering(n_clusters=3)"
   ]
  },
  {
   "cell_type": "code",
   "execution_count": 98,
   "metadata": {},
   "outputs": [
    {
     "data": {
      "text/plain": [
       "SpectralClustering(affinity='rbf', assign_labels='kmeans', coef0=1, degree=3,\n",
       "          eigen_solver=None, eigen_tol=0.0, gamma=1.0, kernel_params=None,\n",
       "          n_clusters=3, n_init=10, n_jobs=None, n_neighbors=10,\n",
       "          random_state=None)"
      ]
     },
     "execution_count": 98,
     "metadata": {},
     "output_type": "execute_result"
    }
   ],
   "source": [
    "s.fit(bbc_vectorized)"
   ]
  },
  {
   "cell_type": "code",
   "execution_count": 100,
   "metadata": {},
   "outputs": [
    {
     "data": {
      "text/plain": [
       "array([1, 0, 0, ..., 0, 2, 0], dtype=int32)"
      ]
     },
     "execution_count": 100,
     "metadata": {},
     "output_type": "execute_result"
    }
   ],
   "source": [
    "s.labels_"
   ]
  },
  {
   "cell_type": "code",
   "execution_count": 102,
   "metadata": {},
   "outputs": [
    {
     "data": {
      "text/plain": [
       "(2225, 2225)"
      ]
     },
     "execution_count": 102,
     "metadata": {},
     "output_type": "execute_result"
    }
   ],
   "source": [
    "s.affinity_matrix_.shape"
   ]
  },
  {
   "cell_type": "code",
   "execution_count": null,
   "metadata": {},
   "outputs": [],
   "source": []
  }
 ],
 "metadata": {
  "kernelspec": {
   "display_name": "Python 3",
   "language": "python",
   "name": "python3"
  },
  "language_info": {
   "codemirror_mode": {
    "name": "ipython",
    "version": 3
   },
   "file_extension": ".py",
   "mimetype": "text/x-python",
   "name": "python",
   "nbconvert_exporter": "python",
   "pygments_lexer": "ipython3",
   "version": "3.6.5"
  }
 },
 "nbformat": 4,
 "nbformat_minor": 2
}
