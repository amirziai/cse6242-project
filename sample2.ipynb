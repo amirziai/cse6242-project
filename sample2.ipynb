{
 "cells": [
  {
   "cell_type": "code",
   "execution_count": 1,
   "metadata": {},
   "outputs": [],
   "source": [
    "%matplotlib inline"
   ]
  },
  {
   "cell_type": "code",
   "execution_count": 2,
   "metadata": {},
   "outputs": [],
   "source": [
    "%load_ext autoreload"
   ]
  },
  {
   "cell_type": "code",
   "execution_count": 3,
   "metadata": {},
   "outputs": [],
   "source": [
    "%autoreload 2"
   ]
  },
  {
   "cell_type": "code",
   "execution_count": 4,
   "metadata": {},
   "outputs": [],
   "source": [
    "import numpy as np\n",
    "import matplotlib.pyplot as plt\n",
    "from scipy.cluster.vq import kmeans2\n",
    "from scipy.spatial.distance import cdist\n",
    "\n",
    "import datasets\n",
    "import preprocessing"
   ]
  },
  {
   "cell_type": "markdown",
   "metadata": {},
   "source": [
    "### Get data"
   ]
  },
  {
   "cell_type": "code",
   "execution_count": 5,
   "metadata": {},
   "outputs": [],
   "source": [
    "# BBC corpus\n",
    "bbc = datasets.get_bbc()"
   ]
  },
  {
   "cell_type": "code",
   "execution_count": 5,
   "metadata": {},
   "outputs": [
    {
     "data": {
      "text/plain": [
       "list"
      ]
     },
     "execution_count": 5,
     "metadata": {},
     "output_type": "execute_result"
    }
   ],
   "source": [
    "# bbc is a list of strings\n",
    "type(bbc)"
   ]
  },
  {
   "cell_type": "code",
   "execution_count": 6,
   "metadata": {},
   "outputs": [
    {
     "data": {
      "text/plain": [
       "str"
      ]
     },
     "execution_count": 6,
     "metadata": {},
     "output_type": "execute_result"
    }
   ],
   "source": [
    "type(bbc[0])"
   ]
  },
  {
   "cell_type": "code",
   "execution_count": 7,
   "metadata": {},
   "outputs": [
    {
     "data": {
      "text/plain": [
       "2225"
      ]
     },
     "execution_count": 7,
     "metadata": {},
     "output_type": "execute_result"
    }
   ],
   "source": [
    "len(bbc)"
   ]
  },
  {
   "cell_type": "code",
   "execution_count": 9,
   "metadata": {},
   "outputs": [
    {
     "data": {
      "text/plain": [
       "'tv future in the hands of viewers with home theatre systems  plasma high-definition tvs  and digital'"
      ]
     },
     "execution_count": 9,
     "metadata": {},
     "output_type": "execute_result"
    }
   ],
   "source": [
    "# first 100 chars of the 1st doc\n",
    "bbc[0][:100]"
   ]
  },
  {
   "cell_type": "code",
   "execution_count": 10,
   "metadata": {},
   "outputs": [],
   "source": [
    "# pre-process and vectorize\n",
    "processor = preprocessing.NLPProcessor('tf-idf')\n",
    "bbc_vectorized = processor.fit_transform(bbc)"
   ]
  },
  {
   "cell_type": "code",
   "execution_count": 11,
   "metadata": {},
   "outputs": [
    {
     "data": {
      "text/plain": [
       "scipy.sparse.csr.csr_matrix"
      ]
     },
     "execution_count": 11,
     "metadata": {},
     "output_type": "execute_result"
    }
   ],
   "source": [
    "# sparse matrix\n",
    "type(bbc_vectorized)"
   ]
  },
  {
   "cell_type": "code",
   "execution_count": 12,
   "metadata": {},
   "outputs": [
    {
     "data": {
      "text/plain": [
       "(2225, 29421)"
      ]
     },
     "execution_count": 12,
     "metadata": {},
     "output_type": "execute_result"
    }
   ],
   "source": [
    "# 2,225 docs with 29,421 sparse features\n",
    "bbc_vectorized.shape"
   ]
  },
  {
   "cell_type": "markdown",
   "metadata": {},
   "source": [
    "### Similarity metric"
   ]
  },
  {
   "cell_type": "code",
   "execution_count": 10,
   "metadata": {},
   "outputs": [],
   "source": [
    "from sklearn.metrics.pairwise import cosine_similarity"
   ]
  },
  {
   "cell_type": "code",
   "execution_count": 13,
   "metadata": {},
   "outputs": [
    {
     "data": {
      "text/plain": [
       "array([[0.09372963]])"
      ]
     },
     "execution_count": 13,
     "metadata": {},
     "output_type": "execute_result"
    }
   ],
   "source": [
    "# cosine similarity between 1st and 2nd doc\n",
    "cosine_similarity(bbc_vectorized[0], bbc_vectorized[1])"
   ]
  },
  {
   "cell_type": "code",
   "execution_count": 14,
   "metadata": {},
   "outputs": [
    {
     "data": {
      "text/plain": [
       "array([[1.        , 0.09372963, 0.16603523, ..., 0.14290773, 0.23992781,\n",
       "        0.18738048],\n",
       "       [0.09372963, 1.        , 0.08616861, ..., 0.04780253, 0.09995931,\n",
       "        0.08760382],\n",
       "       [0.16603523, 0.08616861, 1.        , ..., 0.09247675, 0.17008746,\n",
       "        0.1621905 ],\n",
       "       ...,\n",
       "       [0.14290773, 0.04780253, 0.09247675, ..., 1.        , 0.11614638,\n",
       "        0.08908685],\n",
       "       [0.23992781, 0.09995931, 0.17008746, ..., 0.11614638, 1.        ,\n",
       "        0.15640773],\n",
       "       [0.18738048, 0.08760382, 0.1621905 , ..., 0.08908685, 0.15640773,\n",
       "        1.        ]])"
      ]
     },
     "execution_count": 14,
     "metadata": {},
     "output_type": "execute_result"
    }
   ],
   "source": [
    "# cosine similarity of all 2,225 docs\n",
    "# in a matrix of 2,225 x 2,225\n",
    "cosine_similarity(bbc_vectorized)"
   ]
  },
  {
   "cell_type": "code",
   "execution_count": null,
   "metadata": {},
   "outputs": [],
   "source": [
    "# ..."
   ]
  },
  {
   "cell_type": "markdown",
   "metadata": {},
   "source": [
    "### Clustering"
   ]
  },
  {
   "cell_type": "code",
   "execution_count": 8,
   "metadata": {},
   "outputs": [],
   "source": [
    "from sklearn.cluster import KMeans"
   ]
  },
  {
   "cell_type": "code",
   "execution_count": 9,
   "metadata": {},
   "outputs": [],
   "source": [
    "k = KMeans(n_clusters=5)"
   ]
  },
  {
   "cell_type": "code",
   "execution_count": 10,
   "metadata": {},
   "outputs": [],
   "source": [
    "# this will take a while\n",
    "# k.fit(bbc_vectorized)"
   ]
  },
  {
   "cell_type": "code",
   "execution_count": 11,
   "metadata": {},
   "outputs": [],
   "source": [
    "# take only the top 1,000 most occurring tokens in the corpus \n",
    "p = preprocessing.NLPProcessor(max_features=1000)\n",
    "bbc_vectorized_features_bound = p.fit_transform(bbc)"
   ]
  },
  {
   "cell_type": "code",
   "execution_count": 12,
   "metadata": {},
   "outputs": [
    {
     "data": {
      "text/plain": [
       "(2225, 1000)"
      ]
     },
     "execution_count": 12,
     "metadata": {},
     "output_type": "execute_result"
    }
   ],
   "source": [
    "bbc_vectorized_features_bound.shape"
   ]
  },
  {
   "cell_type": "code",
   "execution_count": 13,
   "metadata": {},
   "outputs": [
    {
     "name": "stdout",
     "output_type": "stream",
     "text": [
      "CPU times: user 1min 17s, sys: 393 ms, total: 1min 17s\n",
      "Wall time: 26.1 s\n"
     ]
    },
    {
     "data": {
      "text/plain": [
       "KMeans(algorithm='auto', copy_x=True, init='k-means++', max_iter=300,\n",
       "    n_clusters=5, n_init=10, n_jobs=None, precompute_distances='auto',\n",
       "    random_state=None, tol=0.0001, verbose=0)"
      ]
     },
     "execution_count": 13,
     "metadata": {},
     "output_type": "execute_result"
    }
   ],
   "source": [
    "%%time\n",
    "k.fit(bbc_vectorized_features_bound)"
   ]
  },
  {
   "cell_type": "code",
   "execution_count": 21,
   "metadata": {},
   "outputs": [
    {
     "data": {
      "text/plain": [
       "array([2, 4, 0, ..., 2, 2, 0], dtype=int32)"
      ]
     },
     "execution_count": 21,
     "metadata": {},
     "output_type": "execute_result"
    }
   ],
   "source": [
    "k.predict(bbc_vectorized_features_bound)"
   ]
  },
  {
   "cell_type": "code",
   "execution_count": 94,
   "metadata": {},
   "outputs": [],
   "source": [
    "# ..."
   ]
  },
  {
   "cell_type": "markdown",
   "metadata": {},
   "source": [
    "### Interactive"
   ]
  },
  {
   "cell_type": "code",
   "execution_count": 6,
   "metadata": {},
   "outputs": [],
   "source": [
    "import interactive"
   ]
  },
  {
   "cell_type": "code",
   "execution_count": 54,
   "metadata": {},
   "outputs": [],
   "source": [
    "k = 5  # start with assuming there are 10 clusters\n",
    "options = (1.1, 25, 0.01, 0)\n",
    "userU = -1\n",
    "docs = 1000"
   ]
  },
  {
   "cell_type": "code",
   "execution_count": 55,
   "metadata": {},
   "outputs": [],
   "source": [
    "p = preprocessing.NLPProcessor(max_features=1000)\n",
    "bbc_vectorized_features_bound = p.fit_transform(bbc)"
   ]
  },
  {
   "cell_type": "code",
   "execution_count": 56,
   "metadata": {},
   "outputs": [],
   "source": [
    "data = bbc_vectorized_features_bound[:docs].todense()\n",
    "terms = np.array(p.vec.get_feature_names()).reshape((1, 1000))"
   ]
  },
  {
   "cell_type": "code",
   "execution_count": 57,
   "metadata": {},
   "outputs": [
    {
     "name": "stderr",
     "output_type": "stream",
     "text": [
      "/anaconda3/lib/python3.6/site-packages/scipy/cluster/vq.py:525: UserWarning: One of the clusters is empty. Re-run kmeans with a different initialization.\n",
      "  warnings.warn(\"One of the clusters is empty. \"\n"
     ]
    }
   ],
   "source": [
    "# run the algo with no user input\n",
    "x = interactive.icluster(data, terms, [], k, userU=-1)\n",
    "clusterDocs, clusterKeyterms, keyterms, silhouette_avg = x"
   ]
  },
  {
   "cell_type": "code",
   "execution_count": 58,
   "metadata": {},
   "outputs": [
    {
     "data": {
      "text/plain": [
       "[[3, 4, 8, 9, 15],\n",
       " [3, 5, 20, 21, 22],\n",
       " [2, 6, 7, 14, 29],\n",
       " [1, 3, 5, 10, 11],\n",
       " [12, 13, 16, 19, 20]]"
      ]
     },
     "execution_count": 58,
     "metadata": {},
     "output_type": "execute_result"
    }
   ],
   "source": [
    "# sample docs in clusters 0 to k-1\n",
    "[x[:5] for x in clusterDocs]"
   ]
  },
  {
   "cell_type": "code",
   "execution_count": 59,
   "metadata": {},
   "outputs": [
    {
     "data": {
      "text/plain": [
       "[['win', 'cup', 'side', 'game', 'coach'],\n",
       " ['users', 'using', 'broadband', 'online', 'microsoft'],\n",
       " ['election', 'party', 'labour', 'tory', 'tories'],\n",
       " ['film', 'films', 'actor', 'movie', 'tv'],\n",
       " ['growth', 'economy', 'analysts', 'shares', 'oil']]"
      ]
     },
     "execution_count": 59,
     "metadata": {},
     "output_type": "execute_result"
    }
   ],
   "source": [
    "# there seem to be some legitimate clusters forming\n",
    "# some overlap\n",
    "# and some catchall cluster for all common words (need stop word removal?)\n",
    "[x[:5] for x in clusterKeyterms]"
   ]
  },
  {
   "cell_type": "markdown",
   "metadata": {},
   "source": [
    "#### Get user input\n",
    "Specify number of clusters and top terms"
   ]
  },
  {
   "cell_type": "code",
   "execution_count": 60,
   "metadata": {},
   "outputs": [
    {
     "data": {
      "text/plain": [
       "[['win', 'cup', 'side', 'game', 'coach'],\n",
       " ['users', 'using', 'broadband', 'online', 'microsoft'],\n",
       " ['election', 'party', 'labour', 'tory', 'tories'],\n",
       " ['film', 'films', 'actor', 'movie', 'tv'],\n",
       " ['growth', 'economy', 'analysts', 'shares', 'oil']]"
      ]
     },
     "execution_count": 60,
     "metadata": {},
     "output_type": "execute_result"
    }
   ],
   "source": [
    "user_input = [x[:5] for x in clusterKeyterms]\n",
    "user_input"
   ]
  },
  {
   "cell_type": "code",
   "execution_count": 61,
   "metadata": {},
   "outputs": [],
   "source": [
    "# looks like there are 5 clusters at a first glance\n",
    "user_input = [\n",
    "    ['film', 'tv', 'music', 'oscar'],\n",
    "    ['growth', 'economy', 'stock', 'investor'],\n",
    "    ['technology', 'web', 'software'],\n",
    "    ['olympic', 'game', 'cup', 'coach', 'game', 'club'],\n",
    "    ['law', 'government', 'election', 'blair'],\n",
    "]"
   ]
  },
  {
   "cell_type": "code",
   "execution_count": 62,
   "metadata": {},
   "outputs": [],
   "source": [
    "# run it with user input\n",
    "x = interactive.icluster(data, terms, user_input, len(user_input), userU=+1)\n",
    "clusterDocs, clusterKeyterms, keyterms, silhouette_avg = x"
   ]
  },
  {
   "cell_type": "code",
   "execution_count": 63,
   "metadata": {},
   "outputs": [
    {
     "data": {
      "text/plain": [
       "[['film', 'her', 'award', 'actress', 'actor'],\n",
       " ['growth', 'economy', 'analysts', 'shares', 'its'],\n",
       " ['users', 'digital', 'technology', 'broadband', 'microsoft'],\n",
       " ['side', 'game', 'cup', 'coach', 'match'],\n",
       " ['labour', 'election', 'party', 'secretary', 'mr']]"
      ]
     },
     "execution_count": 63,
     "metadata": {},
     "output_type": "execute_result"
    }
   ],
   "source": [
    "# seem to be getting better clusters\n",
    "[x[:5] for x in clusterKeyterms]"
   ]
  },
  {
   "cell_type": "code",
   "execution_count": 64,
   "metadata": {},
   "outputs": [
    {
     "data": {
      "text/plain": [
       "2225"
      ]
     },
     "execution_count": 64,
     "metadata": {},
     "output_type": "execute_result"
    }
   ],
   "source": [
    "len(bbc)"
   ]
  },
  {
   "cell_type": "code",
   "execution_count": 65,
   "metadata": {},
   "outputs": [
    {
     "data": {
      "text/plain": [
       "1038"
      ]
     },
     "execution_count": 65,
     "metadata": {},
     "output_type": "execute_result"
    }
   ],
   "source": [
    "sum([len(x) for x in clusterDocs])"
   ]
  },
  {
   "cell_type": "code",
   "execution_count": 66,
   "metadata": {},
   "outputs": [
    {
     "data": {
      "text/plain": [
       "[[5, 10, 11, 27, 30],\n",
       " [12, 13, 16, 19, 20],\n",
       " [1, 21, 22, 25, 28],\n",
       " [3, 4, 8, 9, 15],\n",
       " [2, 6, 7, 14, 17]]"
      ]
     },
     "execution_count": 66,
     "metadata": {},
     "output_type": "execute_result"
    }
   ],
   "source": [
    "[x[:5] for x in clusterDocs]"
   ]
  },
  {
   "cell_type": "code",
   "execution_count": 67,
   "metadata": {},
   "outputs": [
    {
     "data": {
      "text/plain": [
       "998"
      ]
     },
     "execution_count": 67,
     "metadata": {},
     "output_type": "execute_result"
    }
   ],
   "source": [
    "clusterDocs[-1][-1]"
   ]
  },
  {
   "cell_type": "code",
   "execution_count": 68,
   "metadata": {},
   "outputs": [
    {
     "name": "stdout",
     "output_type": "stream",
     "text": [
      "Cluster 1\n",
      "Key terms  : film,her,award,actress,actor\n",
      "Sample doc : howard hits back at mongrel jibe michael howard has said a claim by peter hain that the tory leader is acting like an  attack mongrel  shows labour is  rattled  by the opposition.  in an upbeat speech\n",
      "==========\n",
      "Cluster 2\n",
      "Key terms  : growth,economy,analysts,shares,its\n",
      "Sample doc : crude oil prices back above $50 cold weather across parts of the united states and much of europe has pushed us crude oil prices above $50 a barrel for the first time in almost three months.  freezing\n",
      "==========\n",
      "Cluster 3\n",
      "Key terms  : users,digital,technology,broadband,microsoft\n",
      "Sample doc : worldcom boss  left books alone  former worldcom boss bernie ebbers  who is accused of overseeing an $11bn (£5.8bn) fraud  never made accounting decisions  a witness has told jurors.  david myers made\n",
      "==========\n",
      "Cluster 4\n",
      "Key terms  : side,game,cup,coach,match\n",
      "Sample doc : yeading face newcastle in fa cup premiership side newcastle united face a trip to ryman premier league leaders yeading in the fa cup third round.  the game - arguably the highlight of the draw - is a \n",
      "==========\n",
      "Cluster 5\n",
      "Key terms  : labour,election,party,secretary,mr\n",
      "Sample doc : tigers wary of farrell  gamble  leicester say they will not be rushed into making a bid for andy farrell should the great britain rugby league captain decide to switch codes.   we and anybody else inv\n",
      "==========\n"
     ]
    }
   ],
   "source": [
    "for k in range(len(clusterDocs)):\n",
    "    key = ','.join(clusterKeyterms[k][:5])\n",
    "    sample_doc = bbc[clusterDocs[k][0]][:200]\n",
    "    print(f'Cluster {k + 1}')\n",
    "    print(f'Key terms  : {key}')\n",
    "    print(f'Sample doc : {sample_doc}')\n",
    "    print('=' * 10)"
   ]
  },
  {
   "cell_type": "markdown",
   "metadata": {},
   "source": [
    "### t-SNE viz"
   ]
  },
  {
   "cell_type": "code",
   "execution_count": 29,
   "metadata": {},
   "outputs": [],
   "source": [
    "from sklearn.manifold import TSNE\n",
    "from sklearn.decomposition import PCA\n",
    "from collections import defaultdict"
   ]
  },
  {
   "cell_type": "code",
   "execution_count": 26,
   "metadata": {},
   "outputs": [],
   "source": [
    "# tsne = TSNE(n_components=2)\n",
    "# pca = "
   ]
  },
  {
   "cell_type": "code",
   "execution_count": 87,
   "metadata": {},
   "outputs": [
    {
     "name": "stdout",
     "output_type": "stream",
     "text": [
      "CPU times: user 8.44 s, sys: 239 ms, total: 8.68 s\n",
      "Wall time: 7.48 s\n"
     ]
    }
   ],
   "source": [
    "# %%time\n",
    "# t = tsne.fit_transform(data)"
   ]
  },
  {
   "cell_type": "code",
   "execution_count": 69,
   "metadata": {},
   "outputs": [],
   "source": [
    "pca = PCA(n_components=2).fit_transform(data)"
   ]
  },
  {
   "cell_type": "code",
   "execution_count": 78,
   "metadata": {},
   "outputs": [],
   "source": [
    "cluster_data = defaultdict(list)\n",
    "for i, docs in enumerate(clusterDocs):\n",
    "    for doc in docs:\n",
    "        cluster_data[i].append(pca[doc - 1])"
   ]
  },
  {
   "cell_type": "code",
   "execution_count": 75,
   "metadata": {},
   "outputs": [],
   "source": [
    "color_alpha = 0.5\n",
    "colors_base = [\n",
    "    'rgba(47,126,216,{alpha})',\n",
    "    'rgba(13,35,58,{alpha})',\n",
    "    'rgba(139,188,33,{alpha})',\n",
    "    'rgb(145,0,0,{alpha})',\n",
    "    'rgba(26,173,206,{alpha})',\n",
    "    'rgba(73,41,112,{alpha})',\n",
    "    'rgba(242,143,67,{alpha})',\n",
    "    'rgba(119,161,229,{alpha})',\n",
    "    'rgba(196,37,37,{alpha})',\n",
    "    'rgba(166,201,106,{alpha})'\n",
    "]\n",
    "colors = [x.format(alpha=0.5) for x in colors_base]"
   ]
  },
  {
   "cell_type": "code",
   "execution_count": 81,
   "metadata": {},
   "outputs": [
    {
     "data": {
      "text/plain": [
       "[-0.13421496959580123, -0.1135059292107364]"
      ]
     },
     "execution_count": 81,
     "metadata": {},
     "output_type": "execute_result"
    }
   ],
   "source": [
    "list(pca[0])"
   ]
  },
  {
   "cell_type": "code",
   "execution_count": 83,
   "metadata": {},
   "outputs": [
    {
     "data": {
      "text/plain": [
       "'tv future in the hands of viewers with home theatre systems  plasma high-definition tvs  and digital'"
      ]
     },
     "execution_count": 83,
     "metadata": {},
     "output_type": "execute_result"
    }
   ],
   "source": [
    "bbc[0][:100]"
   ]
  },
  {
   "cell_type": "code",
   "execution_count": 79,
   "metadata": {},
   "outputs": [
    {
     "data": {
      "text/plain": [
       "[{'name': 'Cluster 5',\n",
       "  'color': 'rgba(47,126,216,0.5)',\n",
       "  'data': [array([-0.04795827,  0.20335836]),\n",
       "   array([-0.00073097,  0.0613096 ]),\n",
       "   array([-0.00470181,  0.25286271]),\n",
       "   array([0.18028342, 0.24149838]),\n",
       "   array([0.06759204, 0.23476393]),\n",
       "   array([-0.00782531,  0.03989704]),\n",
       "   array([0.03288112, 0.08699711]),\n",
       "   array([0.23111764, 0.19148694]),\n",
       "   array([-0.06395735,  0.03537915]),\n",
       "   array([0.06743198, 0.35943533]),\n",
       "   array([0.03734691, 0.00099978]),\n",
       "   array([0.11197176, 0.06355923]),\n",
       "   array([0.02503934, 0.00311323]),\n",
       "   array([0.0713207 , 0.07227086]),\n",
       "   array([0.12834019, 0.06443302]),\n",
       "   array([0.01892631, 0.30864893]),\n",
       "   array([0.01653137, 0.17646389]),\n",
       "   array([-0.1096734 ,  0.17030593]),\n",
       "   array([0.01233015, 0.116857  ]),\n",
       "   array([0.09632979, 0.30676766]),\n",
       "   array([0.07187254, 0.2865855 ]),\n",
       "   array([-0.00605383,  0.09037734]),\n",
       "   array([0.05949188, 0.3027283 ]),\n",
       "   array([0.17646891, 0.28756828]),\n",
       "   array([ 0.10370646, -0.03768866]),\n",
       "   array([0.16975473, 0.24620118]),\n",
       "   array([ 0.28845959, -0.00663307]),\n",
       "   array([0.07077994, 0.30781979]),\n",
       "   array([0.07768523, 0.28241994]),\n",
       "   array([0.14395561, 0.0497071 ]),\n",
       "   array([0.12216301, 0.23964409]),\n",
       "   array([-0.03823051,  0.16164677]),\n",
       "   array([0.22849167, 0.2103263 ]),\n",
       "   array([0.0336094 , 0.13735053]),\n",
       "   array([0.02645012, 0.3821745 ]),\n",
       "   array([-0.02981708,  0.08065847]),\n",
       "   array([0.03446328, 0.00379843]),\n",
       "   array([0.01634529, 0.14735759]),\n",
       "   array([-0.06588838,  0.00165003]),\n",
       "   array([0.12151319, 0.14323171]),\n",
       "   array([0.04851885, 0.05078073]),\n",
       "   array([0.11405238, 0.39503646]),\n",
       "   array([0.06118118, 0.15707946]),\n",
       "   array([0.04793948, 0.10764616]),\n",
       "   array([0.01589368, 0.1119447 ]),\n",
       "   array([0.02824407, 0.23894764]),\n",
       "   array([0.1292269 , 0.19142728]),\n",
       "   array([0.13727495, 0.01146026]),\n",
       "   array([0.0312226 , 0.20463267]),\n",
       "   array([0.06917652, 0.33538575]),\n",
       "   array([0.07397021, 0.16637873]),\n",
       "   array([-0.00927178, -0.00643479]),\n",
       "   array([-0.06902206,  0.05954172]),\n",
       "   array([0.22550089, 0.02108669]),\n",
       "   array([0.10982734, 0.14076847]),\n",
       "   array([0.20585375, 0.17908554]),\n",
       "   array([-0.00119986,  0.08963317]),\n",
       "   array([0.03848478, 0.07053398]),\n",
       "   array([0.10646216, 0.34340942]),\n",
       "   array([0.02902463, 0.12083015]),\n",
       "   array([0.06253181, 0.23498304]),\n",
       "   array([0.06268617, 0.12034604]),\n",
       "   array([-0.07553658,  0.13285516]),\n",
       "   array([0.10513805, 0.02021048]),\n",
       "   array([0.12593387, 0.12875804]),\n",
       "   array([0.02880576, 0.07743696]),\n",
       "   array([0.08637752, 0.32359196]),\n",
       "   array([-0.00886024,  0.10427338]),\n",
       "   array([-0.03329771,  0.07987333]),\n",
       "   array([-0.0159912 ,  0.22123031]),\n",
       "   array([0.02245561, 0.12893715]),\n",
       "   array([0.02671111, 0.02828452]),\n",
       "   array([0.00518172, 0.16747164]),\n",
       "   array([0.02979301, 0.09946132]),\n",
       "   array([0.06164582, 0.25004535]),\n",
       "   array([-0.06486866,  0.06980454]),\n",
       "   array([-0.03008968,  0.13318094]),\n",
       "   array([0.17062175, 0.10619265]),\n",
       "   array([-0.09559311,  0.13586976]),\n",
       "   array([-0.07447464,  0.10316618]),\n",
       "   array([-0.03184666,  0.05982947]),\n",
       "   array([0.1271311 , 0.35181113]),\n",
       "   array([0.0713207 , 0.07227086]),\n",
       "   array([0.06144992, 0.10692504]),\n",
       "   array([-0.06009708,  0.15596756]),\n",
       "   array([-0.04398616,  0.20437585]),\n",
       "   array([0.01765474, 0.07624531]),\n",
       "   array([-0.00086809,  0.11093433]),\n",
       "   array([0.08401783, 0.22038384]),\n",
       "   array([-0.03845372,  0.2623203 ]),\n",
       "   array([0.00211426, 0.28405496]),\n",
       "   array([0.02645012, 0.3821745 ]),\n",
       "   array([0.09382672, 0.23176748]),\n",
       "   array([-4.91661896e-05,  2.24727372e-01]),\n",
       "   array([0.09363395, 0.21238212]),\n",
       "   array([-0.07497433,  0.06357352]),\n",
       "   array([ 0.0080104 , -0.01619785]),\n",
       "   array([0.11383901, 0.24677974]),\n",
       "   array([-0.01491143,  0.12370305]),\n",
       "   array([0.10358911, 0.06411355]),\n",
       "   array([0.09577414, 0.22990651]),\n",
       "   array([0.1532962 , 0.10190308]),\n",
       "   array([-0.01930824,  0.10613335]),\n",
       "   array([-0.02661424,  0.16214821]),\n",
       "   array([0.02493227, 0.10291933]),\n",
       "   array([0.00398698, 0.07105581]),\n",
       "   array([0.08185287, 0.35174935]),\n",
       "   array([0.11514204, 0.08100589]),\n",
       "   array([0.2028948 , 0.16020202]),\n",
       "   array([0.05316001, 0.06211201]),\n",
       "   array([-0.00605383,  0.09037734]),\n",
       "   array([-0.12666268,  0.13733417]),\n",
       "   array([0.08793569, 0.2986094 ]),\n",
       "   array([0.14112379, 0.10413648]),\n",
       "   array([0.1285506 , 0.17023238]),\n",
       "   array([0.12365619, 0.2676465 ]),\n",
       "   array([0.01158695, 0.10873625]),\n",
       "   array([0.06971111, 0.18317082]),\n",
       "   array([0.20009119, 0.0682545 ]),\n",
       "   array([0.16608421, 0.05008933]),\n",
       "   array([-0.00789253,  0.16561991]),\n",
       "   array([0.00631558, 0.10642656]),\n",
       "   array([0.0204861 , 0.16984051]),\n",
       "   array([0.03602118, 0.20458844]),\n",
       "   array([ 0.03250914, -0.04787114]),\n",
       "   array([-0.00107556,  0.13418786]),\n",
       "   array([-0.00187918,  0.12114937]),\n",
       "   array([0.12761943, 0.07909756]),\n",
       "   array([-0.02081242,  0.23128063]),\n",
       "   array([-0.05455549,  0.13214667]),\n",
       "   array([0.19392379, 0.16874633]),\n",
       "   array([-0.0085858 ,  0.17612875]),\n",
       "   array([0.10105625, 0.1481151 ]),\n",
       "   array([-0.03469638,  0.10791725]),\n",
       "   array([0.06164582, 0.25004535]),\n",
       "   array([0.08556377, 0.07294387]),\n",
       "   array([0.11542264, 0.18812054]),\n",
       "   array([ 0.06420313, -0.047504  ]),\n",
       "   array([0.06100288, 0.30024289]),\n",
       "   array([ 0.04232253, -0.00276128]),\n",
       "   array([0.059902  , 0.14403622]),\n",
       "   array([0.0196966 , 0.04498575]),\n",
       "   array([0.18665304, 0.2141938 ]),\n",
       "   array([0.0575806 , 0.14556324]),\n",
       "   array([-0.06907374,  0.14500309]),\n",
       "   array([-0.03828939,  0.13210343]),\n",
       "   array([0.03346876, 0.18421973]),\n",
       "   array([0.09553768, 0.24986403]),\n",
       "   array([0.05298252, 0.06721469]),\n",
       "   array([0.01828806, 0.18918017]),\n",
       "   array([0.09438448, 0.15007369]),\n",
       "   array([0.10716138, 0.09392547]),\n",
       "   array([0.14274762, 0.13699021]),\n",
       "   array([0.15424705, 0.20262397]),\n",
       "   array([-0.07679967,  0.04354953]),\n",
       "   array([ 0.03430493, -0.01273976]),\n",
       "   array([0.08929004, 0.07158333]),\n",
       "   array([ 0.11101797, -0.00876019]),\n",
       "   array([0.02451827, 0.11344123])]},\n",
       " {'name': 'Cluster 5',\n",
       "  'color': 'rgba(13,35,58,0.5)',\n",
       "  'data': [array([-0.10401981,  0.20972686]),\n",
       "   array([-0.14110216,  0.12079464]),\n",
       "   array([-0.11821867,  0.10075611]),\n",
       "   array([-0.14560094,  0.0984396 ]),\n",
       "   array([-0.11323055, -0.00280046]),\n",
       "   array([-0.06811187, -0.00621752]),\n",
       "   array([-0.14994766,  0.11220042]),\n",
       "   array([-0.21062793,  0.1519308 ]),\n",
       "   array([-0.16300847,  0.11688373]),\n",
       "   array([-0.1577635 ,  0.17319888]),\n",
       "   array([-0.09691488,  0.12802997]),\n",
       "   array([-0.14777658,  0.08630731]),\n",
       "   array([-0.17708396, -0.0769427 ]),\n",
       "   array([-0.18387337,  0.01094293]),\n",
       "   array([-0.16814925,  0.11764958]),\n",
       "   array([-0.1255365,  0.0290206]),\n",
       "   array([-0.10084582, -0.03440962]),\n",
       "   array([-0.18569205,  0.25553781]),\n",
       "   array([-0.1384609,  0.116309 ]),\n",
       "   array([-0.12356819, -0.02435139]),\n",
       "   array([-0.17809312,  0.15762832]),\n",
       "   array([-0.20523674,  0.00177362]),\n",
       "   array([-0.08413719,  0.08879239]),\n",
       "   array([-0.13571404,  0.16068753]),\n",
       "   array([-0.16632923,  0.13427339]),\n",
       "   array([-0.10729033,  0.20295952]),\n",
       "   array([-0.15093064, -0.08665124]),\n",
       "   array([-0.21250006,  0.13391919]),\n",
       "   array([-0.16408288,  0.05836584]),\n",
       "   array([-0.16708995,  0.15793122]),\n",
       "   array([-0.13693678,  0.13067852]),\n",
       "   array([-0.16833787,  0.16018613]),\n",
       "   array([-0.15480623,  0.07273458]),\n",
       "   array([-0.18493212, -0.08361776]),\n",
       "   array([-0.21002725,  0.1818405 ]),\n",
       "   array([-0.11435962,  0.12594371]),\n",
       "   array([-0.18075691,  0.08390205]),\n",
       "   array([-0.16688042,  0.20651968]),\n",
       "   array([-0.18654891,  0.09443902]),\n",
       "   array([-0.18027255,  0.1454201 ]),\n",
       "   array([-0.19448201,  0.12539357]),\n",
       "   array([-0.14203079,  0.00567439]),\n",
       "   array([-0.12529402,  0.01151163]),\n",
       "   array([-0.185402  , -0.07291633]),\n",
       "   array([-0.12134248, -0.00546358]),\n",
       "   array([-0.06393891,  0.09622419]),\n",
       "   array([-0.19815548,  0.1250197 ]),\n",
       "   array([-0.14901156,  0.00603805]),\n",
       "   array([-0.19766311,  0.13057475]),\n",
       "   array([-0.19489617,  0.18687762]),\n",
       "   array([-0.12454041,  0.05622608]),\n",
       "   array([-0.12968376,  0.1518455 ]),\n",
       "   array([-0.13037622,  0.21925555]),\n",
       "   array([-0.18676396,  0.10810531]),\n",
       "   array([-0.20336455,  0.09749597]),\n",
       "   array([-0.18037761, -0.06541637]),\n",
       "   array([-0.10823676,  0.16927939]),\n",
       "   array([-0.11742751,  0.04491947]),\n",
       "   array([-0.02182516,  0.063091  ]),\n",
       "   array([-0.12462159,  0.00130831]),\n",
       "   array([-0.21299383,  0.12767922]),\n",
       "   array([-0.09964337,  0.00106759]),\n",
       "   array([-0.10424376,  0.05864045]),\n",
       "   array([-0.14471074,  0.08528845]),\n",
       "   array([-0.090855  , -0.04229854]),\n",
       "   array([-0.14021125,  0.0604376 ]),\n",
       "   array([-0.0867353 ,  0.11127819]),\n",
       "   array([-0.12242365,  0.03935106]),\n",
       "   array([-0.02310594,  0.14658922]),\n",
       "   array([-0.102105  , -0.04136668]),\n",
       "   array([-0.18882552,  0.11318314]),\n",
       "   array([-0.13253057, -0.0700573 ]),\n",
       "   array([-0.11266762,  0.07989401]),\n",
       "   array([-0.1911161 ,  0.06486074]),\n",
       "   array([-0.14379621,  0.16939033]),\n",
       "   array([-0.08084668,  0.07103238]),\n",
       "   array([-0.22363747,  0.10472498]),\n",
       "   array([-0.22518356,  0.12361863]),\n",
       "   array([-0.15265781,  0.07673787]),\n",
       "   array([-0.17017201,  0.011302  ]),\n",
       "   array([-0.08586715, -0.07093439]),\n",
       "   array([-0.15236796,  0.01920809]),\n",
       "   array([-0.16918128, -0.01154326]),\n",
       "   array([-0.11842276,  0.00588206]),\n",
       "   array([-0.16365294, -0.03582405]),\n",
       "   array([-0.19514969,  0.12726472]),\n",
       "   array([-0.13670925,  0.07068851]),\n",
       "   array([-0.12793509,  0.0502922 ]),\n",
       "   array([-0.08980204,  0.11951352]),\n",
       "   array([-0.10504924,  0.0770564 ]),\n",
       "   array([-0.19379136,  0.17608856]),\n",
       "   array([-0.15369123,  0.07474399]),\n",
       "   array([-0.19175769, -0.00524505]),\n",
       "   array([-0.12619358,  0.0347318 ]),\n",
       "   array([-0.15314929,  0.04310805]),\n",
       "   array([-0.10313738, -0.01623976]),\n",
       "   array([-0.12050723, -0.06056551]),\n",
       "   array([-0.15557409,  0.14745597]),\n",
       "   array([-0.11924495,  0.11817217]),\n",
       "   array([-0.10566363, -0.00429524]),\n",
       "   array([-0.15380714,  0.07804529]),\n",
       "   array([-0.16895526,  0.02438329]),\n",
       "   array([-0.23238958, -0.00269322]),\n",
       "   array([-0.11375893,  0.05150409]),\n",
       "   array([-0.13412947,  0.16762311]),\n",
       "   array([-0.14263458,  0.16796918]),\n",
       "   array([-0.14697957,  0.09817377]),\n",
       "   array([-0.1752745 ,  0.08336102]),\n",
       "   array([-0.17425699,  0.00622931]),\n",
       "   array([-0.14332859,  0.14751948]),\n",
       "   array([-0.10168226,  0.07473406]),\n",
       "   array([-0.13481337,  0.00586589]),\n",
       "   array([-0.19513749,  0.07811819]),\n",
       "   array([-0.18516357,  0.02367265]),\n",
       "   array([-0.15702969,  0.05241135]),\n",
       "   array([-0.11008549, -0.10430375]),\n",
       "   array([-0.11857446,  0.0148125 ]),\n",
       "   array([-0.11596891,  0.11564296]),\n",
       "   array([-0.11449821,  0.04139513]),\n",
       "   array([-0.14126218, -0.04783985]),\n",
       "   array([-0.23356585,  0.2241251 ]),\n",
       "   array([-0.11414239,  0.13498799]),\n",
       "   array([-0.16949988,  0.01178743]),\n",
       "   array([-0.17704876,  0.07686028]),\n",
       "   array([-0.10764533, -0.03528242]),\n",
       "   array([-0.13490766,  0.10099322]),\n",
       "   array([-0.18081476,  0.05815843]),\n",
       "   array([-0.18654891,  0.09443902]),\n",
       "   array([-0.16951978, -0.00055917]),\n",
       "   array([-0.16891735,  0.08171362]),\n",
       "   array([-0.08353538,  0.08813613]),\n",
       "   array([-0.07497433,  0.06357352]),\n",
       "   array([-0.1793343 ,  0.05658316]),\n",
       "   array([-0.06173918, -0.02187865]),\n",
       "   array([-0.16221271,  0.00841268]),\n",
       "   array([-0.15892633, -0.05542159]),\n",
       "   array([-0.17536881,  0.05468395]),\n",
       "   array([-0.16365294, -0.03582405]),\n",
       "   array([-0.18430974,  0.02323961]),\n",
       "   array([-0.03841956,  0.04533445]),\n",
       "   array([-0.09342933, -0.10832185]),\n",
       "   array([-0.03265308, -0.01081   ]),\n",
       "   array([-0.20723033, -0.02111332]),\n",
       "   array([-0.20336455,  0.09749597]),\n",
       "   array([-0.18927146,  0.01243939]),\n",
       "   array([-0.12212602, -0.00066325]),\n",
       "   array([-0.17966885,  0.16091862]),\n",
       "   array([-0.10985323,  0.14278914]),\n",
       "   array([-0.13303519, -0.02512798]),\n",
       "   array([-0.09093438, -0.00115081]),\n",
       "   array([-0.0843151 , -0.08774468]),\n",
       "   array([-0.23690122,  0.13355035]),\n",
       "   array([-0.10773865,  0.10086013]),\n",
       "   array([-0.11472639,  0.02926805]),\n",
       "   array([-0.1341476 ,  0.00691753]),\n",
       "   array([-0.1307573 ,  0.11660791]),\n",
       "   array([-0.10086033,  0.02226107]),\n",
       "   array([-0.06239936,  0.05809265]),\n",
       "   array([-0.08324611,  0.17671511]),\n",
       "   array([-0.23157563,  0.15650023]),\n",
       "   array([-0.16701198,  0.22569509]),\n",
       "   array([-0.13428713, -0.00259125]),\n",
       "   array([-0.15218641, -0.05550503]),\n",
       "   array([-0.23117657,  0.12648165]),\n",
       "   array([-0.13120966,  0.14693578]),\n",
       "   array([-0.11045234, -0.01474899]),\n",
       "   array([-0.15366746,  0.16896801]),\n",
       "   array([-0.13764039,  0.00642245]),\n",
       "   array([-0.14551234, -0.02335129]),\n",
       "   array([-0.12664336, -0.01291002]),\n",
       "   array([-0.13137501,  0.19461952]),\n",
       "   array([-0.15187238, -0.05461661]),\n",
       "   array([-0.21770909,  0.04131629]),\n",
       "   array([-0.18007588,  0.23978812]),\n",
       "   array([-0.07474704,  0.0336507 ]),\n",
       "   array([-0.23238958, -0.00269322]),\n",
       "   array([-0.19692946, -0.06454193]),\n",
       "   array([-0.18962746,  0.01027071]),\n",
       "   array([-0.10742 , -0.019655]),\n",
       "   array([-0.2082622,  0.1108336]),\n",
       "   array([-0.15784412,  0.12449413]),\n",
       "   array([-0.13627306,  0.13456066]),\n",
       "   array([-0.1868067 ,  0.06397801]),\n",
       "   array([-0.1299101 , -0.10624868]),\n",
       "   array([-0.15525787,  0.10523074]),\n",
       "   array([-0.16512895,  0.00944268]),\n",
       "   array([-0.15215765,  0.13183513]),\n",
       "   array([-0.18510858,  0.16819822]),\n",
       "   array([-0.13326714,  0.03718105]),\n",
       "   array([-0.18927146,  0.01243939]),\n",
       "   array([-0.16039954,  0.11523015]),\n",
       "   array([-0.11435962,  0.12594371]),\n",
       "   array([-0.20822634,  0.09108005]),\n",
       "   array([-0.00644886, -0.08014836]),\n",
       "   array([-0.09524121, -0.05436282]),\n",
       "   array([-0.13061557,  0.08539373]),\n",
       "   array([-0.14920981,  0.03507846]),\n",
       "   array([-0.18569205,  0.25553781]),\n",
       "   array([-0.09271335,  0.03768355]),\n",
       "   array([-0.23113794,  0.0023483 ]),\n",
       "   array([-0.14784241, -0.04404644]),\n",
       "   array([-0.16016091,  0.02209599]),\n",
       "   array([-0.19061536,  0.20850613]),\n",
       "   array([-0.14950431,  0.0473555 ]),\n",
       "   array([-0.12035765,  0.00363473]),\n",
       "   array([-0.07889047,  0.05866125]),\n",
       "   array([-0.13368234,  0.09961583]),\n",
       "   array([-0.10038699,  0.05936449]),\n",
       "   array([-0.03933249, -0.08077941]),\n",
       "   array([-0.11479964,  0.16849902]),\n",
       "   array([-0.14257833,  0.1754028 ]),\n",
       "   array([-0.19235071,  0.01322897]),\n",
       "   array([-0.14274632,  0.09246071]),\n",
       "   array([-0.15761137,  0.16483972]),\n",
       "   array([-0.19947103,  0.13574106]),\n",
       "   array([-0.21036272,  0.10745613]),\n",
       "   array([-0.13599507,  0.08307622]),\n",
       "   array([-0.18854578,  0.12683316]),\n",
       "   array([-0.11565255, -0.03884464]),\n",
       "   array([-0.17313071, -0.00973962]),\n",
       "   array([-0.13053192,  0.11843063]),\n",
       "   array([-0.19419374,  0.07819418]),\n",
       "   array([-0.12305183, -0.03412497]),\n",
       "   array([-0.07679967,  0.04354953]),\n",
       "   array([-0.10927083,  0.06928863]),\n",
       "   array([-0.15170405,  0.02746437])]},\n",
       " {'name': 'Cluster 5',\n",
       "  'color': 'rgba(139,188,33,0.5)',\n",
       "  'data': [array([-0.13421497, -0.11350593]),\n",
       "   array([-0.11415124, -0.05545624]),\n",
       "   array([-0.09074688, -0.05545173]),\n",
       "   array([-0.07462668, -0.10551013]),\n",
       "   array([-0.05722623, -0.08764405]),\n",
       "   array([-0.15115599, -0.04592923]),\n",
       "   array([-0.13512399,  0.01311722]),\n",
       "   array([-0.17358226,  0.06381286]),\n",
       "   array([-0.12710992, -0.00478738]),\n",
       "   array([-0.06968379, -0.00511765]),\n",
       "   array([-0.06326508, -0.10738499]),\n",
       "   array([-0.15904999, -0.06648102]),\n",
       "   array([-0.16305583, -0.07149612]),\n",
       "   array([-0.07023947, -0.1509895 ]),\n",
       "   array([-0.17120689, -0.09667717]),\n",
       "   array([-0.09304156, -0.04935218]),\n",
       "   array([-0.17273057, -0.03776471]),\n",
       "   array([-0.08782075, -0.06918447]),\n",
       "   array([-0.11071031,  0.01001359]),\n",
       "   array([-0.07103944,  0.12617765]),\n",
       "   array([-0.0914247 ,  0.00522386]),\n",
       "   array([-0.06386451,  0.0212455 ]),\n",
       "   array([0.03446328, 0.00379843]),\n",
       "   array([-0.13469043, -0.15416126]),\n",
       "   array([-0.09016201,  0.03885839]),\n",
       "   array([-0.09831356, -0.11654488]),\n",
       "   array([-0.10648746, -0.08391159]),\n",
       "   array([-0.12495241, -0.0096843 ]),\n",
       "   array([-0.00788464, -0.25558113]),\n",
       "   array([-0.16153862,  0.04312644]),\n",
       "   array([-0.0840596 , -0.18544345]),\n",
       "   array([-0.1071912 , -0.02587251]),\n",
       "   array([-0.05444818,  0.07391184]),\n",
       "   array([-0.07976728,  0.02742111]),\n",
       "   array([-0.10011299, -0.10685396]),\n",
       "   array([-0.10300473, -0.04419433]),\n",
       "   array([-0.14129384, -0.01062955]),\n",
       "   array([-0.09141952, -0.11628494]),\n",
       "   array([-0.13291781, -0.14242845]),\n",
       "   array([-0.12248607, -0.04413891]),\n",
       "   array([-0.11529794, -0.08579206]),\n",
       "   array([-0.10446204, -0.02072043]),\n",
       "   array([-0.07490813, -0.07888868]),\n",
       "   array([-0.11842276,  0.00588206]),\n",
       "   array([-0.1623976, -0.1603129]),\n",
       "   array([-0.01505671, -0.18460857]),\n",
       "   array([-0.13900922,  0.01210182]),\n",
       "   array([-0.13442356, -0.04466583]),\n",
       "   array([-0.06704131, -0.0155001 ]),\n",
       "   array([-0.08326873, -0.01805182]),\n",
       "   array([-0.111467  , -0.00918021]),\n",
       "   array([-0.09279551,  0.03779604]),\n",
       "   array([-0.07744288, -0.09077186]),\n",
       "   array([-0.11953045, -0.0929773 ]),\n",
       "   array([-0.07386339,  0.00339824]),\n",
       "   array([-0.14079238,  0.06889579]),\n",
       "   array([-0.16369636, -0.09446079]),\n",
       "   array([ 0.01959653, -0.21995144]),\n",
       "   array([-0.04233144, -0.13553065]),\n",
       "   array([-0.10576048,  0.02208153]),\n",
       "   array([-0.16053043,  0.073782  ]),\n",
       "   array([-0.13474659,  0.01684099]),\n",
       "   array([-0.10052031, -0.10102416]),\n",
       "   array([-0.09507736,  0.0115221 ]),\n",
       "   array([-0.12710992, -0.00478738]),\n",
       "   array([-0.15364362, -0.00745237]),\n",
       "   array([-0.12458761, -0.10147587]),\n",
       "   array([-0.08795591,  0.04003643]),\n",
       "   array([-0.07809067, -0.09083428]),\n",
       "   array([-0.07028361,  0.10315557]),\n",
       "   array([-0.13490766,  0.10099322]),\n",
       "   array([-0.07447464,  0.10316618]),\n",
       "   array([-0.07194862,  0.00882716]),\n",
       "   array([-0.09506984, -0.0173429 ]),\n",
       "   array([-0.09475217,  0.01419259]),\n",
       "   array([-0.05657898, -0.04539034]),\n",
       "   array([-1.09053488e-01,  1.44588561e-05]),\n",
       "   array([-0.12429143, -0.01309362]),\n",
       "   array([-0.11210692, -0.04478395]),\n",
       "   array([-0.16953728,  0.01225456]),\n",
       "   array([-0.16891735,  0.08171362]),\n",
       "   array([-0.10247236, -0.01529416]),\n",
       "   array([-0.1449265 , -0.06378579]),\n",
       "   array([-0.15634056, -0.03527256]),\n",
       "   array([-0.1694812 ,  0.01282688]),\n",
       "   array([-0.1090723 , -0.02875768]),\n",
       "   array([-0.05174013, -0.1104982 ]),\n",
       "   array([-0.13291617, -0.03520039]),\n",
       "   array([-0.08249878,  0.01190686]),\n",
       "   array([-0.12750966, -0.04562943]),\n",
       "   array([-0.10306699, -0.01750356]),\n",
       "   array([-0.07840499, -0.12175519]),\n",
       "   array([-0.17615338, -0.00627359]),\n",
       "   array([-0.10300473, -0.04419433]),\n",
       "   array([-0.09519135,  0.04111936]),\n",
       "   array([-0.09069876,  0.03881271]),\n",
       "   array([-0.12807043,  0.01825687]),\n",
       "   array([-0.08418778, -0.04858734]),\n",
       "   array([-0.12373254, -0.09688857]),\n",
       "   array([-0.15031764, -0.06593211]),\n",
       "   array([-0.0694343 ,  0.01673157]),\n",
       "   array([-0.11272467,  0.0396993 ]),\n",
       "   array([-0.01903537,  0.00860012]),\n",
       "   array([-0.11719512,  0.00164373]),\n",
       "   array([-0.10473429,  0.01174124]),\n",
       "   array([-0.16305583, -0.07149612]),\n",
       "   array([-0.05263515,  0.07013723]),\n",
       "   array([-0.1617807 ,  0.05837648]),\n",
       "   array([-0.11553909, -0.02499416]),\n",
       "   array([-0.13946185, -0.0614793 ]),\n",
       "   array([-0.09222944,  0.0445139 ]),\n",
       "   array([-0.12032234,  0.00201903]),\n",
       "   array([-0.09831356, -0.11654488]),\n",
       "   array([-0.12506135, -0.0876165 ]),\n",
       "   array([-0.11878382, -0.1481608 ]),\n",
       "   array([-0.07308669, -0.03365708]),\n",
       "   array([-0.09484575,  0.09430516]),\n",
       "   array([-0.17419448,  0.09600304]),\n",
       "   array([-0.11499103, -0.10130293]),\n",
       "   array([-0.1519473 ,  0.01010234]),\n",
       "   array([-0.1797478 , -0.12082809]),\n",
       "   array([-0.07031481, -0.08634514]),\n",
       "   array([-0.10563325, -0.07097013]),\n",
       "   array([-0.0952654 , -0.09701168]),\n",
       "   array([-0.16141601, -0.10070506]),\n",
       "   array([-0.15078015, -0.0660558 ]),\n",
       "   array([-0.10603186,  0.01050351]),\n",
       "   array([-0.09019178, -0.01872835]),\n",
       "   array([-0.124005  , -0.04134685]),\n",
       "   array([-0.10222282,  0.0590817 ]),\n",
       "   array([-0.1487766, -0.0524039]),\n",
       "   array([-0.09177485, -0.02836341]),\n",
       "   array([-0.13439338, -0.13250546]),\n",
       "   array([-0.09047306, -0.0071484 ]),\n",
       "   array([-0.07988485, -0.08007345]),\n",
       "   array([-0.0694343 ,  0.01673157]),\n",
       "   array([-0.15930715, -0.0117879 ]),\n",
       "   array([-0.12432325,  0.03674581]),\n",
       "   array([-0.13046177, -0.10576073]),\n",
       "   array([-0.12131735, -0.09695639]),\n",
       "   array([-0.14250368, -0.07786014]),\n",
       "   array([-0.0722595 , -0.02702518])]},\n",
       " {'name': 'Cluster 5',\n",
       "  'color': 'rgb(145,0,0,0.5)',\n",
       "  'data': [array([ 0.13585327, -0.12113064]),\n",
       "   array([0.19419742, 0.10438723]),\n",
       "   array([0.20071676, 0.0722585 ]),\n",
       "   array([0.29937822, 0.13337142]),\n",
       "   array([ 0.22877554, -0.00722438]),\n",
       "   array([ 0.06606848, -0.11136058]),\n",
       "   array([0.16561486, 0.02214246]),\n",
       "   array([ 0.30814932, -0.00923962]),\n",
       "   array([0.20899441, 0.14883665]),\n",
       "   array([ 0.18842616, -0.02485869]),\n",
       "   array([ 0.14771289, -0.06986366]),\n",
       "   array([ 0.359662  , -0.13064649]),\n",
       "   array([0.25320598, 0.00690905]),\n",
       "   array([0.24416564, 0.06943347]),\n",
       "   array([0.12098347, 0.07154723]),\n",
       "   array([ 0.09737536, -0.04488152]),\n",
       "   array([0.23975871, 0.05088694]),\n",
       "   array([0.13849707, 0.06895213]),\n",
       "   array([0.19079986, 0.15587694]),\n",
       "   array([0.21605288, 0.06121623]),\n",
       "   array([0.23819475, 0.15039005]),\n",
       "   array([0.16169902, 0.11456557]),\n",
       "   array([ 0.23318544, -0.03083584]),\n",
       "   array([0.29016842, 0.16428823]),\n",
       "   array([0.14233146, 0.03308284]),\n",
       "   array([0.0702905 , 0.09633035]),\n",
       "   array([0.21189508, 0.18174224]),\n",
       "   array([0.23307237, 0.00960286]),\n",
       "   array([0.13226713, 0.06933942]),\n",
       "   array([0.12963285, 0.00259243]),\n",
       "   array([ 0.25252071, -0.062937  ]),\n",
       "   array([0.28118113, 0.18860816]),\n",
       "   array([0.29512431, 0.0243024 ]),\n",
       "   array([ 0.29409692, -0.03006684]),\n",
       "   array([0.19519662, 0.03301633]),\n",
       "   array([0.11066409, 0.04464525]),\n",
       "   array([ 0.22792915, -0.00725488]),\n",
       "   array([ 0.28046238, -0.08973011]),\n",
       "   array([0.21849468, 0.07603198]),\n",
       "   array([0.1018113 , 0.17091915]),\n",
       "   array([ 0.26292345, -0.11585382]),\n",
       "   array([ 0.24752949, -0.10779477]),\n",
       "   array([0.14872592, 0.06941113]),\n",
       "   array([0.26952895, 0.20936418]),\n",
       "   array([ 0.27614283, -0.16213971]),\n",
       "   array([0.12541743, 0.04342506]),\n",
       "   array([0.12452441, 0.04024509]),\n",
       "   array([0.1488565, 0.0969129]),\n",
       "   array([0.1331764 , 0.05663882]),\n",
       "   array([0.27550306, 0.03308295]),\n",
       "   array([ 0.18853444, -0.0945729 ]),\n",
       "   array([0.13330681, 0.16969591]),\n",
       "   array([0.23128403, 0.02430976]),\n",
       "   array([ 0.30690693, -0.13120427]),\n",
       "   array([ 0.15226909, -0.03659888]),\n",
       "   array([0.128813  , 0.13166462]),\n",
       "   array([0.22270826, 0.09770892]),\n",
       "   array([ 0.1239238, -0.005009 ]),\n",
       "   array([ 0.26446332, -0.10576734]),\n",
       "   array([0.20779424, 0.19627044]),\n",
       "   array([0.20501323, 0.17348368]),\n",
       "   array([0.16195147, 0.00246633]),\n",
       "   array([0.13448161, 0.09434511]),\n",
       "   array([0.08750368, 0.11306995]),\n",
       "   array([0.18880805, 0.05941696]),\n",
       "   array([ 0.26645557, -0.01549133]),\n",
       "   array([ 0.20433523, -0.04614772]),\n",
       "   array([0.21725313, 0.07185678]),\n",
       "   array([ 0.2533271, -0.0755191]),\n",
       "   array([ 0.19782359, -0.09528429]),\n",
       "   array([0.21164761, 0.19360679]),\n",
       "   array([ 0.21207908, -0.01258989]),\n",
       "   array([ 0.20491279, -0.09485779]),\n",
       "   array([0.13203151, 0.16752177]),\n",
       "   array([0.14152393, 0.17504982]),\n",
       "   array([ 0.24553361, -0.06969063]),\n",
       "   array([0.20138257, 0.09322587]),\n",
       "   array([ 0.31272676, -0.0365653 ]),\n",
       "   array([0.21025013, 0.11363162]),\n",
       "   array([0.33626303, 0.03657189]),\n",
       "   array([ 0.36231361, -0.0570706 ]),\n",
       "   array([0.16044371, 0.16566737]),\n",
       "   array([ 0.19156037, -0.10279431]),\n",
       "   array([ 0.25606534, -0.04396409]),\n",
       "   array([0.17812389, 0.05828172]),\n",
       "   array([ 0.18387588, -0.01082928]),\n",
       "   array([0.2409803 , 0.02866551]),\n",
       "   array([0.22578917, 0.03706412]),\n",
       "   array([0.22076057, 0.09044306]),\n",
       "   array([ 0.2559109 , -0.06243379]),\n",
       "   array([0.03262439, 0.12769288]),\n",
       "   array([0.19438797, 0.10058263]),\n",
       "   array([ 0.2101765 , -0.06926928]),\n",
       "   array([ 0.26934525, -0.00050349]),\n",
       "   array([ 0.28660156, -0.05935908]),\n",
       "   array([ 0.22183727, -0.00717423]),\n",
       "   array([ 0.27161573, -0.04319141]),\n",
       "   array([ 0.15789922, -0.24208299]),\n",
       "   array([ 0.23912603, -0.00551426]),\n",
       "   array([0.25587484, 0.02041471]),\n",
       "   array([ 0.20099065, -0.00624291]),\n",
       "   array([0.21989339, 0.1972564 ]),\n",
       "   array([ 0.2383515 , -0.02161838]),\n",
       "   array([0.1305901 , 0.20599004]),\n",
       "   array([ 0.26574332, -0.11162361]),\n",
       "   array([ 0.20841807, -0.04034222]),\n",
       "   array([ 0.17915463, -0.11596218]),\n",
       "   array([0.23176996, 0.05508986]),\n",
       "   array([ 0.1239238, -0.005009 ]),\n",
       "   array([0.17334416, 0.06633772]),\n",
       "   array([0.15657523, 0.10454451]),\n",
       "   array([ 0.24904364, -0.00991296]),\n",
       "   array([ 0.153349  , -0.10802356]),\n",
       "   array([0.18295882, 0.01897433]),\n",
       "   array([0.20844656, 0.01076338]),\n",
       "   array([0.16582356, 0.14048844]),\n",
       "   array([0.07764118, 0.14300122]),\n",
       "   array([0.21837641, 0.04471364]),\n",
       "   array([0.15797982, 0.11530005]),\n",
       "   array([0.2634661 , 0.05125294]),\n",
       "   array([0.29699399, 0.07086123]),\n",
       "   array([0.13563308, 0.13548936]),\n",
       "   array([0.05171635, 0.14852013]),\n",
       "   array([ 0.1259502 , -0.04522697]),\n",
       "   array([0.21816749, 0.06584991]),\n",
       "   array([ 0.18550357, -0.01528162]),\n",
       "   array([0.1877022 , 0.10182079]),\n",
       "   array([ 0.29112149, -0.05190375]),\n",
       "   array([ 0.15726147, -0.24204993]),\n",
       "   array([0.21125312, 0.0894363 ]),\n",
       "   array([ 0.23950627, -0.07756575]),\n",
       "   array([0.24276799, 0.02987264]),\n",
       "   array([0.13279974, 0.07068577]),\n",
       "   array([ 0.15061109, -0.04689979]),\n",
       "   array([ 0.22801937, -0.00431978]),\n",
       "   array([ 0.25234066, -0.01762133]),\n",
       "   array([ 0.19677707, -0.06656388]),\n",
       "   array([0.12741154, 0.08791301]),\n",
       "   array([ 0.33532603, -0.00620286]),\n",
       "   array([ 0.24239099, -0.04374647]),\n",
       "   array([0.09456403, 0.05129932]),\n",
       "   array([ 0.16220471, -0.09370414]),\n",
       "   array([ 0.22323852, -0.11581591]),\n",
       "   array([0.15646225, 0.01020689]),\n",
       "   array([0.14112379, 0.10413648]),\n",
       "   array([0.22025446, 0.20988395]),\n",
       "   array([0.1285506 , 0.17023238]),\n",
       "   array([ 0.26929648, -0.09084637]),\n",
       "   array([0.19010409, 0.09129351]),\n",
       "   array([0.20009119, 0.0682545 ]),\n",
       "   array([0.18232917, 0.02896897]),\n",
       "   array([ 0.2299228 , -0.06618446]),\n",
       "   array([0.13027047, 0.17868722]),\n",
       "   array([0.11497469, 0.0867836 ]),\n",
       "   array([0.24294705, 0.01159469]),\n",
       "   array([0.16608421, 0.05008933]),\n",
       "   array([ 0.18432873, -0.08068637]),\n",
       "   array([0.2003438 , 0.02409464]),\n",
       "   array([ 0.22467373, -0.02966146]),\n",
       "   array([0.15300556, 0.07263224]),\n",
       "   array([ 0.27821557, -0.05973771]),\n",
       "   array([ 0.19655991, -0.07413549]),\n",
       "   array([ 0.19335042, -0.05129028]),\n",
       "   array([0.18291928, 0.0142077 ]),\n",
       "   array([0.04888978, 0.13675117]),\n",
       "   array([0.23517857, 0.04666238]),\n",
       "   array([0.19535074, 0.08534624]),\n",
       "   array([0.27053403, 0.03219447]),\n",
       "   array([ 0.16857085, -0.01678848]),\n",
       "   array([0.22276087, 0.11130483]),\n",
       "   array([0.36665102, 0.01639329]),\n",
       "   array([ 0.29898085, -0.03230214]),\n",
       "   array([ 0.15184069, -0.04919255]),\n",
       "   array([0.21989339, 0.1972564 ]),\n",
       "   array([0.12642051, 0.02079669]),\n",
       "   array([ 0.2143958 , -0.10138874]),\n",
       "   array([0.18782169, 0.03667328]),\n",
       "   array([ 0.25156632, -0.10704366]),\n",
       "   array([ 0.16594351, -0.06234765]),\n",
       "   array([0.27518524, 0.04503819]),\n",
       "   array([0.26435358, 0.15559622]),\n",
       "   array([0.19998884, 0.00260313]),\n",
       "   array([0.15969565, 0.16944294]),\n",
       "   array([ 0.2526738 , -0.06294525]),\n",
       "   array([ 0.26765238, -0.02070426]),\n",
       "   array([0.13638994, 0.0083601 ]),\n",
       "   array([ 0.16968579, -0.13199188]),\n",
       "   array([0.2248666 , 0.09845624]),\n",
       "   array([0.17200784, 0.05529333]),\n",
       "   array([ 0.23560447, -0.04080589]),\n",
       "   array([ 0.13906339, -0.10617268]),\n",
       "   array([0.10269602, 0.14158064]),\n",
       "   array([ 0.2053467 , -0.12378301]),\n",
       "   array([0.28139116, 0.03471559]),\n",
       "   array([ 0.20548147, -0.04364342]),\n",
       "   array([ 0.16653432, -0.05675613]),\n",
       "   array([0.1537277 , 0.01553369]),\n",
       "   array([0.13076697, 0.23170444]),\n",
       "   array([ 0.12796777, -0.09222012]),\n",
       "   array([ 0.28659891, -0.161235  ]),\n",
       "   array([ 0.20584784, -0.08504906]),\n",
       "   array([0.22897819, 0.06248564]),\n",
       "   array([ 0.17829222, -0.10833202]),\n",
       "   array([0.14985514, 0.01853342]),\n",
       "   array([ 0.3408076 , -0.08356586]),\n",
       "   array([0.21920668, 0.16670531]),\n",
       "   array([0.16717587, 0.08542317]),\n",
       "   array([0.24811221, 0.12860816]),\n",
       "   array([0.11962706, 0.1002736 ]),\n",
       "   array([ 0.21651904, -0.10682682]),\n",
       "   array([0.17903698, 0.01040989]),\n",
       "   array([0.20205496, 0.05707813])]}]"
      ]
     },
     "execution_count": 79,
     "metadata": {},
     "output_type": "execute_result"
    }
   ],
   "source": [
    "[\n",
    "        {\n",
    "            'name': f'Cluster {k+1}',\n",
    "            'color': colors[i],\n",
    "            'data': cluster_data[i]\n",
    "        }\n",
    "        for i in range(k)\n",
    "    ]"
   ]
  },
  {
   "cell_type": "code",
   "execution_count": 90,
   "metadata": {},
   "outputs": [],
   "source": [
    "color = ['red', 'blue', 'green', 'purple', 'yellow'] * 2"
   ]
  },
  {
   "cell_type": "code",
   "execution_count": 91,
   "metadata": {},
   "outputs": [
    {
     "data": {
      "text/plain": [
       "'red'"
      ]
     },
     "execution_count": 91,
     "metadata": {},
     "output_type": "execute_result"
    }
   ],
   "source": [
    "color[0]"
   ]
  },
  {
   "cell_type": "code",
   "execution_count": 92,
   "metadata": {},
   "outputs": [
    {
     "data": {
      "text/plain": [
       "<matplotlib.collections.PathCollection at 0x1a1aae1780>"
      ]
     },
     "execution_count": 92,
     "metadata": {},
     "output_type": "execute_result"
    },
    {
     "data": {
      "image/png": "[encoded data removed]",
      "text/plain": [
       "<Figure size 432x288 with 1 Axes>"
      ]
     },
     "metadata": {},
     "output_type": "display_data"
    }
   ],
   "source": [
    "plt.scatter(t[:, 0], t[:, 1], color=[color[int(c)] for c in assignments])"
   ]
  },
  {
   "cell_type": "code",
   "execution_count": 96,
   "metadata": {},
   "outputs": [
    {
     "data": {
      "text/plain": [
       "<matplotlib.collections.PathCollection at 0x10c001ef0>"
      ]
     },
     "execution_count": 96,
     "metadata": {},
     "output_type": "execute_result"
    },
    {
     "data": {
      "image/png": "[encoded data removed]",
      "text/plain": [
       "<Figure size 432x288 with 1 Axes>"
      ]
     },
     "metadata": {},
     "output_type": "display_data"
    }
   ],
   "source": [
    "plt.scatter(p[:, 0], p[:, 1], color=[color[int(c)] for c in assignments])"
   ]
  },
  {
   "cell_type": "code",
   "execution_count": null,
   "metadata": {},
   "outputs": [],
   "source": []
  }
 ],
 "metadata": {
  "kernelspec": {
   "display_name": "Python 3",
   "language": "python",
   "name": "python3"
  },
  "language_info": {
   "codemirror_mode": {
    "name": "ipython",
    "version": 3
   },
   "file_extension": ".py",
   "mimetype": "text/x-python",
   "name": "python",
   "nbconvert_exporter": "python",
   "pygments_lexer": "ipython3",
   "version": "3.6.5"
  }
 },
 "nbformat": 4,
 "nbformat_minor": 2
}
